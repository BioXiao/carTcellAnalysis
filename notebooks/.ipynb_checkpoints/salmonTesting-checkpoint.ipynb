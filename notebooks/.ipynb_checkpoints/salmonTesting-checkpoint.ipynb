{
 "metadata": {
  "name": "",
  "signature": "sha256:7dc73b1e6b312a1bcb8f5ee9377424dccd2b22e8c304321aaca2ae8929cd454b"
 },
 "nbformat": 3,
 "nbformat_minor": 0,
 "worksheets": [
  {
   "cells": [
    {
     "cell_type": "code",
     "collapsed": false,
     "input": [
      "import os, sys, re\n",
      "import time\n",
      "import pandas as pd\n",
      "import shutil\n",
      "from pprint import pprint"
     ],
     "language": "python",
     "metadata": {},
     "outputs": [],
     "prompt_number": 22
    },
    {
     "cell_type": "code",
     "collapsed": false,
     "input": [
      "def get_input_list(input_dir):\n",
      "    input_libs = [ os.path.join(dp, f) \\\n",
      "                   for dp,dn,fn in os.walk(input_dir) \\\n",
      "                   for f in fn if re.search('.*trimmed.fastq$', f) ]\n",
      "    return input_libs\n",
      "\n",
      "def get_lib_id(input_lib):\n",
      "    lib_id = re.search(\"lib[0-9]+\", input_lib).group()\n",
      "    return lib_id\n",
      "\n",
      "def get_proj_id(input_lib):\n",
      "    proj_re = re.compile('P+[0-9]+(-[0-9]+){,1}')\n",
      "    proj_id = proj_re.search(input_lib).group()\n",
      "\n",
      "    return proj_id\n",
      "\n",
      "def get_fc_id(input_lib):\n",
      "    input_lib = re.sub('EXTERNAL_[A-B]', 'EXTERNAL_', input_lib)\n",
      "    fc_re = re.compile('((?<=(EXTERNAL_))|(?<=(_[A-B]))).*XX')\n",
      "    fc_id = '_' + fc_re.search(input_lib)\n",
      "    if len(fc_id):\n",
      "        return fc_id.group()\n",
      "    else:\n",
      "        fc_id = re.search('(C|H).*XX', input_lib)\n",
      "        return fc_id.group()"
     ],
     "language": "python",
     "metadata": {},
     "outputs": [],
     "prompt_number": 30
    },
    {
     "cell_type": "code",
     "collapsed": false,
     "input": [
      "def run_salmon(input_lib, high_conf=False):\n",
      "    salmon_exec = \"time /Users/jaeddy/code/github/resources/SalmonBeta-0.5.0_OSX-10.10/bin/salmon quant\"\n",
      "    salmon_input = \"-r %s\" % input_lib\n",
      "\n",
      "    lib_id = get_lib_id(input_lib)\n",
      "    tmp_dir = \"tmp_%s\" % lib_id\n",
      "    salmon_output = \"-o %s\" % tmp_dir\n",
      "    \n",
      "    if not high_conf:\n",
      "        salmon_params = \"-i ../data/indexes/salmon/carTranscript -l U\"\n",
      "    else:\n",
      "        salmon_params = \"-i ../data/indexes/salmon/GRCh38_CAR -l U\"\n",
      "    \n",
      "    salmon_cmd = (' ').join([salmon_exec, salmon_params, salmon_input, salmon_output])\n",
      "    status = os.system(salmon_cmd)\n",
      "    \n",
      "    if status:\n",
      "        return \"Error!\"\n",
      "    else:\n",
      "        quant_file = os.path.join(tmp_dir, 'quant.sf')\n",
      "        quant_df = pd.read_csv(quant_file, sep = '\\t', skiprows = 8)\n",
      "        num_hits = quant_df['NumReads'][0]\n",
      "        if high_conf:\n",
      "            tpm = quant_df['TPM'][0]\n",
      "        else:\n",
      "            tpm = \"NA\"\n",
      "        shutil.rmtree(tmp_dir)\n",
      "        return (lib_id, num_hits, tpm)"
     ],
     "language": "python",
     "metadata": {},
     "outputs": [],
     "prompt_number": 18
    },
    {
     "cell_type": "code",
     "collapsed": false,
     "input": [
      "def build_car_gene_dict(input_libs):\n",
      "    car_gene_dict = {}\n",
      "    \n",
      "    # first pass\n",
      "    print \"First pass...\"\n",
      "    for lib in input_libs:\n",
      "        print \"Running on %s...\" % lib\n",
      "        start_time = time.time()\n",
      "        lib_id,num_hits,tpm = run_salmon(lib)\n",
      "        car_gene_dict[lib_id] = {'num_reads': num_hits, 'tpm': tpm}\n",
      "        print time.time() - start_time\n",
      "    \n",
      "    nonzero_libs = [ l for l in car_gene_dict \\\n",
      "                     if not car_gene_dict[l]['num_reads'] == 0 ]\n",
      "    input_libs = [ i for i in input_libs \\\n",
      "                   if get_lib_id(i) in nonzero_libs ]\n",
      "    \n",
      "    # second pass\n",
      "    print \"\\nSecond pass...\"\n",
      "    for lib in input_libs:\n",
      "        print \"Running on %s...\" % lib\n",
      "        start_time = time.time()\n",
      "        lib_id,num_hits,tpm = run_salmon(lib, get_tpm=True)\n",
      "        car_gene_dict[lib_id] = {'num_reads': num_hits, 'tpm': tpm}\n",
      "        print time.time() - start_time\n",
      "    pprint(car_gene_dict)\n",
      "        \n",
      "    return car_gene_dict\n",
      "    \n",
      "    "
     ],
     "language": "python",
     "metadata": {},
     "outputs": [],
     "prompt_number": 19
    },
    {
     "cell_type": "code",
     "collapsed": false,
     "input": [
      "input_dir = \"../data/P89/P89-5/\"\n",
      "# input_dir = \"../data/inFastqs/\"\n",
      "\n",
      "input_libs = get_input_list(input_dir)\n",
      "car_gene_dict = build_car_gene_dict(input_libs)"
     ],
     "language": "python",
     "metadata": {},
     "outputs": [
      {
       "output_type": "stream",
       "stream": "stdout",
       "text": [
        "First pass...\n",
        "Running on ../data/P89/P89-5/lib8582_C6REVANXX_trimmed.fastq...\n",
        "11.125385046"
       ]
      },
      {
       "output_type": "stream",
       "stream": "stdout",
       "text": [
        "\n",
        "Running on ../data/P89/P89-5/lib8583_C6REVANXX_trimmed.fastq...\n",
        "8.92299294472"
       ]
      },
      {
       "output_type": "stream",
       "stream": "stdout",
       "text": [
        "\n",
        "Running on ../data/P89/P89-5/150910/lib8574_C6REVANXX_trimmed.fastq...\n",
        "13.3449020386"
       ]
      },
      {
       "output_type": "stream",
       "stream": "stdout",
       "text": [
        "\n",
        "Running on ../data/P89/P89-5/150910/lib8575_C6REVANXX_trimmed.fastq...\n",
        "16.996984005"
       ]
      },
      {
       "output_type": "stream",
       "stream": "stdout",
       "text": [
        "\n",
        "Running on ../data/P89/P89-5/150910/lib8576_C6REVANXX_trimmed.fastq...\n",
        "14.2526059151"
       ]
      },
      {
       "output_type": "stream",
       "stream": "stdout",
       "text": [
        "\n",
        "Running on ../data/P89/P89-5/150910/lib8577_C6REVANXX_trimmed.fastq...\n",
        "19.5648059845"
       ]
      },
      {
       "output_type": "stream",
       "stream": "stdout",
       "text": [
        "\n",
        "Running on ../data/P89/P89-5/150910/lib8578_C6REVANXX_trimmed.fastq...\n",
        "13.0632519722"
       ]
      },
      {
       "output_type": "stream",
       "stream": "stdout",
       "text": [
        "\n",
        "Running on ../data/P89/P89-5/150910/lib8579_C6REVANXX_trimmed.fastq...\n",
        "5.05876708031"
       ]
      },
      {
       "output_type": "stream",
       "stream": "stdout",
       "text": [
        "\n",
        "Running on ../data/P89/P89-5/150910/lib8580_C6REVANXX_trimmed.fastq...\n",
        "19.7454140186"
       ]
      },
      {
       "output_type": "stream",
       "stream": "stdout",
       "text": [
        "\n",
        "Running on ../data/P89/P89-5/150910/lib8581_C6REVANXX_trimmed.fastq...\n",
        "2.78437209129"
       ]
      },
      {
       "output_type": "stream",
       "stream": "stdout",
       "text": [
        "\n",
        "{'lib8574': {'num_reads': 0, 'tpm': 0},\n",
        " 'lib8575': {'num_reads': 22, 'tpm': 0},\n",
        " 'lib8576': {'num_reads': 1756, 'tpm': 0},\n",
        " 'lib8577': {'num_reads': 0, 'tpm': 0},\n",
        " 'lib8578': {'num_reads': 61, 'tpm': 0},\n",
        " 'lib8579': {'num_reads': 9, 'tpm': 0},\n",
        " 'lib8580': {'num_reads': 0, 'tpm': 0},\n",
        " 'lib8581': {'num_reads': 0, 'tpm': 0},\n",
        " 'lib8582': {'num_reads': 0, 'tpm': 0},\n",
        " 'lib8583': {'num_reads': 277, 'tpm': 0}}\n",
        "\n",
        "Second pass...\n",
        "Running on ../data/P89/P89-5/lib8583_C6REVANXX_trimmed.fastq...\n",
        "24.7632911205"
       ]
      },
      {
       "output_type": "stream",
       "stream": "stdout",
       "text": [
        "\n",
        "Running on ../data/P89/P89-5/150910/lib8575_C6REVANXX_trimmed.fastq...\n",
        "29.6746191978"
       ]
      },
      {
       "output_type": "stream",
       "stream": "stdout",
       "text": [
        "\n",
        "Running on ../data/P89/P89-5/150910/lib8576_C6REVANXX_trimmed.fastq...\n",
        "27.5340030193"
       ]
      },
      {
       "output_type": "stream",
       "stream": "stdout",
       "text": [
        "\n",
        "Running on ../data/P89/P89-5/150910/lib8578_C6REVANXX_trimmed.fastq...\n",
        "26.1449170113"
       ]
      },
      {
       "output_type": "stream",
       "stream": "stdout",
       "text": [
        "\n",
        "Running on ../data/P89/P89-5/150910/lib8579_C6REVANXX_trimmed.fastq...\n",
        "18.711263895"
       ]
      },
      {
       "output_type": "stream",
       "stream": "stdout",
       "text": [
        "\n",
        "{'lib8574': {'num_reads': 0, 'tpm': 0},\n",
        " 'lib8575': {'num_reads': 0.0, 'tpm': 0.0},\n",
        " 'lib8576': {'num_reads': 1740.0, 'tpm': 346.15300000000002},\n",
        " 'lib8577': {'num_reads': 0, 'tpm': 0},\n",
        " 'lib8578': {'num_reads': 0.0, 'tpm': 0.0},\n",
        " 'lib8579': {'num_reads': 0.0, 'tpm': 0.0},\n",
        " 'lib8580': {'num_reads': 0, 'tpm': 0},\n",
        " 'lib8581': {'num_reads': 0, 'tpm': 0},\n",
        " 'lib8582': {'num_reads': 0, 'tpm': 0},\n",
        " 'lib8583': {'num_reads': 0.0, 'tpm': 0.0}}\n"
       ]
      }
     ],
     "prompt_number": 20
    },
    {
     "cell_type": "code",
     "collapsed": false,
     "input": [
      "pd.DataFrame(car_gene_dict).transpose()"
     ],
     "language": "python",
     "metadata": {},
     "outputs": [
      {
       "html": [
        "<div style=\"max-width:1500px;overflow:auto;\">\n",
        "<table border=\"1\" class=\"dataframe\">\n",
        "  <thead>\n",
        "    <tr style=\"text-align: right;\">\n",
        "      <th></th>\n",
        "      <th>num_reads</th>\n",
        "      <th>tpm</th>\n",
        "    </tr>\n",
        "  </thead>\n",
        "  <tbody>\n",
        "    <tr>\n",
        "      <th>lib8574</th>\n",
        "      <td>0</td>\n",
        "      <td>0.000</td>\n",
        "    </tr>\n",
        "    <tr>\n",
        "      <th>lib8575</th>\n",
        "      <td>0</td>\n",
        "      <td>0.000</td>\n",
        "    </tr>\n",
        "    <tr>\n",
        "      <th>lib8576</th>\n",
        "      <td>1740</td>\n",
        "      <td>345.339</td>\n",
        "    </tr>\n",
        "    <tr>\n",
        "      <th>lib8577</th>\n",
        "      <td>0</td>\n",
        "      <td>0.000</td>\n",
        "    </tr>\n",
        "    <tr>\n",
        "      <th>lib8578</th>\n",
        "      <td>0</td>\n",
        "      <td>0.000</td>\n",
        "    </tr>\n",
        "    <tr>\n",
        "      <th>lib8579</th>\n",
        "      <td>0</td>\n",
        "      <td>0.000</td>\n",
        "    </tr>\n",
        "    <tr>\n",
        "      <th>lib8580</th>\n",
        "      <td>0</td>\n",
        "      <td>0.000</td>\n",
        "    </tr>\n",
        "    <tr>\n",
        "      <th>lib8581</th>\n",
        "      <td>0</td>\n",
        "      <td>0.000</td>\n",
        "    </tr>\n",
        "    <tr>\n",
        "      <th>lib8582</th>\n",
        "      <td>0</td>\n",
        "      <td>0.000</td>\n",
        "    </tr>\n",
        "    <tr>\n",
        "      <th>lib8583</th>\n",
        "      <td>0</td>\n",
        "      <td>0.000</td>\n",
        "    </tr>\n",
        "  </tbody>\n",
        "</table>\n",
        "</div>"
       ],
       "metadata": {},
       "output_type": "pyout",
       "prompt_number": 17,
       "text": [
        "         num_reads      tpm\n",
        "lib8574          0    0.000\n",
        "lib8575          0    0.000\n",
        "lib8576       1740  345.339\n",
        "lib8577          0    0.000\n",
        "lib8578          0    0.000\n",
        "lib8579          0    0.000\n",
        "lib8580          0    0.000\n",
        "lib8581          0    0.000\n",
        "lib8582          0    0.000\n",
        "lib8583          0    0.000"
       ]
      }
     ],
     "prompt_number": 17
    },
    {
     "cell_type": "code",
     "collapsed": false,
     "input": [
      "get_proj_id(input_libs[0])"
     ],
     "language": "python",
     "metadata": {},
     "outputs": [
      {
       "metadata": {},
       "output_type": "pyout",
       "prompt_number": 31,
       "text": [
        "'P89'"
       ]
      }
     ],
     "prompt_number": 31
    },
    {
     "cell_type": "code",
     "collapsed": false,
     "input": [
      "proj_re = re.compile('P+[0-9]+(-[0-9]+)*')\n",
      "proj_re.match(input_libs[0])"
     ],
     "language": "python",
     "metadata": {},
     "outputs": [],
     "prompt_number": 46
    },
    {
     "cell_type": "code",
     "collapsed": false,
     "input": [],
     "language": "python",
     "metadata": {},
     "outputs": []
    }
   ],
   "metadata": {}
  }
 ]
}
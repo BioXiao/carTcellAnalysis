{
 "metadata": {
  "name": "",
  "signature": "sha256:a2fab85166cc906a0e2681cfea53f5ed0bce3a0a961d6c256ad3600d0eaa6887"
 },
 "nbformat": 3,
 "nbformat_minor": 0,
 "worksheets": [
  {
   "cells": [
    {
     "cell_type": "code",
     "collapsed": false,
     "input": [
      "import os, sys, re\n",
      "import time\n",
      "import pandas as pd\n",
      "from pprint import pprint"
     ],
     "language": "python",
     "metadata": {},
     "outputs": [],
     "prompt_number": 18
    },
    {
     "cell_type": "code",
     "collapsed": false,
     "input": [
      "def get_input_list(input_dir):\n",
      "    input_libs = [ os.path.join(dp, f) \\\n",
      "                   for dp,dn,fn in os.walk(input_dir) \\\n",
      "                   for f in fn if re.search('.*trimmed.fastq$', f) ]\n",
      "    return input_libs\n",
      "\n",
      "def get_lib_id(input_lib):\n",
      "    lib_id = re.search(\"lib[0-9]+\", input_lib).group()\n",
      "    return lib_id\n"
     ],
     "language": "python",
     "metadata": {},
     "outputs": [],
     "prompt_number": 2
    },
    {
     "cell_type": "code",
     "collapsed": false,
     "input": [
      "def run_salmon(input_lib, get_tpm=False):\n",
      "    salmon_exec = \"time /Users/jaeddy/code/github/resources/SalmonBeta-0.5.0_OSX-10.10/bin/salmon quant\"\n",
      "    salmon_input = \"-r %s\" % input_lib\n",
      "\n",
      "    lib_id = get_lib_id(input_lib)\n",
      "    tmp_dir = \"tmp_%s\" % lib_id\n",
      "    salmon_output = \"-o %s\" % tmp_dir\n",
      "    \n",
      "    if not get_tpm:\n",
      "        salmon_params = \"-i ../data/indexes/salmon/carTranscript -l U\"\n",
      "    else:\n",
      "        salmon_params = \"-i ../data/indexes/salmon/GRCh38_CAR -l U\"\n",
      "    \n",
      "    salmon_cmd = (' ').join([salmon_exec, salmon_params, salmon_input, salmon_output])\n",
      "    status = os.system(salmon_cmd)\n",
      "    \n",
      "    if status:\n",
      "        return \"Error!\"\n",
      "    else:\n",
      "        quant_file = os.path.join(tmp_dir, 'quant.sf')\n",
      "        quant_df = pd.read_csv(quant_file, sep = '\\t', skiprows = 8)\n",
      "        num_hits = quant_df['NumReads'][0]\n",
      "        if get_tpm:\n",
      "            tpm = quant_df['TPM'][0]\n",
      "        else:\n",
      "            tpm = 0\n",
      "        return (lib_id, num_hits, tpm)"
     ],
     "language": "python",
     "metadata": {},
     "outputs": [],
     "prompt_number": 5
    },
    {
     "cell_type": "code",
     "collapsed": false,
     "input": [
      "def build_car_gene_dict(input_libs):\n",
      "    car_gene_dict = {}\n",
      "    \n",
      "    # first pass\n",
      "    print \"First pass...\"\n",
      "    for lib in input_libs:\n",
      "        print \"Running on %s...\" % lib\n",
      "        start_time = time.time()\n",
      "        lib_id,num_hits,tpm = run_salmon(lib)\n",
      "        car_gene_dict[lib_id] = {'num_reads': num_hits, 'tpm': tpm}\n",
      "        print time.time() - start_time\n",
      "    pprint(car_gene_dict)\n",
      "    \n",
      "    nonzero_libs = [ l for l in car_gene_dict \\\n",
      "                     if not car_gene_dict[l]['num_reads'] == 0 ]\n",
      "    input_libs = [ i for i in input_libs \\\n",
      "                   if get_lib_id(i) in nonzero_libs ]\n",
      "    \n",
      "    # second pass\n",
      "    print \"\\nSecond pass...\"\n",
      "    for lib in input_libs:\n",
      "        print \"Running on %s...\" % lib\n",
      "        start_time = time.time()\n",
      "        lib_id,num_hits,tpm = run_salmon(lib, get_tpm=True)\n",
      "        car_gene_dict[lib_id] = {'num_reads': num_hits, 'tpm': tpm}\n",
      "        print time.time() - start_time\n",
      "    pprint(car_gene_dict)\n",
      "        \n",
      "    return car_gene_dict\n",
      "    \n",
      "    "
     ],
     "language": "python",
     "metadata": {},
     "outputs": [],
     "prompt_number": 19
    },
    {
     "cell_type": "code",
     "collapsed": false,
     "input": [
      "input_dir = \"../data/P89/P89-5/\"\n",
      "# input_dir = \"../data/inFastqs/\"\n",
      "\n",
      "input_libs = get_input_list(input_dir)\n",
      "car_gene_dict = build_car_gene_dict(input_libs[0:3])"
     ],
     "language": "python",
     "metadata": {},
     "outputs": [
      {
       "output_type": "stream",
       "stream": "stdout",
       "text": [
        "First pass...\n",
        "Running on ../data/P89/P89-5/lib8582_C6REVANXX_trimmed.fastq...\n",
        "10.5913758278"
       ]
      },
      {
       "output_type": "stream",
       "stream": "stdout",
       "text": [
        "\n",
        "Running on ../data/P89/P89-5/lib8583_C6REVANXX_trimmed.fastq...\n",
        "8.00008296967"
       ]
      },
      {
       "output_type": "stream",
       "stream": "stdout",
       "text": [
        "\n",
        "Running on ../data/P89/P89-5/150910/lib8574_C6REVANXX_trimmed.fastq...\n",
        "13.2494797707"
       ]
      },
      {
       "output_type": "stream",
       "stream": "stdout",
       "text": [
        "\n",
        "{'lib8574': {'num_reads': 0, 'tpm': 0},\n",
        " 'lib8582': {'num_reads': 0, 'tpm': 0},\n",
        " 'lib8583': {'num_reads': 277, 'tpm': 0}}\n",
        "\n",
        "Second pass...\n",
        "Running on ../data/P89/P89-5/lib8583_C6REVANXX_trimmed.fastq...\n",
        "24.6939411163"
       ]
      },
      {
       "output_type": "stream",
       "stream": "stdout",
       "text": [
        "\n",
        "{'lib8574': {'num_reads': 0, 'tpm': 0},\n",
        " 'lib8582': {'num_reads': 0, 'tpm': 0},\n",
        " 'lib8583': {'num_reads': 0.0, 'tpm': 0.0}}\n"
       ]
      }
     ],
     "prompt_number": 20
    },
    {
     "cell_type": "code",
     "collapsed": false,
     "input": [
      "pd.DataFrame(car_gene_dict).transpose()"
     ],
     "language": "python",
     "metadata": {},
     "outputs": [
      {
       "html": [
        "<div style=\"max-width:1500px;overflow:auto;\">\n",
        "<table border=\"1\" class=\"dataframe\">\n",
        "  <thead>\n",
        "    <tr style=\"text-align: right;\">\n",
        "      <th></th>\n",
        "      <th>num_reads</th>\n",
        "      <th>tpm</th>\n",
        "    </tr>\n",
        "  </thead>\n",
        "  <tbody>\n",
        "    <tr>\n",
        "      <th>lib8574</th>\n",
        "      <td>0</td>\n",
        "      <td>0.000</td>\n",
        "    </tr>\n",
        "    <tr>\n",
        "      <th>lib8575</th>\n",
        "      <td>0</td>\n",
        "      <td>0.000</td>\n",
        "    </tr>\n",
        "    <tr>\n",
        "      <th>lib8576</th>\n",
        "      <td>1740</td>\n",
        "      <td>345.339</td>\n",
        "    </tr>\n",
        "    <tr>\n",
        "      <th>lib8577</th>\n",
        "      <td>0</td>\n",
        "      <td>0.000</td>\n",
        "    </tr>\n",
        "    <tr>\n",
        "      <th>lib8578</th>\n",
        "      <td>0</td>\n",
        "      <td>0.000</td>\n",
        "    </tr>\n",
        "    <tr>\n",
        "      <th>lib8579</th>\n",
        "      <td>0</td>\n",
        "      <td>0.000</td>\n",
        "    </tr>\n",
        "    <tr>\n",
        "      <th>lib8580</th>\n",
        "      <td>0</td>\n",
        "      <td>0.000</td>\n",
        "    </tr>\n",
        "    <tr>\n",
        "      <th>lib8581</th>\n",
        "      <td>0</td>\n",
        "      <td>0.000</td>\n",
        "    </tr>\n",
        "    <tr>\n",
        "      <th>lib8582</th>\n",
        "      <td>0</td>\n",
        "      <td>0.000</td>\n",
        "    </tr>\n",
        "    <tr>\n",
        "      <th>lib8583</th>\n",
        "      <td>0</td>\n",
        "      <td>0.000</td>\n",
        "    </tr>\n",
        "  </tbody>\n",
        "</table>\n",
        "</div>"
       ],
       "metadata": {},
       "output_type": "pyout",
       "prompt_number": 17,
       "text": [
        "         num_reads      tpm\n",
        "lib8574          0    0.000\n",
        "lib8575          0    0.000\n",
        "lib8576       1740  345.339\n",
        "lib8577          0    0.000\n",
        "lib8578          0    0.000\n",
        "lib8579          0    0.000\n",
        "lib8580          0    0.000\n",
        "lib8581          0    0.000\n",
        "lib8582          0    0.000\n",
        "lib8583          0    0.000"
       ]
      }
     ],
     "prompt_number": 17
    }
   ],
   "metadata": {}
  }
 ]
}
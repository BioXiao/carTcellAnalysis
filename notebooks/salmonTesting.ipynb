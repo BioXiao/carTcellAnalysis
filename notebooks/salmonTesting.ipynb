{
 "metadata": {
  "name": "",
  "signature": "sha256:244e4e2894c21311c77ee7e33baee5058d805fa3b5c565e920038979009628e3"
 },
 "nbformat": 3,
 "nbformat_minor": 0,
 "worksheets": [
  {
   "cells": [
    {
     "cell_type": "code",
     "collapsed": false,
     "input": [
      "import os, sys, re\n",
      "import time\n",
      "import pandas as pd"
     ],
     "language": "python",
     "metadata": {},
     "outputs": [],
     "prompt_number": 49
    },
    {
     "cell_type": "code",
     "collapsed": false,
     "input": [
      "def get_input_list(input_dir):\n",
      "    input_libs = [ os.path.join(dp, f) \\\n",
      "                   for dp,dn,fn in os.walk(input_dir) \\\n",
      "                   for f in fn if re.search('.*trimmed.fastq$', f) ]\n",
      "    return input_libs\n",
      "\n",
      "def get_lib_id(input_lib):\n",
      "    lib_id = re.search(\"lib[0-9]+\", input_lib).group()\n",
      "    return lib_id\n"
     ],
     "language": "python",
     "metadata": {},
     "outputs": [],
     "prompt_number": 24
    },
    {
     "cell_type": "code",
     "collapsed": false,
     "input": [
      "input_dir = \"../data/P89/P89-5/\"\n",
      "# input_dir = \"../data/inFastqs/\""
     ],
     "language": "python",
     "metadata": {},
     "outputs": [],
     "prompt_number": 35
    },
    {
     "cell_type": "code",
     "collapsed": false,
     "input": [
      "input_libs = get_input_list(input_dir)\n",
      "input_libs[0:2]"
     ],
     "language": "python",
     "metadata": {},
     "outputs": [
      {
       "metadata": {},
       "output_type": "pyout",
       "prompt_number": 38,
       "text": [
        "['../data/P89/P89-5/lib8582_C6REVANXX_trimmed.fastq',\n",
        " '../data/P89/P89-5/lib8583_C6REVANXX_trimmed.fastq']"
       ]
      }
     ],
     "prompt_number": 38
    },
    {
     "cell_type": "code",
     "collapsed": false,
     "input": [
      "def run_salmon(input_lib, get_tpm=False):\n",
      "    salmon_exec = \"time /Users/jaeddy/code/github/resources/SalmonBeta-0.5.0_OSX-10.10/bin/salmon quant\"\n",
      "    salmon_input = \"-r %s\" % input_lib\n",
      "\n",
      "    lib_id = get_lib_id(input_lib)\n",
      "    tmp_dir = \"tmp_%s\" % lib_id\n",
      "    salmon_output = \"-o %s\" % tmp_dir\n",
      "    \n",
      "    if not get_tpm:\n",
      "        salmon_params = \"-i ../data/indexes/salmon/carTranscript -l U\"\n",
      "    else:\n",
      "        salmon_params = \"-i ../data/indexes/salmon/GRCh38_CAR -l U\"\n",
      "    \n",
      "    salmon_cmd = (' ').join([salmon_exec, salmon_params, salmon_input, salmon_output])\n",
      "    status = os.system(salmon_cmd)\n",
      "    \n",
      "    if status:\n",
      "        return \"Error!\"\n",
      "    else:\n",
      "        quant_file = os.path.join(tmp_dir, 'quant.sf')\n",
      "        quant_df = pd.read_csv(quant_file, sep = '\\t', skiprows = 8)\n",
      "        num_hits = quant_df['NumReads'][0]\n",
      "        if get_tpm:\n",
      "            tpm = quant_df['TPM'][0]\n",
      "        else:\n",
      "            tpm = 0\n",
      "        return (lib_id, num_hits, tpm)"
     ],
     "language": "python",
     "metadata": {},
     "outputs": [],
     "prompt_number": 71
    },
    {
     "cell_type": "code",
     "collapsed": false,
     "input": [
      "car_gene_dict = {}\n",
      "for lib in input_libs:\n",
      "    print \"Running on %s...\" % lib\n",
      "    start_time = time.time()\n",
      "    lib_id,num_hits,tpm = run_salmon(lib)\n",
      "    car_gene_dict[lib_id] = {'num_reads': num_hits, 'tpm': tpm}\n",
      "    print time.time() - start_time"
     ],
     "language": "python",
     "metadata": {},
     "outputs": [
      {
       "output_type": "stream",
       "stream": "stdout",
       "text": [
        "Running on ../data/P89/P89-5/lib8582_C6REVANXX_trimmed.fastq...\n",
        "19.0000231266"
       ]
      },
      {
       "output_type": "stream",
       "stream": "stdout",
       "text": [
        "\n",
        "Running on ../data/P89/P89-5/lib8583_C6REVANXX_trimmed.fastq...\n",
        "15.0055179596"
       ]
      },
      {
       "output_type": "stream",
       "stream": "stdout",
       "text": [
        "\n",
        "Running on ../data/P89/P89-5/150910/lib8574_C6REVANXX_trimmed.fastq...\n",
        "26.0734801292"
       ]
      },
      {
       "output_type": "stream",
       "stream": "stdout",
       "text": [
        "\n",
        "Running on ../data/P89/P89-5/150910/lib8575_C6REVANXX_trimmed.fastq...\n",
        "32.7787811756"
       ]
      },
      {
       "output_type": "stream",
       "stream": "stdout",
       "text": [
        "\n",
        "Running on ../data/P89/P89-5/150910/lib8576_C6REVANXX_trimmed.fastq...\n",
        "28.2142810822"
       ]
      },
      {
       "output_type": "stream",
       "stream": "stdout",
       "text": [
        "\n",
        "Running on ../data/P89/P89-5/150910/lib8577_C6REVANXX_trimmed.fastq...\n",
        "31.7020428181"
       ]
      },
      {
       "output_type": "stream",
       "stream": "stdout",
       "text": [
        "\n",
        "Running on ../data/P89/P89-5/150910/lib8578_C6REVANXX_trimmed.fastq...\n",
        "21.6165568829"
       ]
      },
      {
       "output_type": "stream",
       "stream": "stdout",
       "text": [
        "\n",
        "Running on ../data/P89/P89-5/150910/lib8579_C6REVANXX_trimmed.fastq...\n",
        "8.62988400459"
       ]
      },
      {
       "output_type": "stream",
       "stream": "stdout",
       "text": [
        "\n",
        "Running on ../data/P89/P89-5/150910/lib8580_C6REVANXX_trimmed.fastq...\n",
        "33.6293799877"
       ]
      },
      {
       "output_type": "stream",
       "stream": "stdout",
       "text": [
        "\n",
        "Running on ../data/P89/P89-5/150910/lib8581_C6REVANXX_trimmed.fastq...\n",
        "4.05886816978"
       ]
      },
      {
       "output_type": "stream",
       "stream": "stdout",
       "text": [
        "\n"
       ]
      }
     ],
     "prompt_number": 76
    },
    {
     "cell_type": "code",
     "collapsed": false,
     "input": [
      "pd.DataFrame(car_gene_dict).transpose()"
     ],
     "language": "python",
     "metadata": {},
     "outputs": [
      {
       "html": [
        "<div style=\"max-width:1500px;overflow:auto;\">\n",
        "<table border=\"1\" class=\"dataframe\">\n",
        "  <thead>\n",
        "    <tr style=\"text-align: right;\">\n",
        "      <th></th>\n",
        "      <th>num_reads</th>\n",
        "      <th>tpm</th>\n",
        "    </tr>\n",
        "  </thead>\n",
        "  <tbody>\n",
        "    <tr>\n",
        "      <th>lib8574</th>\n",
        "      <td>0</td>\n",
        "      <td>0</td>\n",
        "    </tr>\n",
        "    <tr>\n",
        "      <th>lib8575</th>\n",
        "      <td>22</td>\n",
        "      <td>0</td>\n",
        "    </tr>\n",
        "    <tr>\n",
        "      <th>lib8576</th>\n",
        "      <td>1756</td>\n",
        "      <td>0</td>\n",
        "    </tr>\n",
        "    <tr>\n",
        "      <th>lib8577</th>\n",
        "      <td>0</td>\n",
        "      <td>0</td>\n",
        "    </tr>\n",
        "    <tr>\n",
        "      <th>lib8578</th>\n",
        "      <td>61</td>\n",
        "      <td>0</td>\n",
        "    </tr>\n",
        "    <tr>\n",
        "      <th>lib8579</th>\n",
        "      <td>9</td>\n",
        "      <td>0</td>\n",
        "    </tr>\n",
        "    <tr>\n",
        "      <th>lib8580</th>\n",
        "      <td>0</td>\n",
        "      <td>0</td>\n",
        "    </tr>\n",
        "    <tr>\n",
        "      <th>lib8581</th>\n",
        "      <td>0</td>\n",
        "      <td>0</td>\n",
        "    </tr>\n",
        "    <tr>\n",
        "      <th>lib8582</th>\n",
        "      <td>0</td>\n",
        "      <td>0</td>\n",
        "    </tr>\n",
        "    <tr>\n",
        "      <th>lib8583</th>\n",
        "      <td>277</td>\n",
        "      <td>0</td>\n",
        "    </tr>\n",
        "  </tbody>\n",
        "</table>\n",
        "</div>"
       ],
       "metadata": {},
       "output_type": "pyout",
       "prompt_number": 77,
       "text": [
        "         num_reads  tpm\n",
        "lib8574          0    0\n",
        "lib8575         22    0\n",
        "lib8576       1756    0\n",
        "lib8577          0    0\n",
        "lib8578         61    0\n",
        "lib8579          9    0\n",
        "lib8580          0    0\n",
        "lib8581          0    0\n",
        "lib8582          0    0\n",
        "lib8583        277    0"
       ]
      }
     ],
     "prompt_number": 77
    },
    {
     "cell_type": "code",
     "collapsed": false,
     "input": [
      "[lib for lib in car_gene_dict if not car_gene_dict[lib]['num_reads'] == 0 ]"
     ],
     "language": "python",
     "metadata": {},
     "outputs": [
      {
       "metadata": {},
       "output_type": "pyout",
       "prompt_number": 83,
       "text": [
        "['lib8576', 'lib8575', 'lib8578', 'lib8579', 'lib8583']"
       ]
      }
     ],
     "prompt_number": 83
    },
    {
     "cell_type": "code",
     "collapsed": false,
     "input": [],
     "language": "python",
     "metadata": {},
     "outputs": []
    }
   ],
   "metadata": {}
  }
 ]
}
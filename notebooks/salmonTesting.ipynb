{
 "metadata": {
  "name": "",
  "signature": "sha256:62f7237ce0f932983c7a938c843c6a614a843e4a6dd879fb1dcab32af11fd3f5"
 },
 "nbformat": 3,
 "nbformat_minor": 0,
 "worksheets": [
  {
   "cells": [
    {
     "cell_type": "code",
     "collapsed": false,
     "input": [
      "import os, sys, re\n",
      "import time\n",
      "import pandas as pd\n",
      "import shutil\n",
      "from pprint import pprint"
     ],
     "language": "python",
     "metadata": {},
     "outputs": [],
     "prompt_number": 107
    },
    {
     "cell_type": "code",
     "collapsed": false,
     "input": [
      "def get_input_list(input_dir):\n",
      "    input_libs = [ os.path.join(dp, f) \\\n",
      "                   for dp,dn,fn in os.walk(input_dir) \\\n",
      "                   for f in fn if re.search('.*trimmed.fastq$', f) ]\n",
      "    return input_libs\n",
      "\n",
      "def get_lib_id(input_lib):\n",
      "    lib_id = re.search(\"lib[0-9]+\", input_lib).group()\n",
      "    return lib_id\n",
      "\n",
      "def get_proj_id(input_lib):\n",
      "    proj_re = re.compile('P+[0-9]+(-[0-9]+){,1}')\n",
      "    proj_id = proj_re.search(input_lib).group()\n",
      "\n",
      "    return proj_id\n",
      "\n",
      "def get_fc_id(input_lib):\n",
      "    input_lib = re.sub('EXTERNAL_[A-B]', 'EXTERNAL_', input_lib)\n",
      "    fc_re = re.compile('((?<=(EXTERNAL_))|(?<=(_[A-B]))).*?XX')\n",
      "    fc_id = fc_re.search(input_lib)\n",
      "    if fc_id:\n",
      "        return fc_id.group()\n",
      "    else:\n",
      "        fc_id = re.search('(C|H).*XX', input_lib)\n",
      "        return fc_id.group()"
     ],
     "language": "python",
     "metadata": {},
     "outputs": [],
     "prompt_number": 92
    },
    {
     "cell_type": "code",
     "collapsed": false,
     "input": [
      "def run_salmon(input_lib, high_conf=False):\n",
      "    salmon_exec = \"time /Users/jaeddy/code/github/resources/SalmonBeta-0.5.0_OSX-10.10/bin/salmon quant\"\n",
      "    salmon_input = \"-r %s\" % input_lib\n",
      "\n",
      "    lib_id = get_lib_id(input_lib)\n",
      "    tmp_dir = \"tmp_%s\" % lib_id\n",
      "    salmon_output = \"-o %s\" % tmp_dir\n",
      "    \n",
      "    if not high_conf:\n",
      "        salmon_params = \"-i ../data/indexes/salmon/carTranscript -l U\"\n",
      "    else:\n",
      "        salmon_params = \"-i ../data/indexes/salmon/GRCh38_CAR -l U\"\n",
      "    \n",
      "    salmon_cmd = (' ').join([salmon_exec, salmon_params, salmon_input, salmon_output])\n",
      "    status = os.system(salmon_cmd)\n",
      "    \n",
      "    if status:\n",
      "        return \"Error!\"\n",
      "    else:\n",
      "        quant_file = os.path.join(tmp_dir, 'quant.sf')\n",
      "        quant_df = pd.read_csv(quant_file, sep = '\\t', skiprows = 8)\n",
      "        num_hits = quant_df['NumReads'][0]\n",
      "        if high_conf:\n",
      "            tpm = quant_df['TPM'][0]\n",
      "        else:\n",
      "            tpm = \"NA\"\n",
      "        shutil.rmtree(tmp_dir)\n",
      "        return (lib_id, num_hits, tpm)"
     ],
     "language": "python",
     "metadata": {},
     "outputs": [],
     "prompt_number": 87
    },
    {
     "cell_type": "code",
     "collapsed": false,
     "input": [
      "def build_car_gene_dict(input_libs):\n",
      "    car_gene_dict = {}\n",
      "    \n",
      "    # first pass\n",
      "    for idx,lib in enumerate(input_libs):\n",
      "        print \"First pass >> lib %s of %s:\" % (idx, len(input_libs)) \n",
      "        print \"Running on %s...\" % lib\n",
      "        start_time = time.time()\n",
      "        lib_id,num_hits,tpm = run_salmon(lib)\n",
      "        car_gene_dict[lib_id] = {'project': get_proj_id(lib), 'flowcell': get_fc_id(lib),\n",
      "                                 'num_reads': num_hits, 'tpm': tpm}\n",
      "        print time.time() - start_time\n",
      "    \n",
      "    nonzero_libs = [ l for l in car_gene_dict \\\n",
      "                     if not car_gene_dict[l]['num_reads'] == 0 ]\n",
      "    input_libs = [ i for i in input_libs \\\n",
      "                   if get_lib_id(i) in nonzero_libs ]\n",
      "    \n",
      "    # second pass\n",
      "    car_gene_dict_high_conf = copy.deepcopy(car_gene_dict)\n",
      "    \n",
      "    for idx,lib in enumerate(input_libs):\n",
      "        print \"Second pass >> lib %s of %s:\" % (idx, len(input_libs)) \n",
      "        print \"Running on %s...\" % lib\n",
      "        start_time = time.time()\n",
      "        lib_id,num_hits,tpm = run_salmon(lib, high_conf=True)\n",
      "        car_gene_dict_high_conf[lib_id]['num_reads'] = num_hits\n",
      "        car_gene_dict_high_conf[lib_id]['tpm'] = tpm\n",
      "        print time.time() - start_time\n",
      "        \n",
      "    return (car_gene_dict, car_gene_dict_high_conf)\n",
      "    \n",
      "def write_gene_dict(gene_dict, out_file):\n",
      "    gene_df = pd.DataFrame(gene_dict).transpose()\n",
      "    gene_df.to_csv(out_file)"
     ],
     "language": "python",
     "metadata": {},
     "outputs": [],
     "prompt_number": 96
    },
    {
     "cell_type": "code",
     "collapsed": false,
     "input": [
      "# input_dir = \"../data/P89/P89-5/\"\n",
      "# input_dir = \"../data/inFastqs/\"\n",
      "input_dir = \"/Volumes/genomics/Illumina/150910_D00565_0096_AC6REVANXX/Project_P89-5Processed_150916/\"\n",
      "output_base = \"../data/results/P89-5_150910\"\n",
      "\n",
      "input_libs = get_input_list(input_dir)\n",
      "car_gene_dict,car_gene_dict_high_conf = build_car_gene_dict(input_libs)\n",
      "write_gene_dict(car_gene_dict, output_base + '.csv')\n",
      "write_gene_dict(car_gene_dict_high_conf, output_base + '_high_conf.csv')\n",
      "\n",
      "input_dir = \"/Volumes/genomics/Illumina/150910_D00565_0096_AC6REVANXX/Project_P89-7Processed_150916/\"\n",
      "output_base = \"../data/results/P89-7_150910\"\n",
      "\n",
      "input_libs = get_input_list(input_dir)\n",
      "car_gene_dict,car_gene_dict_high_conf = build_car_gene_dict(input_libs)\n",
      "write_gene_dict(car_gene_dict, output_base + '.csv')\n",
      "write_gene_dict(car_gene_dict_high_conf, output_base + '_high_conf.csv')\n",
      "\n",
      "input_dir = \"/Volumes/genomics/Illumina/150910_D00565_0096_AC6REVANXX/Project_P89-9Processed_150916/\"\n",
      "output_base = \"../data/results/P89-9_150910\"\n",
      "\n",
      "input_libs = get_input_list(input_dir)\n",
      "car_gene_dict,car_gene_dict_high_conf = build_car_gene_dict(input_libs)\n",
      "write_gene_dict(car_gene_dict, output_base + '.csv')\n",
      "write_gene_dict(car_gene_dict_high_conf, output_base + '_high_conf.csv')\n",
      "\n",
      "input_dir = \"/Volumes/genomics/Illumina/150729_D00565_0092_AC6VC6ANXX/Project_P89-7Processed_150916/\"\n",
      "output_base = \"../data/results/P89-7_150729\"\n",
      "\n",
      "input_libs = get_input_list(input_dir)\n",
      "car_gene_dict,car_gene_dict_high_conf = build_car_gene_dict(input_libs)\n",
      "write_gene_dict(car_gene_dict, output_base + '.csv')\n",
      "write_gene_dict(car_gene_dict_high_conf, output_base + '_high_conf.csv')\n",
      "\n",
      "input_dir = \"/Volumes/genomics/Illumina/150729_D00565_0092_AC6VC6ANXX/Project_P89-9Processed_150916/\"\n",
      "output_base = \"../data/results/P89-9_150729\"\n",
      "\n",
      "input_libs = get_input_list(input_dir)\n",
      "car_gene_dict,car_gene_dict_high_conf = build_car_gene_dict(input_libs)\n",
      "write_gene_dict(car_gene_dict, output_base + '.csv')\n",
      "write_gene_dict(car_gene_dict_high_conf, output_base + '_high_conf.csv')"
     ],
     "language": "python",
     "metadata": {},
     "outputs": [
      {
       "output_type": "stream",
       "stream": "stdout",
       "text": [
        "First pass...\n",
        "Running on /Volumes/genomics/Illumina/150910_D00565_0096_AC6REVANXX/Project_P89-5Processed_150916/TrimmedFastqs/lib8852_C6REVANXX_trimmed.fastq...\n",
        "19.1857168674"
       ]
      },
      {
       "output_type": "stream",
       "stream": "stdout",
       "text": [
        "\n",
        "Running on /Volumes/genomics/Illumina/150910_D00565_0096_AC6REVANXX/Project_P89-5Processed_150916/TrimmedFastqs/lib9182_C6REVANXX_trimmed.fastq...\n",
        "24.4224190712"
       ]
      },
      {
       "output_type": "stream",
       "stream": "stdout",
       "text": [
        "\n",
        "Running on /Volumes/genomics/Illumina/150910_D00565_0096_AC6REVANXX/Project_P89-5Processed_150916/TrimmedFastqs/lib8608_C6REVANXX_trimmed.fastq...\n",
        "34.6221129894"
       ]
      },
      {
       "output_type": "stream",
       "stream": "stdout",
       "text": [
        "\n",
        "Running on /Volumes/genomics/Illumina/150910_D00565_0096_AC6REVANXX/Project_P89-5Processed_150916/TrimmedFastqs/lib8899_C6REVANXX_trimmed.fastq...\n",
        "13.9250569344"
       ]
      },
      {
       "output_type": "stream",
       "stream": "stdout",
       "text": [
        "\n",
        "Running on /Volumes/genomics/Illumina/150910_D00565_0096_AC6REVANXX/Project_P89-5Processed_150916/TrimmedFastqs/lib9149_C6REVANXX_trimmed.fastq...\n",
        "19.2641861439"
       ]
      },
      {
       "output_type": "stream",
       "stream": "stdout",
       "text": [
        "\n",
        "Running on /Volumes/genomics/Illumina/150910_D00565_0096_AC6REVANXX/Project_P89-5Processed_150916/TrimmedFastqs/lib8876_C6REVANXX_trimmed.fastq...\n",
        "14.1045360565"
       ]
      },
      {
       "output_type": "stream",
       "stream": "stdout",
       "text": [
        "\n",
        "Running on /Volumes/genomics/Illumina/150910_D00565_0096_AC6REVANXX/Project_P89-5Processed_150916/TrimmedFastqs/lib9205_C6REVANXX_trimmed.fastq...\n",
        "21.4359810352"
       ]
      },
      {
       "output_type": "stream",
       "stream": "stdout",
       "text": [
        "\n",
        "Running on /Volumes/genomics/Illumina/150910_D00565_0096_AC6REVANXX/Project_P89-5Processed_150916/TrimmedFastqs/lib9135_C6REVANXX_trimmed.fastq...\n",
        "17.5616390705"
       ]
      },
      {
       "output_type": "stream",
       "stream": "stdout",
       "text": [
        "\n",
        "Running on /Volumes/genomics/Illumina/150910_D00565_0096_AC6REVANXX/Project_P89-5Processed_150916/TrimmedFastqs/lib8866_C6REVANXX_trimmed.fastq...\n",
        "19.5287358761"
       ]
      },
      {
       "output_type": "stream",
       "stream": "stdout",
       "text": [
        "\n",
        "Running on /Volumes/genomics/Illumina/150910_D00565_0096_AC6REVANXX/Project_P89-5Processed_150916/TrimmedFastqs/lib8907_C6REVANXX_trimmed.fastq...\n",
        "20.8408401012"
       ]
      },
      {
       "output_type": "stream",
       "stream": "stdout",
       "text": [
        "\n",
        "Running on /Volumes/genomics/Illumina/150910_D00565_0096_AC6REVANXX/Project_P89-5Processed_150916/TrimmedFastqs/lib8842_C6REVANXX_trimmed.fastq...\n",
        "17.7765111923"
       ]
      },
      {
       "output_type": "stream",
       "stream": "stdout",
       "text": [
        "\n",
        "Running on /Volumes/genomics/Illumina/150910_D00565_0096_AC6REVANXX/Project_P89-5Processed_150916/TrimmedFastqs/lib9192_C6REVANXX_trimmed.fastq...\n",
        "19.0993170738"
       ]
      },
      {
       "output_type": "stream",
       "stream": "stdout",
       "text": [
        "\n",
        "Running on /Volumes/genomics/Illumina/150910_D00565_0096_AC6REVANXX/Project_P89-5Processed_150916/TrimmedFastqs/lib8618_C6REVANXX_trimmed.fastq...\n",
        "21.6803081036"
       ]
      },
      {
       "output_type": "stream",
       "stream": "stdout",
       "text": [
        "\n",
        "Running on /Volumes/genomics/Illumina/150910_D00565_0096_AC6REVANXX/Project_P89-5Processed_150916/TrimmedFastqs/lib8889_C6REVANXX_trimmed.fastq...\n",
        "18.0067119598"
       ]
      },
      {
       "output_type": "stream",
       "stream": "stdout",
       "text": [
        "\n",
        "Running on /Volumes/genomics/Illumina/150910_D00565_0096_AC6REVANXX/Project_P89-5Processed_150916/TrimmedFastqs/lib9159_C6REVANXX_trimmed.fastq...\n",
        "23.3405790329"
       ]
      },
      {
       "output_type": "stream",
       "stream": "stdout",
       "text": [
        "\n",
        "Running on /Volumes/genomics/Illumina/150910_D00565_0096_AC6REVANXX/Project_P89-5Processed_150916/TrimmedFastqs/lib8846_C6REVANXX_trimmed.fastq...\n",
        "9.50664997101"
       ]
      },
      {
       "output_type": "stream",
       "stream": "stdout",
       "text": [
        "\n",
        "Running on /Volumes/genomics/Illumina/150910_D00565_0096_AC6REVANXX/Project_P89-5Processed_150916/TrimmedFastqs/lib8574_C6REVANXX_trimmed.fastq...\n",
        "19.6913011074"
       ]
      },
      {
       "output_type": "stream",
       "stream": "stdout",
       "text": [
        "\n",
        "Running on /Volumes/genomics/Illumina/150910_D00565_0096_AC6REVANXX/Project_P89-5Processed_150916/TrimmedFastqs/lib9196_C6REVANXX_trimmed.fastq...\n",
        "18.9141659737"
       ]
      },
      {
       "output_type": "stream",
       "stream": "stdout",
       "text": [
        "\n",
        "Running on /Volumes/genomics/Illumina/150910_D00565_0096_AC6REVANXX/Project_P89-5Processed_150916/TrimmedFastqs/lib8903_C6REVANXX_trimmed.fastq...\n",
        "17.5723340511"
       ]
      },
      {
       "output_type": "stream",
       "stream": "stdout",
       "text": [
        "\n",
        "Running on /Volumes/genomics/Illumina/150910_D00565_0096_AC6REVANXX/Project_P89-5Processed_150916/TrimmedFastqs/lib8862_C6REVANXX_trimmed.fastq...\n",
        "22.8009171486"
       ]
      },
      {
       "output_type": "stream",
       "stream": "stdout",
       "text": [
        "\n",
        "Running on /Volumes/genomics/Illumina/150910_D00565_0096_AC6REVANXX/Project_P89-5Processed_150916/TrimmedFastqs/lib9179_C6REVANXX_trimmed.fastq...\n",
        "13.1564810276"
       ]
      },
      {
       "output_type": "stream",
       "stream": "stdout",
       "text": [
        "\n",
        "Running on /Volumes/genomics/Illumina/150910_D00565_0096_AC6REVANXX/Project_P89-5Processed_150916/TrimmedFastqs/lib9201_C6REVANXX_trimmed.fastq...\n",
        "27.2082312107"
       ]
      },
      {
       "output_type": "stream",
       "stream": "stdout",
       "text": [
        "\n",
        "Running on /Volumes/genomics/Illumina/150910_D00565_0096_AC6REVANXX/Project_P89-5Processed_150916/TrimmedFastqs/lib8872_C6REVANXX_trimmed.fastq...\n",
        "18.9793760777"
       ]
      },
      {
       "output_type": "stream",
       "stream": "stdout",
       "text": [
        "\n",
        "Running on /Volumes/genomics/Illumina/150910_D00565_0096_AC6REVANXX/Project_P89-5Processed_150916/TrimmedFastqs/lib8628_C6REVANXX_trimmed.fastq...\n",
        "40.6701078415"
       ]
      },
      {
       "output_type": "stream",
       "stream": "stdout",
       "text": [
        "\n",
        "Running on /Volumes/genomics/Illumina/150910_D00565_0096_AC6REVANXX/Project_P89-5Processed_150916/TrimmedFastqs/lib9169_C6REVANXX_trimmed.fastq...\n",
        "21.5157101154"
       ]
      },
      {
       "output_type": "stream",
       "stream": "stdout",
       "text": [
        "\n",
        "Running on /Volumes/genomics/Illumina/150910_D00565_0096_AC6REVANXX/Project_P89-5Processed_150916/TrimmedFastqs/lib8856_C6REVANXX_trimmed.fastq...\n",
        "23.1424760818"
       ]
      },
      {
       "output_type": "stream",
       "stream": "stdout",
       "text": [
        "\n",
        "Running on /Volumes/genomics/Illumina/150910_D00565_0096_AC6REVANXX/Project_P89-5Processed_150916/TrimmedFastqs/lib9186_C6REVANXX_trimmed.fastq...\n",
        "1.59225010872"
       ]
      },
      {
       "output_type": "stream",
       "stream": "stdout",
       "text": [
        "\n",
        "Running on /Volumes/genomics/Illumina/150910_D00565_0096_AC6REVANXX/Project_P89-5Processed_150916/TrimmedFastqs/lib8604_C6REVANXX_trimmed.fastq...\n",
        "17.324090004"
       ]
      },
      {
       "output_type": "stream",
       "stream": "stdout",
       "text": [
        "\n",
        "Running on /Volumes/genomics/Illumina/150910_D00565_0096_AC6REVANXX/Project_P89-5Processed_150916/TrimmedFastqs/lib8895_C6REVANXX_trimmed.fastq...\n",
        "18.3849198818"
       ]
      },
      {
       "output_type": "stream",
       "stream": "stdout",
       "text": [
        "\n",
        "Running on /Volumes/genomics/Illumina/150910_D00565_0096_AC6REVANXX/Project_P89-5Processed_150916/TrimmedFastqs/lib9145_C6REVANXX_trimmed.fastq...\n",
        "2.15544080734"
       ]
      },
      {
       "output_type": "stream",
       "stream": "stdout",
       "text": [
        "\n",
        "Running on /Volumes/genomics/Illumina/150910_D00565_0096_AC6REVANXX/Project_P89-5Processed_150916/TrimmedFastqs/lib8583_C6REVANXX_trimmed.fastq...\n",
        "12.2248010635"
       ]
      },
      {
       "output_type": "stream",
       "stream": "stdout",
       "text": [
        "\n",
        "Running on /Volumes/genomics/Illumina/150910_D00565_0096_AC6REVANXX/Project_P89-5Processed_150916/TrimmedFastqs/lib9161_C6REVANXX_trimmed.fastq...\n",
        "20.4342300892"
       ]
      },
      {
       "output_type": "stream",
       "stream": "stdout",
       "text": [
        "\n",
        "Running on /Volumes/genomics/Illumina/150910_D00565_0096_AC6REVANXX/Project_P89-5Processed_150916/TrimmedFastqs/lib8620_C6REVANXX_trimmed.fastq...\n",
        "36.7127740383"
       ]
      },
      {
       "output_type": "stream",
       "stream": "stdout",
       "text": [
        "\n",
        "Running on /Volumes/genomics/Illumina/150910_D00565_0096_AC6REVANXX/Project_P89-5Processed_150916/TrimmedFastqs/lib9139_C6REVANXX_trimmed.fastq...\n",
        "17.412471056"
       ]
      },
      {
       "output_type": "stream",
       "stream": "stdout",
       "text": [
        "\n",
        "Running on /Volumes/genomics/Illumina/150910_D00565_0096_AC6REVANXX/Project_P89-5Processed_150916/TrimmedFastqs/lib9171_C6REVANXX_trimmed.fastq...\n",
        "23.2793951035"
       ]
      },
      {
       "output_type": "stream",
       "stream": "stdout",
       "text": [
        "\n",
        "Running on /Volumes/genomics/Illumina/150910_D00565_0096_AC6REVANXX/Project_P89-5Processed_150916/TrimmedFastqs/lib8593_C6REVANXX_trimmed.fastq...\n",
        "24.5008540154"
       ]
      },
      {
       "output_type": "stream",
       "stream": "stdout",
       "text": [
        "\n",
        "Running on /Volumes/genomics/Illumina/150910_D00565_0096_AC6REVANXX/Project_P89-5Processed_150916/TrimmedFastqs/lib8630_C6REVANXX_trimmed.fastq...\n",
        "29.9379570484"
       ]
      },
      {
       "output_type": "stream",
       "stream": "stdout",
       "text": [
        "\n",
        "Running on /Volumes/genomics/Illumina/150910_D00565_0096_AC6REVANXX/Project_P89-5Processed_150916/TrimmedFastqs/lib8614_C6REVANXX_trimmed.fastq...\n",
        "10.5859620571"
       ]
      },
      {
       "output_type": "stream",
       "stream": "stdout",
       "text": [
        "\n",
        "Running on /Volumes/genomics/Illumina/150910_D00565_0096_AC6REVANXX/Project_P89-5Processed_150916/TrimmedFastqs/lib8885_C6REVANXX_trimmed.fastq...\n",
        "13.5523509979"
       ]
      },
      {
       "output_type": "stream",
       "stream": "stdout",
       "text": [
        "\n",
        "Running on /Volumes/genomics/Illumina/150910_D00565_0096_AC6REVANXX/Project_P89-5Processed_150916/TrimmedFastqs/lib9155_C6REVANXX_trimmed.fastq...\n",
        "16.1080701351"
       ]
      },
      {
       "output_type": "stream",
       "stream": "stdout",
       "text": [
        "\n",
        "Running on /Volumes/genomics/Illumina/150910_D00565_0096_AC6REVANXX/Project_P89-5Processed_150916/TrimmedFastqs/lib8881_C6REVANXX_trimmed.fastq...\n",
        "17.590143919"
       ]
      },
      {
       "output_type": "stream",
       "stream": "stdout",
       "text": [
        "\n",
        "Running on /Volumes/genomics/Illumina/150910_D00565_0096_AC6REVANXX/Project_P89-5Processed_150916/TrimmedFastqs/lib9151_C6REVANXX_trimmed.fastq...\n",
        "25.6299128532"
       ]
      },
      {
       "output_type": "stream",
       "stream": "stdout",
       "text": [
        "\n",
        "Running on /Volumes/genomics/Illumina/150910_D00565_0096_AC6REVANXX/Project_P89-5Processed_150916/TrimmedFastqs/lib8610_C6REVANXX_trimmed.fastq...\n",
        "37.9534080029"
       ]
      },
      {
       "output_type": "stream",
       "stream": "stdout",
       "text": [
        "\n",
        "Running on /Volumes/genomics/Illumina/150910_D00565_0096_AC6REVANXX/Project_P89-5Processed_150916/TrimmedFastqs/lib8578_C6REVANXX_trimmed.fastq...\n",
        "19.3408341408"
       ]
      },
      {
       "output_type": "stream",
       "stream": "stdout",
       "text": [
        "\n",
        "Running on /Volumes/genomics/Illumina/150910_D00565_0096_AC6REVANXX/Project_P89-5Processed_150916/TrimmedFastqs/lib9175_C6REVANXX_trimmed.fastq...\n",
        "20.0743539333"
       ]
      },
      {
       "output_type": "stream",
       "stream": "stdout",
       "text": [
        "\n",
        "Running on /Volumes/genomics/Illumina/150910_D00565_0096_AC6REVANXX/Project_P89-5Processed_150916/TrimmedFastqs/lib8597_C6REVANXX_trimmed.fastq...\n",
        "32.3882660866"
       ]
      },
      {
       "output_type": "stream",
       "stream": "stdout",
       "text": [
        "\n",
        "Running on /Volumes/genomics/Illumina/150910_D00565_0096_AC6REVANXX/Project_P89-5Processed_150916/TrimmedFastqs/lib8624_C6REVANXX_trimmed.fastq...\n",
        "38.8087770939"
       ]
      },
      {
       "output_type": "stream",
       "stream": "stdout",
       "text": [
        "\n",
        "Running on /Volumes/genomics/Illumina/150910_D00565_0096_AC6REVANXX/Project_P89-5Processed_150916/TrimmedFastqs/lib8587_C6REVANXX_trimmed.fastq...\n",
        "24.5024929047"
       ]
      },
      {
       "output_type": "stream",
       "stream": "stdout",
       "text": [
        "\n",
        "Running on /Volumes/genomics/Illumina/150910_D00565_0096_AC6REVANXX/Project_P89-5Processed_150916/TrimmedFastqs/lib9165_C6REVANXX_trimmed.fastq...\n",
        "20.4899230003"
       ]
      },
      {
       "output_type": "stream",
       "stream": "stdout",
       "text": [
        "\n",
        "Running on /Volumes/genomics/Illumina/150910_D00565_0096_AC6REVANXX/Project_P89-5Processed_150916/TrimmedFastqs/lib8891_C6REVANXX_trimmed.fastq...\n",
        "21.2089328766"
       ]
      },
      {
       "output_type": "stream",
       "stream": "stdout",
       "text": [
        "\n",
        "Running on /Volumes/genomics/Illumina/150910_D00565_0096_AC6REVANXX/Project_P89-5Processed_150916/TrimmedFastqs/lib9141_C6REVANXX_trimmed.fastq...\n",
        "12.5306961536"
       ]
      },
      {
       "output_type": "stream",
       "stream": "stdout",
       "text": [
        "\n",
        "Running on /Volumes/genomics/Illumina/150910_D00565_0096_AC6REVANXX/Project_P89-5Processed_150916/TrimmedFastqs/lib8600_C6REVANXX_trimmed.fastq...\n",
        "23.655908823"
       ]
      },
      {
       "output_type": "stream",
       "stream": "stdout",
       "text": [
        "\n",
        "Running on /Volumes/genomics/Illumina/150910_D00565_0096_AC6REVANXX/Project_P89-5Processed_150916/TrimmedFastqs/lib8617_C6REVANXX_trimmed.fastq...\n",
        "22.5011827946"
       ]
      },
      {
       "output_type": "stream",
       "stream": "stdout",
       "text": [
        "\n",
        "Running on /Volumes/genomics/Illumina/150910_D00565_0096_AC6REVANXX/Project_P89-5Processed_150916/TrimmedFastqs/lib8886_C6REVANXX_trimmed.fastq...\n",
        "5.2067668438"
       ]
      },
      {
       "output_type": "stream",
       "stream": "stdout",
       "text": [
        "\n",
        "Running on /Volumes/genomics/Illumina/150910_D00565_0096_AC6REVANXX/Project_P89-5Processed_150916/TrimmedFastqs/lib9156_C6REVANXX_trimmed.fastq...\n",
        "24.9441249371"
       ]
      },
      {
       "output_type": "stream",
       "stream": "stdout",
       "text": [
        "\n",
        "Running on /Volumes/genomics/Illumina/150910_D00565_0096_AC6REVANXX/Project_P89-5Processed_150916/TrimmedFastqs/lib9172_C6REVANXX_trimmed.fastq...\n",
        "2.21981191635"
       ]
      },
      {
       "output_type": "stream",
       "stream": "stdout",
       "text": [
        "\n",
        "Running on /Volumes/genomics/Illumina/150910_D00565_0096_AC6REVANXX/Project_P89-5Processed_150916/TrimmedFastqs/lib8590_C6REVANXX_trimmed.fastq...\n",
        "5.2800848484"
       ]
      },
      {
       "output_type": "stream",
       "stream": "stdout",
       "text": [
        "\n",
        "Running on /Volumes/genomics/Illumina/150910_D00565_0096_AC6REVANXX/Project_P89-5Processed_150916/TrimmedFastqs/lib8869_C6REVANXX_trimmed.fastq...\n",
        "15.0291628838"
       ]
      },
      {
       "output_type": "stream",
       "stream": "stdout",
       "text": [
        "\n",
        "Running on /Volumes/genomics/Illumina/150910_D00565_0096_AC6REVANXX/Project_P89-5Processed_150916/TrimmedFastqs/lib8908_C6REVANXX_trimmed.fastq...\n",
        "19.844755888"
       ]
      },
      {
       "output_type": "stream",
       "stream": "stdout",
       "text": [
        "\n",
        "Running on /Volumes/genomics/Illumina/150910_D00565_0096_AC6REVANXX/Project_P89-5Processed_150916/TrimmedFastqs/lib8580_C6REVANXX_trimmed.fastq...\n",
        "29.8799221516"
       ]
      },
      {
       "output_type": "stream",
       "stream": "stdout",
       "text": [
        "\n",
        "Running on /Volumes/genomics/Illumina/150910_D00565_0096_AC6REVANXX/Project_P89-5Processed_150916/TrimmedFastqs/lib9162_C6REVANXX_trimmed.fastq...\n",
        "26.5403158665"
       ]
      },
      {
       "output_type": "stream",
       "stream": "stdout",
       "text": [
        "\n",
        "Running on /Volumes/genomics/Illumina/150910_D00565_0096_AC6REVANXX/Project_P89-5Processed_150916/TrimmedFastqs/lib8623_C6REVANXX_trimmed.fastq...\n",
        "31.2127218246"
       ]
      },
      {
       "output_type": "stream",
       "stream": "stdout",
       "text": [
        "\n",
        "Running on /Volumes/genomics/Illumina/150910_D00565_0096_AC6REVANXX/Project_P89-5Processed_150916/TrimmedFastqs/lib8879_C6REVANXX_trimmed.fastq...\n",
        "18.9792809486"
       ]
      },
      {
       "output_type": "stream",
       "stream": "stdout",
       "text": [
        "\n",
        "Running on /Volumes/genomics/Illumina/150910_D00565_0096_AC6REVANXX/Project_P89-5Processed_150916/TrimmedFastqs/lib8607_C6REVANXX_trimmed.fastq...\n",
        "35.3845760822"
       ]
      },
      {
       "output_type": "stream",
       "stream": "stdout",
       "text": [
        "\n",
        "Running on /Volumes/genomics/Illumina/150910_D00565_0096_AC6REVANXX/Project_P89-5Processed_150916/TrimmedFastqs/lib8896_C6REVANXX_trimmed.fastq...\n",
        "12.4987280369"
       ]
      },
      {
       "output_type": "stream",
       "stream": "stdout",
       "text": [
        "\n",
        "Running on /Volumes/genomics/Illumina/150910_D00565_0096_AC6REVANXX/Project_P89-5Processed_150916/TrimmedFastqs/lib9146_C6REVANXX_trimmed.fastq...\n",
        "20.5251319408"
       ]
      },
      {
       "output_type": "stream",
       "stream": "stdout",
       "text": [
        "\n",
        "Running on /Volumes/genomics/Illumina/150910_D00565_0096_AC6REVANXX/Project_P89-5Processed_150916/TrimmedFastqs/lib8892_C6REVANXX_trimmed.fastq...\n",
        "16.8272299767"
       ]
      },
      {
       "output_type": "stream",
       "stream": "stdout",
       "text": [
        "\n",
        "Running on /Volumes/genomics/Illumina/150910_D00565_0096_AC6REVANXX/Project_P89-5Processed_150916/TrimmedFastqs/lib9142_C6REVANXX_trimmed.fastq...\n",
        "10.9240019321"
       ]
      },
      {
       "output_type": "stream",
       "stream": "stdout",
       "text": [
        "\n",
        "Running on /Volumes/genomics/Illumina/150910_D00565_0096_AC6REVANXX/Project_P89-5Processed_150916/TrimmedFastqs/lib8603_C6REVANXX_trimmed.fastq...\n",
        "29.9031379223"
       ]
      },
      {
       "output_type": "stream",
       "stream": "stdout",
       "text": [
        "\n",
        "Running on /Volumes/genomics/Illumina/150910_D00565_0096_AC6REVANXX/Project_P89-5Processed_150916/TrimmedFastqs/lib8859_C6REVANXX_trimmed.fastq...\n",
        "22.6640150547"
       ]
      },
      {
       "output_type": "stream",
       "stream": "stdout",
       "text": [
        "\n",
        "Running on /Volumes/genomics/Illumina/150910_D00565_0096_AC6REVANXX/Project_P89-5Processed_150916/TrimmedFastqs/lib9189_C6REVANXX_trimmed.fastq...\n",
        "23.1701319218"
       ]
      },
      {
       "output_type": "stream",
       "stream": "stdout",
       "text": [
        "\n",
        "Running on /Volumes/genomics/Illumina/150910_D00565_0096_AC6REVANXX/Project_P89-5Processed_150916/TrimmedFastqs/lib8627_C6REVANXX_trimmed.fastq...\n",
        "16.2505319118"
       ]
      },
      {
       "output_type": "stream",
       "stream": "stdout",
       "text": [
        "\n",
        "Running on /Volumes/genomics/Illumina/150910_D00565_0096_AC6REVANXX/Project_P89-5Processed_150916/TrimmedFastqs/lib8584_C6REVANXX_trimmed.fastq...\n",
        "19.7591738701"
       ]
      },
      {
       "output_type": "stream",
       "stream": "stdout",
       "text": [
        "\n",
        "Running on /Volumes/genomics/Illumina/150910_D00565_0096_AC6REVANXX/Project_P89-5Processed_150916/TrimmedFastqs/lib9166_C6REVANXX_trimmed.fastq...\n",
        "21.1687660217"
       ]
      },
      {
       "output_type": "stream",
       "stream": "stdout",
       "text": [
        "\n",
        "Running on /Volumes/genomics/Illumina/150910_D00565_0096_AC6REVANXX/Project_P89-5Processed_150916/TrimmedFastqs/lib9176_C6REVANXX_trimmed.fastq...\n",
        "21.2316009998"
       ]
      },
      {
       "output_type": "stream",
       "stream": "stdout",
       "text": [
        "\n",
        "Running on /Volumes/genomics/Illumina/150910_D00565_0096_AC6REVANXX/Project_P89-5Processed_150916/TrimmedFastqs/lib8594_C6REVANXX_trimmed.fastq...\n",
        "14.0628609657"
       ]
      },
      {
       "output_type": "stream",
       "stream": "stdout",
       "text": [
        "\n",
        "Running on /Volumes/genomics/Illumina/150910_D00565_0096_AC6REVANXX/Project_P89-5Processed_150916/TrimmedFastqs/lib8882_C6REVANXX_trimmed.fastq...\n",
        "16.3364579678"
       ]
      },
      {
       "output_type": "stream",
       "stream": "stdout",
       "text": [
        "\n",
        "Running on /Volumes/genomics/Illumina/150910_D00565_0096_AC6REVANXX/Project_P89-5Processed_150916/TrimmedFastqs/lib9152_C6REVANXX_trimmed.fastq...\n",
        "19.5146238804"
       ]
      },
      {
       "output_type": "stream",
       "stream": "stdout",
       "text": [
        "\n",
        "Running on /Volumes/genomics/Illumina/150910_D00565_0096_AC6REVANXX/Project_P89-5Processed_150916/TrimmedFastqs/lib8613_C6REVANXX_trimmed.fastq...\n",
        "27.3699171543"
       ]
      },
      {
       "output_type": "stream",
       "stream": "stdout",
       "text": [
        "\n",
        "Running on /Volumes/genomics/Illumina/150910_D00565_0096_AC6REVANXX/Project_P89-5Processed_150916/TrimmedFastqs/lib8849_C6REVANXX_trimmed.fastq...\n",
        "19.0794839859"
       ]
      },
      {
       "output_type": "stream",
       "stream": "stdout",
       "text": [
        "\n",
        "Running on /Volumes/genomics/Illumina/150910_D00565_0096_AC6REVANXX/Project_P89-5Processed_150916/TrimmedFastqs/lib9199_C6REVANXX_trimmed.fastq...\n",
        "20.7821671963"
       ]
      },
      {
       "output_type": "stream",
       "stream": "stdout",
       "text": [
        "\n",
        "Running on /Volumes/genomics/Illumina/150910_D00565_0096_AC6REVANXX/Project_P89-5Processed_150916/TrimmedFastqs/lib8841_C6REVANXX_trimmed.fastq...\n",
        "22.5491240025"
       ]
      },
      {
       "output_type": "stream",
       "stream": "stdout",
       "text": [
        "\n",
        "Running on /Volumes/genomics/Illumina/150910_D00565_0096_AC6REVANXX/Project_P89-5Processed_150916/TrimmedFastqs/lib9191_C6REVANXX_trimmed.fastq...\n",
        "18.1803150177"
       ]
      },
      {
       "output_type": "stream",
       "stream": "stdout",
       "text": [
        "\n",
        "Running on /Volumes/genomics/Illumina/150910_D00565_0096_AC6REVANXX/Project_P89-5Processed_150916/TrimmedFastqs/lib8904_C6REVANXX_trimmed.fastq...\n",
        "17.1836800575"
       ]
      },
      {
       "output_type": "stream",
       "stream": "stdout",
       "text": [
        "\n",
        "Running on /Volumes/genomics/Illumina/150910_D00565_0096_AC6REVANXX/Project_P89-5Processed_150916/TrimmedFastqs/lib8865_C6REVANXX_trimmed.fastq...\n",
        "22.823392868"
       ]
      },
      {
       "output_type": "stream",
       "stream": "stdout",
       "text": [
        "\n",
        "Running on /Volumes/genomics/Illumina/150910_D00565_0096_AC6REVANXX/Project_P89-5Processed_150916/TrimmedFastqs/lib8875_C6REVANXX_trimmed.fastq...\n",
        "19.9713099003"
       ]
      },
      {
       "output_type": "stream",
       "stream": "stdout",
       "text": [
        "\n",
        "Running on /Volumes/genomics/Illumina/150910_D00565_0096_AC6REVANXX/Project_P89-5Processed_150916/TrimmedFastqs/lib9136_C6REVANXX_trimmed.fastq...\n",
        "15.606385231"
       ]
      },
      {
       "output_type": "stream",
       "stream": "stdout",
       "text": [
        "\n",
        "Running on /Volumes/genomics/Illumina/150910_D00565_0096_AC6REVANXX/Project_P89-5Processed_150916/TrimmedFastqs/lib8851_C6REVANXX_trimmed.fastq...\n",
        "8.1976120472"
       ]
      },
      {
       "output_type": "stream",
       "stream": "stdout",
       "text": [
        "\n",
        "Running on /Volumes/genomics/Illumina/150910_D00565_0096_AC6REVANXX/Project_P89-5Processed_150916/TrimmedFastqs/lib9181_C6REVANXX_trimmed.fastq...\n",
        "13.5566101074"
       ]
      },
      {
       "output_type": "stream",
       "stream": "stdout",
       "text": [
        "\n",
        "Running on /Volumes/genomics/Illumina/150910_D00565_0096_AC6REVANXX/Project_P89-5Processed_150916/TrimmedFastqs/lib8855_C6REVANXX_trimmed.fastq...\n",
        "16.1919500828"
       ]
      },
      {
       "output_type": "stream",
       "stream": "stdout",
       "text": [
        "\n",
        "Running on /Volumes/genomics/Illumina/150910_D00565_0096_AC6REVANXX/Project_P89-5Processed_150916/TrimmedFastqs/lib9185_C6REVANXX_trimmed.fastq...\n",
        "23.0668070316"
       ]
      },
      {
       "output_type": "stream",
       "stream": "stdout",
       "text": [
        "\n",
        "Running on /Volumes/genomics/Illumina/150910_D00565_0096_AC6REVANXX/Project_P89-5Processed_150916/TrimmedFastqs/lib9202_C6REVANXX_trimmed.fastq...\n",
        "16.7599089146"
       ]
      },
      {
       "output_type": "stream",
       "stream": "stdout",
       "text": [
        "\n",
        "Running on /Volumes/genomics/Illumina/150910_D00565_0096_AC6REVANXX/Project_P89-5Processed_150916/TrimmedFastqs/lib8871_C6REVANXX_trimmed.fastq...\n",
        "8.33796596527"
       ]
      },
      {
       "output_type": "stream",
       "stream": "stdout",
       "text": [
        "\n",
        "Running on /Volumes/genomics/Illumina/150910_D00565_0096_AC6REVANXX/Project_P89-5Processed_150916/TrimmedFastqs/lib8910_C6REVANXX_trimmed.fastq...\n",
        "25.6531860828"
       ]
      },
      {
       "output_type": "stream",
       "stream": "stdout",
       "text": [
        "\n",
        "Running on /Volumes/genomics/Illumina/150910_D00565_0096_AC6REVANXX/Project_P89-5Processed_150916/TrimmedFastqs/lib8588_C6REVANXX_trimmed.fastq...\n",
        "15.6948509216"
       ]
      },
      {
       "output_type": "stream",
       "stream": "stdout",
       "text": [
        "\n",
        "Running on /Volumes/genomics/Illumina/150910_D00565_0096_AC6REVANXX/Project_P89-5Processed_150916/TrimmedFastqs/lib8861_C6REVANXX_trimmed.fastq...\n",
        "25.2027211189"
       ]
      },
      {
       "output_type": "stream",
       "stream": "stdout",
       "text": [
        "\n",
        "Running on /Volumes/genomics/Illumina/150910_D00565_0096_AC6REVANXX/Project_P89-5Processed_150916/TrimmedFastqs/lib8900_C6REVANXX_trimmed.fastq...\n",
        "19.3300490379"
       ]
      },
      {
       "output_type": "stream",
       "stream": "stdout",
       "text": [
        "\n",
        "Running on /Volumes/genomics/Illumina/150910_D00565_0096_AC6REVANXX/Project_P89-5Processed_150916/TrimmedFastqs/lib8839_C6REVANXX_trimmed.fastq...\n",
        "19.551377058"
       ]
      },
      {
       "output_type": "stream",
       "stream": "stdout",
       "text": [
        "\n",
        "Running on /Volumes/genomics/Illumina/150910_D00565_0096_AC6REVANXX/Project_P89-5Processed_150916/TrimmedFastqs/lib8598_C6REVANXX_trimmed.fastq...\n",
        "28.0176250935"
       ]
      },
      {
       "output_type": "stream",
       "stream": "stdout",
       "text": [
        "\n",
        "Running on /Volumes/genomics/Illumina/150910_D00565_0096_AC6REVANXX/Project_P89-5Processed_150916/TrimmedFastqs/lib8845_C6REVANXX_trimmed.fastq...\n",
        "22.6928880215"
       ]
      },
      {
       "output_type": "stream",
       "stream": "stdout",
       "text": [
        "\n",
        "Running on /Volumes/genomics/Illumina/150910_D00565_0096_AC6REVANXX/Project_P89-5Processed_150916/TrimmedFastqs/lib8577_C6REVANXX_trimmed.fastq...\n",
        "25.8729820251"
       ]
      },
      {
       "output_type": "stream",
       "stream": "stdout",
       "text": [
        "\n",
        "Running on /Volumes/genomics/Illumina/150910_D00565_0096_AC6REVANXX/Project_P89-5Processed_150916/TrimmedFastqs/lib9195_C6REVANXX_trimmed.fastq...\n",
        "23.0215520859"
       ]
      },
      {
       "output_type": "stream",
       "stream": "stdout",
       "text": [
        "\n",
        "Running on /Volumes/genomics/Illumina/150910_D00565_0096_AC6REVANXX/Project_P89-5Processed_150916/TrimmedFastqs/lib8592_C6REVANXX_trimmed.fastq...\n",
        "26.4613111019"
       ]
      },
      {
       "output_type": "stream",
       "stream": "stdout",
       "text": [
        "\n",
        "Running on /Volumes/genomics/Illumina/150910_D00565_0096_AC6REVANXX/Project_P89-5Processed_150916/TrimmedFastqs/lib9170_C6REVANXX_trimmed.fastq...\n",
        "19.6700348854"
       ]
      },
      {
       "output_type": "stream",
       "stream": "stdout",
       "text": [
        "\n",
        "Running on /Volumes/genomics/Illumina/150910_D00565_0096_AC6REVANXX/Project_P89-5Processed_150916/TrimmedFastqs/lib8615_C6REVANXX_trimmed.fastq...\n",
        "27.6738069057"
       ]
      },
      {
       "output_type": "stream",
       "stream": "stdout",
       "text": [
        "\n",
        "Running on /Volumes/genomics/Illumina/150910_D00565_0096_AC6REVANXX/Project_P89-5Processed_150916/TrimmedFastqs/lib8884_C6REVANXX_trimmed.fastq...\n",
        "14.4531610012"
       ]
      },
      {
       "output_type": "stream",
       "stream": "stdout",
       "text": [
        "\n",
        "Running on /Volumes/genomics/Illumina/150910_D00565_0096_AC6REVANXX/Project_P89-5Processed_150916/TrimmedFastqs/lib9154_C6REVANXX_trimmed.fastq...\n",
        "20.6276800632"
       ]
      },
      {
       "output_type": "stream",
       "stream": "stdout",
       "text": [
        "\n",
        "Running on /Volumes/genomics/Illumina/150910_D00565_0096_AC6REVANXX/Project_P89-5Processed_150916/TrimmedFastqs/lib8605_C6REVANXX_trimmed.fastq...\n",
        "30.9237167835"
       ]
      },
      {
       "output_type": "stream",
       "stream": "stdout",
       "text": [
        "\n",
        "Running on /Volumes/genomics/Illumina/150910_D00565_0096_AC6REVANXX/Project_P89-5Processed_150916/TrimmedFastqs/lib8894_C6REVANXX_trimmed.fastq...\n",
        "12.9902248383"
       ]
      },
      {
       "output_type": "stream",
       "stream": "stdout",
       "text": [
        "\n",
        "Running on /Volumes/genomics/Illumina/150910_D00565_0096_AC6REVANXX/Project_P89-5Processed_150916/TrimmedFastqs/lib9144_C6REVANXX_trimmed.fastq...\n",
        "19.1406731606"
       ]
      },
      {
       "output_type": "stream",
       "stream": "stdout",
       "text": [
        "\n",
        "Running on /Volumes/genomics/Illumina/150910_D00565_0096_AC6REVANXX/Project_P89-5Processed_150916/TrimmedFastqs/lib9138_C6REVANXX_trimmed.fastq...\n",
        "11.5597159863"
       ]
      },
      {
       "output_type": "stream",
       "stream": "stdout",
       "text": [
        "\n",
        "Running on /Volumes/genomics/Illumina/150910_D00565_0096_AC6REVANXX/Project_P89-5Processed_150916/TrimmedFastqs/lib9160_C6REVANXX_trimmed.fastq...\n",
        "19.5018768311"
       ]
      },
      {
       "output_type": "stream",
       "stream": "stdout",
       "text": [
        "\n",
        "Running on /Volumes/genomics/Illumina/150910_D00565_0096_AC6REVANXX/Project_P89-5Processed_150916/TrimmedFastqs/lib8582_C6REVANXX_trimmed.fastq...\n",
        "17.6708390713"
       ]
      },
      {
       "output_type": "stream",
       "stream": "stdout",
       "text": [
        "\n",
        "Running on /Volumes/genomics/Illumina/150910_D00565_0096_AC6REVANXX/Project_P89-5Processed_150916/TrimmedFastqs/lib8621_C6REVANXX_trimmed.fastq...\n",
        "15.9376020432"
       ]
      },
      {
       "output_type": "stream",
       "stream": "stdout",
       "text": [
        "\n",
        "Running on /Volumes/genomics/Illumina/150910_D00565_0096_AC6REVANXX/Project_P89-5Processed_150916/TrimmedFastqs/lib8625_C6REVANXX_trimmed.fastq...\n",
        "37.0072550774"
       ]
      },
      {
       "output_type": "stream",
       "stream": "stdout",
       "text": [
        "\n",
        "Running on /Volumes/genomics/Illumina/150910_D00565_0096_AC6REVANXX/Project_P89-5Processed_150916/TrimmedFastqs/lib9164_C6REVANXX_trimmed.fastq...\n",
        "25.9968421459"
       ]
      },
      {
       "output_type": "stream",
       "stream": "stdout",
       "text": [
        "\n",
        "Running on /Volumes/genomics/Illumina/150910_D00565_0096_AC6REVANXX/Project_P89-5Processed_150916/TrimmedFastqs/lib8586_C6REVANXX_trimmed.fastq...\n",
        "16.4906799793"
       ]
      },
      {
       "output_type": "stream",
       "stream": "stdout",
       "text": [
        "\n",
        "Running on /Volumes/genomics/Illumina/150910_D00565_0096_AC6REVANXX/Project_P89-5Processed_150916/TrimmedFastqs/lib8890_C6REVANXX_trimmed.fastq...\n",
        "15.4174239635"
       ]
      },
      {
       "output_type": "stream",
       "stream": "stdout",
       "text": [
        "\n",
        "Running on /Volumes/genomics/Illumina/150910_D00565_0096_AC6REVANXX/Project_P89-5Processed_150916/TrimmedFastqs/lib9140_C6REVANXX_trimmed.fastq...\n",
        "23.0316979885"
       ]
      },
      {
       "output_type": "stream",
       "stream": "stdout",
       "text": [
        "\n",
        "Running on /Volumes/genomics/Illumina/150910_D00565_0096_AC6REVANXX/Project_P89-5Processed_150916/TrimmedFastqs/lib8601_C6REVANXX_trimmed.fastq...\n",
        "30.4167790413"
       ]
      },
      {
       "output_type": "stream",
       "stream": "stdout",
       "text": [
        "\n",
        "Running on /Volumes/genomics/Illumina/150910_D00565_0096_AC6REVANXX/Project_P89-5Processed_150916/TrimmedFastqs/lib8579_C6REVANXX_trimmed.fastq...\n",
        "7.44221687317"
       ]
      },
      {
       "output_type": "stream",
       "stream": "stdout",
       "text": [
        "\n",
        "Running on /Volumes/genomics/Illumina/150910_D00565_0096_AC6REVANXX/Project_P89-5Processed_150916/TrimmedFastqs/lib8880_C6REVANXX_trimmed.fastq...\n",
        "17.1304469109"
       ]
      },
      {
       "output_type": "stream",
       "stream": "stdout",
       "text": [
        "\n",
        "Running on /Volumes/genomics/Illumina/150910_D00565_0096_AC6REVANXX/Project_P89-5Processed_150916/TrimmedFastqs/lib9150_C6REVANXX_trimmed.fastq...\n",
        "21.626281023"
       ]
      },
      {
       "output_type": "stream",
       "stream": "stdout",
       "text": [
        "\n",
        "Running on /Volumes/genomics/Illumina/150910_D00565_0096_AC6REVANXX/Project_P89-5Processed_150916/TrimmedFastqs/lib8611_C6REVANXX_trimmed.fastq...\n",
        "36.8431129456"
       ]
      },
      {
       "output_type": "stream",
       "stream": "stdout",
       "text": [
        "\n",
        "Running on /Volumes/genomics/Illumina/150910_D00565_0096_AC6REVANXX/Project_P89-5Processed_150916/TrimmedFastqs/lib8596_C6REVANXX_trimmed.fastq...\n",
        "1.56021881104"
       ]
      },
      {
       "output_type": "stream",
       "stream": "stdout",
       "text": [
        "\n",
        "Running on /Volumes/genomics/Illumina/150910_D00565_0096_AC6REVANXX/Project_P89-5Processed_150916/TrimmedFastqs/lib9174_C6REVANXX_trimmed.fastq...\n",
        "21.7454400063"
       ]
      },
      {
       "output_type": "stream",
       "stream": "stdout",
       "text": [
        "\n",
        "Running on /Volumes/genomics/Illumina/150910_D00565_0096_AC6REVANXX/Project_P89-5Processed_150916/TrimmedFastqs/lib8867_C6REVANXX_trimmed.fastq...\n",
        "21.4128930569"
       ]
      },
      {
       "output_type": "stream",
       "stream": "stdout",
       "text": [
        "\n",
        "Running on /Volumes/genomics/Illumina/150910_D00565_0096_AC6REVANXX/Project_P89-5Processed_150916/TrimmedFastqs/lib8906_C6REVANXX_trimmed.fastq...\n",
        "20.5600528717"
       ]
      },
      {
       "output_type": "stream",
       "stream": "stdout",
       "text": [
        "\n",
        "Running on /Volumes/genomics/Illumina/150910_D00565_0096_AC6REVANXX/Project_P89-5Processed_150916/TrimmedFastqs/lib8619_C6REVANXX_trimmed.fastq...\n",
        "33.8421058655"
       ]
      },
      {
       "output_type": "stream",
       "stream": "stdout",
       "text": [
        "\n",
        "Running on /Volumes/genomics/Illumina/150910_D00565_0096_AC6REVANXX/Project_P89-5Processed_150916/TrimmedFastqs/lib8888_C6REVANXX_trimmed.fastq...\n",
        "19.7181651592"
       ]
      },
      {
       "output_type": "stream",
       "stream": "stdout",
       "text": [
        "\n",
        "Running on /Volumes/genomics/Illumina/150910_D00565_0096_AC6REVANXX/Project_P89-5Processed_150916/TrimmedFastqs/lib9158_C6REVANXX_trimmed.fastq...\n",
        "12.1637339592"
       ]
      },
      {
       "output_type": "stream",
       "stream": "stdout",
       "text": [
        "\n",
        "Running on /Volumes/genomics/Illumina/150910_D00565_0096_AC6REVANXX/Project_P89-5Processed_150916/TrimmedFastqs/lib8843_C6REVANXX_trimmed.fastq...\n",
        "17.6143701077"
       ]
      },
      {
       "output_type": "stream",
       "stream": "stdout",
       "text": [
        "\n",
        "Running on /Volumes/genomics/Illumina/150910_D00565_0096_AC6REVANXX/Project_P89-5Processed_150916/TrimmedFastqs/lib9193_C6REVANXX_trimmed.fastq...\n",
        "18.1678650379"
       ]
      },
      {
       "output_type": "stream",
       "stream": "stdout",
       "text": [
        "\n",
        "Running on /Volumes/genomics/Illumina/150910_D00565_0096_AC6REVANXX/Project_P89-5Processed_150916/TrimmedFastqs/lib8609_C6REVANXX_trimmed.fastq...\n",
        "33.9872488976"
       ]
      },
      {
       "output_type": "stream",
       "stream": "stdout",
       "text": [
        "\n",
        "Running on /Volumes/genomics/Illumina/150910_D00565_0096_AC6REVANXX/Project_P89-5Processed_150916/TrimmedFastqs/lib8898_C6REVANXX_trimmed.fastq...\n",
        "19.9558300972"
       ]
      },
      {
       "output_type": "stream",
       "stream": "stdout",
       "text": [
        "\n",
        "Running on /Volumes/genomics/Illumina/150910_D00565_0096_AC6REVANXX/Project_P89-5Processed_150916/TrimmedFastqs/lib9148_C6REVANXX_trimmed.fastq...\n",
        "23.7798559666"
       ]
      },
      {
       "output_type": "stream",
       "stream": "stdout",
       "text": [
        "\n",
        "Running on /Volumes/genomics/Illumina/150910_D00565_0096_AC6REVANXX/Project_P89-5Processed_150916/TrimmedFastqs/lib8853_C6REVANXX_trimmed.fastq...\n",
        "21.249450922"
       ]
      },
      {
       "output_type": "stream",
       "stream": "stdout",
       "text": [
        "\n",
        "Running on /Volumes/genomics/Illumina/150910_D00565_0096_AC6REVANXX/Project_P89-5Processed_150916/TrimmedFastqs/lib9183_C6REVANXX_trimmed.fastq...\n",
        "20.6741697788"
       ]
      },
      {
       "output_type": "stream",
       "stream": "stdout",
       "text": [
        "\n",
        "Running on /Volumes/genomics/Illumina/150910_D00565_0096_AC6REVANXX/Project_P89-5Processed_150916/TrimmedFastqs/lib8877_C6REVANXX_trimmed.fastq...\n",
        "22.5791621208"
       ]
      },
      {
       "output_type": "stream",
       "stream": "stdout",
       "text": [
        "\n",
        "Running on /Volumes/genomics/Illumina/150910_D00565_0096_AC6REVANXX/Project_P89-5Processed_150916/TrimmedFastqs/lib9204_C6REVANXX_trimmed.fastq...\n",
        "19.0106670856"
       ]
      },
      {
       "output_type": "stream",
       "stream": "stdout",
       "text": [
        "\n",
        "Running on /Volumes/genomics/Illumina/150910_D00565_0096_AC6REVANXX/Project_P89-5Processed_150916/TrimmedFastqs/lib8629_C6REVANXX_trimmed.fastq...\n",
        "26.6802811623"
       ]
      },
      {
       "output_type": "stream",
       "stream": "stdout",
       "text": [
        "\n",
        "Running on /Volumes/genomics/Illumina/150910_D00565_0096_AC6REVANXX/Project_P89-5Processed_150916/TrimmedFastqs/lib9168_C6REVANXX_trimmed.fastq...\n",
        "16.7838270664"
       ]
      },
      {
       "output_type": "stream",
       "stream": "stdout",
       "text": [
        "\n",
        "Running on /Volumes/genomics/Illumina/150910_D00565_0096_AC6REVANXX/Project_P89-5Processed_150916/TrimmedFastqs/lib9200_C6REVANXX_trimmed.fastq...\n",
        "25.8000011444"
       ]
      },
      {
       "output_type": "stream",
       "stream": "stdout",
       "text": [
        "\n",
        "Running on /Volumes/genomics/Illumina/150910_D00565_0096_AC6REVANXX/Project_P89-5Processed_150916/TrimmedFastqs/lib8912_C6REVANXX_trimmed.fastq...\n",
        "7.51485300064"
       ]
      },
      {
       "output_type": "stream",
       "stream": "stdout",
       "text": [
        "\n",
        "Running on /Volumes/genomics/Illumina/150910_D00565_0096_AC6REVANXX/Project_P89-5Processed_150916/TrimmedFastqs/lib8873_C6REVANXX_trimmed.fastq...\n",
        "19.1031279564"
       ]
      },
      {
       "output_type": "stream",
       "stream": "stdout",
       "text": [
        "\n",
        "Running on /Volumes/genomics/Illumina/150910_D00565_0096_AC6REVANXX/Project_P89-5Processed_150916/TrimmedFastqs/lib8857_C6REVANXX_trimmed.fastq...\n",
        "25.0055589676"
       ]
      },
      {
       "output_type": "stream",
       "stream": "stdout",
       "text": [
        "\n",
        "Running on /Volumes/genomics/Illumina/150910_D00565_0096_AC6REVANXX/Project_P89-5Processed_150916/TrimmedFastqs/lib9187_C6REVANXX_trimmed.fastq...\n",
        "18.5011019707"
       ]
      },
      {
       "output_type": "stream",
       "stream": "stdout",
       "text": [
        "\n",
        "Running on /Volumes/genomics/Illumina/150910_D00565_0096_AC6REVANXX/Project_P89-5Processed_150916/TrimmedFastqs/lib8847_C6REVANXX_trimmed.fastq...\n",
        "19.7534911633"
       ]
      },
      {
       "output_type": "stream",
       "stream": "stdout",
       "text": [
        "\n",
        "Running on /Volumes/genomics/Illumina/150910_D00565_0096_AC6REVANXX/Project_P89-5Processed_150916/TrimmedFastqs/lib9197_C6REVANXX_trimmed.fastq...\n",
        "15.1027889252"
       ]
      },
      {
       "output_type": "stream",
       "stream": "stdout",
       "text": [
        "\n",
        "Running on /Volumes/genomics/Illumina/150910_D00565_0096_AC6REVANXX/Project_P89-5Processed_150916/TrimmedFastqs/lib8575_C6REVANXX_trimmed.fastq...\n",
        "24.9461679459"
       ]
      },
      {
       "output_type": "stream",
       "stream": "stdout",
       "text": [
        "\n",
        "Running on /Volumes/genomics/Illumina/150910_D00565_0096_AC6REVANXX/Project_P89-5Processed_150916/TrimmedFastqs/lib9178_C6REVANXX_trimmed.fastq...\n",
        "23.8300669193"
       ]
      },
      {
       "output_type": "stream",
       "stream": "stdout",
       "text": [
        "\n",
        "Running on /Volumes/genomics/Illumina/150910_D00565_0096_AC6REVANXX/Project_P89-5Processed_150916/TrimmedFastqs/lib8902_C6REVANXX_trimmed.fastq...\n",
        "22.5283689499"
       ]
      },
      {
       "output_type": "stream",
       "stream": "stdout",
       "text": [
        "\n",
        "Running on /Volumes/genomics/Illumina/150910_D00565_0096_AC6REVANXX/Project_P89-5Processed_150916/TrimmedFastqs/lib8863_C6REVANXX_trimmed.fastq...\n",
        "18.6005170345"
       ]
      },
      {
       "output_type": "stream",
       "stream": "stdout",
       "text": [
        "\n",
        "Running on /Volumes/genomics/Illumina/150910_D00565_0096_AC6REVANXX/Project_P89-5Processed_150916/TrimmedFastqs/lib8874_C6REVANXX_trimmed.fastq...\n",
        "20.0007269382"
       ]
      },
      {
       "output_type": "stream",
       "stream": "stdout",
       "text": [
        "\n",
        "Running on /Volumes/genomics/Illumina/150910_D00565_0096_AC6REVANXX/Project_P89-5Processed_150916/TrimmedFastqs/lib9137_C6REVANXX_trimmed.fastq...\n",
        "21.7834479809"
       ]
      },
      {
       "output_type": "stream",
       "stream": "stdout",
       "text": [
        "\n",
        "Running on /Volumes/genomics/Illumina/150910_D00565_0096_AC6REVANXX/Project_P89-5Processed_150916/TrimmedFastqs/lib8850_C6REVANXX_trimmed.fastq...\n",
        "20.3894770145"
       ]
      },
      {
       "output_type": "stream",
       "stream": "stdout",
       "text": [
        "\n",
        "Running on /Volumes/genomics/Illumina/150910_D00565_0096_AC6REVANXX/Project_P89-5Processed_150916/TrimmedFastqs/lib9180_C6REVANXX_trimmed.fastq...\n",
        "26.7651751041"
       ]
      },
      {
       "output_type": "stream",
       "stream": "stdout",
       "text": [
        "\n",
        "Running on /Volumes/genomics/Illumina/150910_D00565_0096_AC6REVANXX/Project_P89-5Processed_150916/TrimmedFastqs/lib8840_C6REVANXX_trimmed.fastq...\n",
        "19.1185650826"
       ]
      },
      {
       "output_type": "stream",
       "stream": "stdout",
       "text": [
        "\n",
        "Running on /Volumes/genomics/Illumina/150910_D00565_0096_AC6REVANXX/Project_P89-5Processed_150916/TrimmedFastqs/lib9190_C6REVANXX_trimmed.fastq...\n",
        "13.4759960175"
       ]
      },
      {
       "output_type": "stream",
       "stream": "stdout",
       "text": [
        "\n",
        "Running on /Volumes/genomics/Illumina/150910_D00565_0096_AC6REVANXX/Project_P89-5Processed_150916/TrimmedFastqs/lib8905_C6REVANXX_trimmed.fastq...\n",
        "12.1221768856"
       ]
      },
      {
       "output_type": "stream",
       "stream": "stdout",
       "text": [
        "\n",
        "Running on /Volumes/genomics/Illumina/150910_D00565_0096_AC6REVANXX/Project_P89-5Processed_150916/TrimmedFastqs/lib8864_C6REVANXX_trimmed.fastq...\n",
        "21.0136749744"
       ]
      },
      {
       "output_type": "stream",
       "stream": "stdout",
       "text": [
        "\n",
        "Running on /Volumes/genomics/Illumina/150910_D00565_0096_AC6REVANXX/Project_P89-5Processed_150916/TrimmedFastqs/lib8599_C6REVANXX_trimmed.fastq...\n",
        "16.6637129784"
       ]
      },
      {
       "output_type": "stream",
       "stream": "stdout",
       "text": [
        "\n",
        "Running on /Volumes/genomics/Illumina/150910_D00565_0096_AC6REVANXX/Project_P89-5Processed_150916/TrimmedFastqs/lib8860_C6REVANXX_trimmed.fastq...\n",
        "25.6901271343"
       ]
      },
      {
       "output_type": "stream",
       "stream": "stdout",
       "text": [
        "\n",
        "Running on /Volumes/genomics/Illumina/150910_D00565_0096_AC6REVANXX/Project_P89-5Processed_150916/TrimmedFastqs/lib8901_C6REVANXX_trimmed.fastq...\n",
        "21.2850780487"
       ]
      },
      {
       "output_type": "stream",
       "stream": "stdout",
       "text": [
        "\n",
        "Running on /Volumes/genomics/Illumina/150910_D00565_0096_AC6REVANXX/Project_P89-5Processed_150916/TrimmedFastqs/lib8844_C6REVANXX_trimmed.fastq...\n",
        "22.2041289806"
       ]
      },
      {
       "output_type": "stream",
       "stream": "stdout",
       "text": [
        "\n",
        "Running on /Volumes/genomics/Illumina/150910_D00565_0096_AC6REVANXX/Project_P89-5Processed_150916/TrimmedFastqs/lib9194_C6REVANXX_trimmed.fastq...\n",
        "23.5356760025"
       ]
      },
      {
       "output_type": "stream",
       "stream": "stdout",
       "text": [
        "\n",
        "Running on /Volumes/genomics/Illumina/150910_D00565_0096_AC6REVANXX/Project_P89-5Processed_150916/TrimmedFastqs/lib8576_C6REVANXX_trimmed.fastq...\n",
        "19.7428119183"
       ]
      },
      {
       "output_type": "stream",
       "stream": "stdout",
       "text": [
        "\n",
        "Running on /Volumes/genomics/Illumina/150910_D00565_0096_AC6REVANXX/Project_P89-5Processed_150916/TrimmedFastqs/lib8854_C6REVANXX_trimmed.fastq...\n",
        "15.4442760944"
       ]
      },
      {
       "output_type": "stream",
       "stream": "stdout",
       "text": [
        "\n",
        "Running on /Volumes/genomics/Illumina/150910_D00565_0096_AC6REVANXX/Project_P89-5Processed_150916/TrimmedFastqs/lib9184_C6REVANXX_trimmed.fastq...\n",
        "16.4651241302"
       ]
      },
      {
       "output_type": "stream",
       "stream": "stdout",
       "text": [
        "\n",
        "Running on /Volumes/genomics/Illumina/150910_D00565_0096_AC6REVANXX/Project_P89-5Processed_150916/TrimmedFastqs/lib8589_C6REVANXX_trimmed.fastq...\n",
        "12.6196539402"
       ]
      },
      {
       "output_type": "stream",
       "stream": "stdout",
       "text": [
        "\n",
        "Running on /Volumes/genomics/Illumina/150910_D00565_0096_AC6REVANXX/Project_P89-5Processed_150916/TrimmedFastqs/lib9203_C6REVANXX_trimmed.fastq...\n",
        "19.7072279453"
       ]
      },
      {
       "output_type": "stream",
       "stream": "stdout",
       "text": [
        "\n",
        "Running on /Volumes/genomics/Illumina/150910_D00565_0096_AC6REVANXX/Project_P89-5Processed_150916/TrimmedFastqs/lib8870_C6REVANXX_trimmed.fastq...\n",
        "23.5228581429"
       ]
      },
      {
       "output_type": "stream",
       "stream": "stdout",
       "text": [
        "\n",
        "Running on /Volumes/genomics/Illumina/150910_D00565_0096_AC6REVANXX/Project_P89-5Processed_150916/TrimmedFastqs/lib8911_C6REVANXX_trimmed.fastq...\n",
        "22.7527809143"
       ]
      },
      {
       "output_type": "stream",
       "stream": "stdout",
       "text": [
        "\n",
        "Running on /Volumes/genomics/Illumina/150910_D00565_0096_AC6REVANXX/Project_P89-5Processed_150916/TrimmedFastqs/lib8878_C6REVANXX_trimmed.fastq...\n",
        "20.9639480114"
       ]
      },
      {
       "output_type": "stream",
       "stream": "stdout",
       "text": [
        "\n",
        "Running on /Volumes/genomics/Illumina/150910_D00565_0096_AC6REVANXX/Project_P89-5Processed_150916/TrimmedFastqs/lib9163_C6REVANXX_trimmed.fastq...\n",
        "24.0953938961"
       ]
      },
      {
       "output_type": "stream",
       "stream": "stdout",
       "text": [
        "\n",
        "Running on /Volumes/genomics/Illumina/150910_D00565_0096_AC6REVANXX/Project_P89-5Processed_150916/TrimmedFastqs/lib8581_C6REVANXX_trimmed.fastq...\n",
        "4.67321300507"
       ]
      },
      {
       "output_type": "stream",
       "stream": "stdout",
       "text": [
        "\n",
        "Running on /Volumes/genomics/Illumina/150910_D00565_0096_AC6REVANXX/Project_P89-5Processed_150916/TrimmedFastqs/lib8622_C6REVANXX_trimmed.fastq...\n",
        "27.1053380966"
       ]
      },
      {
       "output_type": "stream",
       "stream": "stdout",
       "text": [
        "\n",
        "Running on /Volumes/genomics/Illumina/150910_D00565_0096_AC6REVANXX/Project_P89-5Processed_150916/TrimmedFastqs/lib8606_C6REVANXX_trimmed.fastq...\n",
        "37.6156570911"
       ]
      },
      {
       "output_type": "stream",
       "stream": "stdout",
       "text": [
        "\n",
        "Running on /Volumes/genomics/Illumina/150910_D00565_0096_AC6REVANXX/Project_P89-5Processed_150916/TrimmedFastqs/lib8897_C6REVANXX_trimmed.fastq...\n",
        "19.193434"
       ]
      },
      {
       "output_type": "stream",
       "stream": "stdout",
       "text": [
        "\n",
        "Running on /Volumes/genomics/Illumina/150910_D00565_0096_AC6REVANXX/Project_P89-5Processed_150916/TrimmedFastqs/lib9147_C6REVANXX_trimmed.fastq...\n",
        "17.6943099499"
       ]
      },
      {
       "output_type": "stream",
       "stream": "stdout",
       "text": [
        "\n",
        "Running on /Volumes/genomics/Illumina/150910_D00565_0096_AC6REVANXX/Project_P89-5Processed_150916/TrimmedFastqs/lib8616_C6REVANXX_trimmed.fastq...\n",
        "33.8889329433"
       ]
      },
      {
       "output_type": "stream",
       "stream": "stdout",
       "text": [
        "\n",
        "Running on /Volumes/genomics/Illumina/150910_D00565_0096_AC6REVANXX/Project_P89-5Processed_150916/TrimmedFastqs/lib8887_C6REVANXX_trimmed.fastq...\n",
        "14.3448760509"
       ]
      },
      {
       "output_type": "stream",
       "stream": "stdout",
       "text": [
        "\n",
        "Running on /Volumes/genomics/Illumina/150910_D00565_0096_AC6REVANXX/Project_P89-5Processed_150916/TrimmedFastqs/lib9157_C6REVANXX_trimmed.fastq...\n",
        "23.5932919979"
       ]
      },
      {
       "output_type": "stream",
       "stream": "stdout",
       "text": [
        "\n",
        "Running on /Volumes/genomics/Illumina/150910_D00565_0096_AC6REVANXX/Project_P89-5Processed_150916/TrimmedFastqs/lib8868_C6REVANXX_trimmed.fastq...\n",
        "15.3010458946"
       ]
      },
      {
       "output_type": "stream",
       "stream": "stdout",
       "text": [
        "\n",
        "Running on /Volumes/genomics/Illumina/150910_D00565_0096_AC6REVANXX/Project_P89-5Processed_150916/TrimmedFastqs/lib8909_C6REVANXX_trimmed.fastq...\n",
        "23.3003470898"
       ]
      },
      {
       "output_type": "stream",
       "stream": "stdout",
       "text": [
        "\n",
        "Running on /Volumes/genomics/Illumina/150910_D00565_0096_AC6REVANXX/Project_P89-5Processed_150916/TrimmedFastqs/lib8591_C6REVANXX_trimmed.fastq...\n",
        "34.1641600132"
       ]
      },
      {
       "output_type": "stream",
       "stream": "stdout",
       "text": [
        "\n",
        "Running on /Volumes/genomics/Illumina/150910_D00565_0096_AC6REVANXX/Project_P89-5Processed_150916/TrimmedFastqs/lib9173_C6REVANXX_trimmed.fastq...\n",
        "19.496475935"
       ]
      },
      {
       "output_type": "stream",
       "stream": "stdout",
       "text": [
        "\n",
        "Running on /Volumes/genomics/Illumina/150910_D00565_0096_AC6REVANXX/Project_P89-5Processed_150916/TrimmedFastqs/lib8595_C6REVANXX_trimmed.fastq...\n",
        "27.6904420853"
       ]
      },
      {
       "output_type": "stream",
       "stream": "stdout",
       "text": [
        "\n",
        "Running on /Volumes/genomics/Illumina/150910_D00565_0096_AC6REVANXX/Project_P89-5Processed_150916/TrimmedFastqs/lib9177_C6REVANXX_trimmed.fastq...\n",
        "20.4944198132"
       ]
      },
      {
       "output_type": "stream",
       "stream": "stdout",
       "text": [
        "\n",
        "Running on /Volumes/genomics/Illumina/150910_D00565_0096_AC6REVANXX/Project_P89-5Processed_150916/TrimmedFastqs/lib8848_C6REVANXX_trimmed.fastq...\n",
        "17.4454159737"
       ]
      },
      {
       "output_type": "stream",
       "stream": "stdout",
       "text": [
        "\n",
        "Running on /Volumes/genomics/Illumina/150910_D00565_0096_AC6REVANXX/Project_P89-5Processed_150916/TrimmedFastqs/lib9198_C6REVANXX_trimmed.fastq...\n",
        "15.6208481789"
       ]
      },
      {
       "output_type": "stream",
       "stream": "stdout",
       "text": [
        "\n",
        "Running on /Volumes/genomics/Illumina/150910_D00565_0096_AC6REVANXX/Project_P89-5Processed_150916/TrimmedFastqs/lib8883_C6REVANXX_trimmed.fastq...\n",
        "15.961206913"
       ]
      },
      {
       "output_type": "stream",
       "stream": "stdout",
       "text": [
        "\n",
        "Running on /Volumes/genomics/Illumina/150910_D00565_0096_AC6REVANXX/Project_P89-5Processed_150916/TrimmedFastqs/lib9153_C6REVANXX_trimmed.fastq...\n",
        "24.2693440914"
       ]
      },
      {
       "output_type": "stream",
       "stream": "stdout",
       "text": [
        "\n",
        "Running on /Volumes/genomics/Illumina/150910_D00565_0096_AC6REVANXX/Project_P89-5Processed_150916/TrimmedFastqs/lib8612_C6REVANXX_trimmed.fastq...\n",
        "15.6966090202"
       ]
      },
      {
       "output_type": "stream",
       "stream": "stdout",
       "text": [
        "\n",
        "Running on /Volumes/genomics/Illumina/150910_D00565_0096_AC6REVANXX/Project_P89-5Processed_150916/TrimmedFastqs/lib8858_C6REVANXX_trimmed.fastq...\n",
        "7.3351650238"
       ]
      },
      {
       "output_type": "stream",
       "stream": "stdout",
       "text": [
        "\n",
        "Running on /Volumes/genomics/Illumina/150910_D00565_0096_AC6REVANXX/Project_P89-5Processed_150916/TrimmedFastqs/lib9188_C6REVANXX_trimmed.fastq...\n",
        "20.9596009254"
       ]
      },
      {
       "output_type": "stream",
       "stream": "stdout",
       "text": [
        "\n",
        "Running on /Volumes/genomics/Illumina/150910_D00565_0096_AC6REVANXX/Project_P89-5Processed_150916/TrimmedFastqs/lib8893_C6REVANXX_trimmed.fastq...\n",
        "14.0274078846"
       ]
      },
      {
       "output_type": "stream",
       "stream": "stdout",
       "text": [
        "\n",
        "Running on /Volumes/genomics/Illumina/150910_D00565_0096_AC6REVANXX/Project_P89-5Processed_150916/TrimmedFastqs/lib9143_C6REVANXX_trimmed.fastq...\n",
        "25.0776190758"
       ]
      },
      {
       "output_type": "stream",
       "stream": "stdout",
       "text": [
        "\n",
        "Running on /Volumes/genomics/Illumina/150910_D00565_0096_AC6REVANXX/Project_P89-5Processed_150916/TrimmedFastqs/lib8602_C6REVANXX_trimmed.fastq...\n",
        "25.7298409939"
       ]
      },
      {
       "output_type": "stream",
       "stream": "stdout",
       "text": [
        "\n",
        "Running on /Volumes/genomics/Illumina/150910_D00565_0096_AC6REVANXX/Project_P89-5Processed_150916/TrimmedFastqs/lib8626_C6REVANXX_trimmed.fastq...\n",
        "25.4502470493"
       ]
      },
      {
       "output_type": "stream",
       "stream": "stdout",
       "text": [
        "\n",
        "Running on /Volumes/genomics/Illumina/150910_D00565_0096_AC6REVANXX/Project_P89-5Processed_150916/TrimmedFastqs/lib9167_C6REVANXX_trimmed.fastq...\n",
        "21.0506870747"
       ]
      },
      {
       "output_type": "stream",
       "stream": "stdout",
       "text": [
        "\n",
        "Running on /Volumes/genomics/Illumina/150910_D00565_0096_AC6REVANXX/Project_P89-5Processed_150916/TrimmedFastqs/lib8585_C6REVANXX_trimmed.fastq...\n",
        "25.1820158958"
       ]
      },
      {
       "output_type": "stream",
       "stream": "stdout",
       "text": [
        "\n",
        "Running on /Volumes/genomics/Illumina/150910_D00565_0096_AC6REVANXX/Project_P89-5Processed_150916/mixcrOutput/lib9174_trimmed.fastq...\n",
        "21.7414798737"
       ]
      },
      {
       "output_type": "stream",
       "stream": "stdout",
       "text": [
        "\n",
        "Running on /Volumes/genomics/Illumina/150910_D00565_0096_AC6REVANXX/Project_P89-5Processed_150916/mixcrOutput/lib8852_trimmed.fastq...\n",
        "19.1782341003"
       ]
      },
      {
       "output_type": "stream",
       "stream": "stdout",
       "text": [
        "\n",
        "Running on /Volumes/genomics/Illumina/150910_D00565_0096_AC6REVANXX/Project_P89-5Processed_150916/mixcrOutput/lib9160_trimmed.fastq...\n",
        "19.382019043"
       ]
      },
      {
       "output_type": "stream",
       "stream": "stdout",
       "text": [
        "\n",
        "Running on /Volumes/genomics/Illumina/150910_D00565_0096_AC6REVANXX/Project_P89-5Processed_150916/mixcrOutput/lib8846_trimmed.fastq...\n",
        "8.88804984093"
       ]
      },
      {
       "output_type": "stream",
       "stream": "stdout",
       "text": [
        "\n",
        "Running on /Volumes/genomics/Illumina/150910_D00565_0096_AC6REVANXX/Project_P89-5Processed_150916/mixcrOutput/lib8622_trimmed.fastq...\n",
        "26.9552440643"
       ]
      },
      {
       "output_type": "stream",
       "stream": "stdout",
       "text": [
        "\n",
        "Running on /Volumes/genomics/Illumina/150910_D00565_0096_AC6REVANXX/Project_P89-5Processed_150916/mixcrOutput/lib9203_trimmed.fastq...\n",
        "19.3596699238"
       ]
      },
      {
       "output_type": "stream",
       "stream": "stdout",
       "text": [
        "\n",
        "Running on /Volumes/genomics/Illumina/150910_D00565_0096_AC6REVANXX/Project_P89-5Processed_150916/mixcrOutput/lib8583_trimmed.fastq...\n",
        "12.2242200375"
       ]
      },
      {
       "output_type": "stream",
       "stream": "stdout",
       "text": [
        "\n",
        "Running on /Volumes/genomics/Illumina/150910_D00565_0096_AC6REVANXX/Project_P89-5Processed_150916/mixcrOutput/lib8884_trimmed.fastq...\n",
        "14.4160490036"
       ]
      },
      {
       "output_type": "stream",
       "stream": "stdout",
       "text": [
        "\n",
        "Running on /Volumes/genomics/Illumina/150910_D00565_0096_AC6REVANXX/Project_P89-5Processed_150916/mixcrOutput/lib8911_trimmed.fastq...\n",
        "23.1869258881"
       ]
      },
      {
       "output_type": "stream",
       "stream": "stdout",
       "text": [
        "\n",
        "Running on /Volumes/genomics/Illumina/150910_D00565_0096_AC6REVANXX/Project_P89-5Processed_150916/mixcrOutput/lib8597_trimmed.fastq...\n",
        "31.5162529945"
       ]
      },
      {
       "output_type": "stream",
       "stream": "stdout",
       "text": [
        "\n",
        "Running on /Volumes/genomics/Illumina/150910_D00565_0096_AC6REVANXX/Project_P89-5Processed_150916/mixcrOutput/lib8890_trimmed.fastq...\n",
        "15.5584208965"
       ]
      },
      {
       "output_type": "stream",
       "stream": "stdout",
       "text": [
        "\n",
        "Running on /Volumes/genomics/Illumina/150910_D00565_0096_AC6REVANXX/Project_P89-5Processed_150916/mixcrOutput/lib9148_trimmed.fastq...\n",
        "23.2888729572"
       ]
      },
      {
       "output_type": "stream",
       "stream": "stdout",
       "text": [
        "\n",
        "Running on /Volumes/genomics/Illumina/150910_D00565_0096_AC6REVANXX/Project_P89-5Processed_150916/mixcrOutput/lib8905_trimmed.fastq...\n",
        "12.5590260029"
       ]
      },
      {
       "output_type": "stream",
       "stream": "stdout",
       "text": [
        "\n",
        "Running on /Volumes/genomics/Illumina/150910_D00565_0096_AC6REVANXX/Project_P89-5Processed_150916/mixcrOutput/lib9165_trimmed.fastq...\n",
        "20.6371030807"
       ]
      },
      {
       "output_type": "stream",
       "stream": "stdout",
       "text": [
        "\n",
        "Running on /Volumes/genomics/Illumina/150910_D00565_0096_AC6REVANXX/Project_P89-5Processed_150916/mixcrOutput/lib8843_trimmed.fastq...\n",
        "18.5087070465"
       ]
      },
      {
       "output_type": "stream",
       "stream": "stdout",
       "text": [
        "\n",
        "Running on /Volumes/genomics/Illumina/150910_D00565_0096_AC6REVANXX/Project_P89-5Processed_150916/mixcrOutput/lib8627_trimmed.fastq...\n",
        "15.2148659229"
       ]
      },
      {
       "output_type": "stream",
       "stream": "stdout",
       "text": [
        "\n",
        "Running on /Volumes/genomics/Illumina/150910_D00565_0096_AC6REVANXX/Project_P89-5Processed_150916/mixcrOutput/lib9171_trimmed.fastq...\n",
        "22.7993218899"
       ]
      },
      {
       "output_type": "stream",
       "stream": "stdout",
       "text": [
        "\n",
        "Running on /Volumes/genomics/Illumina/150910_D00565_0096_AC6REVANXX/Project_P89-5Processed_150916/mixcrOutput/lib8857_trimmed.fastq...\n",
        "23.9796628952"
       ]
      },
      {
       "output_type": "stream",
       "stream": "stdout",
       "text": [
        "\n",
        "Running on /Volumes/genomics/Illumina/150910_D00565_0096_AC6REVANXX/Project_P89-5Processed_150916/mixcrOutput/lib8592_trimmed.fastq...\n",
        "25.975785017"
       ]
      },
      {
       "output_type": "stream",
       "stream": "stdout",
       "text": [
        "\n",
        "Running on /Volumes/genomics/Illumina/150910_D00565_0096_AC6REVANXX/Project_P89-5Processed_150916/mixcrOutput/lib8895_trimmed.fastq...\n",
        "18.730943203"
       ]
      },
      {
       "output_type": "stream",
       "stream": "stdout",
       "text": [
        "\n",
        "Running on /Volumes/genomics/Illumina/150910_D00565_0096_AC6REVANXX/Project_P89-5Processed_150916/mixcrOutput/lib8900_trimmed.fastq...\n",
        "19.7299449444"
       ]
      },
      {
       "output_type": "stream",
       "stream": "stdout",
       "text": [
        "\n",
        "Running on /Volumes/genomics/Illumina/150910_D00565_0096_AC6REVANXX/Project_P89-5Processed_150916/mixcrOutput/lib9138_trimmed.fastq...\n",
        "10.8585000038"
       ]
      },
      {
       "output_type": "stream",
       "stream": "stdout",
       "text": [
        "\n",
        "Running on /Volumes/genomics/Illumina/150910_D00565_0096_AC6REVANXX/Project_P89-5Processed_150916/mixcrOutput/lib8586_trimmed.fastq...\n",
        "16.5250780582"
       ]
      },
      {
       "output_type": "stream",
       "stream": "stdout",
       "text": [
        "\n",
        "Running on /Volumes/genomics/Illumina/150910_D00565_0096_AC6REVANXX/Project_P89-5Processed_150916/mixcrOutput/lib8881_trimmed.fastq...\n",
        "17.1251327991"
       ]
      },
      {
       "output_type": "stream",
       "stream": "stdout",
       "text": [
        "\n",
        "Running on /Volumes/genomics/Illumina/150910_D00565_0096_AC6REVANXX/Project_P89-5Processed_150916/mixcrOutput/lib9159_trimmed.fastq...\n",
        "22.9750099182"
       ]
      },
      {
       "output_type": "stream",
       "stream": "stdout",
       "text": [
        "\n",
        "Running on /Volumes/genomics/Illumina/150910_D00565_0096_AC6REVANXX/Project_P89-5Processed_150916/mixcrOutput/lib8578_trimmed.fastq...\n",
        "18.4773511887"
       ]
      },
      {
       "output_type": "stream",
       "stream": "stdout",
       "text": [
        "\n",
        "Running on /Volumes/genomics/Illumina/150910_D00565_0096_AC6REVANXX/Project_P89-5Processed_150916/mixcrOutput/lib8589_trimmed.fastq...\n",
        "12.6524009705"
       ]
      },
      {
       "output_type": "stream",
       "stream": "stdout",
       "text": [
        "\n",
        "Running on /Volumes/genomics/Illumina/150910_D00565_0096_AC6REVANXX/Project_P89-5Processed_150916/mixcrOutput/lib8870_trimmed.fastq...\n",
        "22.9639589787"
       ]
      },
      {
       "output_type": "stream",
       "stream": "stdout",
       "text": [
        "\n",
        "Running on /Volumes/genomics/Illumina/150910_D00565_0096_AC6REVANXX/Project_P89-5Processed_150916/mixcrOutput/lib9156_trimmed.fastq...\n",
        "24.973377943"
       ]
      },
      {
       "output_type": "stream",
       "stream": "stdout",
       "text": [
        "\n",
        "Running on /Volumes/genomics/Illumina/150910_D00565_0096_AC6REVANXX/Project_P89-5Processed_150916/mixcrOutput/lib8577_trimmed.fastq...\n",
        "25.6473100185"
       ]
      },
      {
       "output_type": "stream",
       "stream": "stdout",
       "text": [
        "\n",
        "Running on /Volumes/genomics/Illumina/150910_D00565_0096_AC6REVANXX/Project_P89-5Processed_150916/mixcrOutput/lib8614_trimmed.fastq...\n",
        "10.9160499573"
       ]
      },
      {
       "output_type": "stream",
       "stream": "stdout",
       "text": [
        "\n",
        "Running on /Volumes/genomics/Illumina/150910_D00565_0096_AC6REVANXX/Project_P89-5Processed_150916/mixcrOutput/lib8864_trimmed.fastq...\n",
        "19.8844330311"
       ]
      },
      {
       "output_type": "stream",
       "stream": "stdout",
       "text": [
        "\n",
        "Running on /Volumes/genomics/Illumina/150910_D00565_0096_AC6REVANXX/Project_P89-5Processed_150916/mixcrOutput/lib9142_trimmed.fastq...\n",
        "11.1901049614"
       ]
      },
      {
       "output_type": "stream",
       "stream": "stdout",
       "text": [
        "\n",
        "Running on /Volumes/genomics/Illumina/150910_D00565_0096_AC6REVANXX/Project_P89-5Processed_150916/mixcrOutput/lib8600_trimmed.fastq...\n",
        "22.2717700005"
       ]
      },
      {
       "output_type": "stream",
       "stream": "stdout",
       "text": [
        "\n",
        "Running on /Volumes/genomics/Illumina/150910_D00565_0096_AC6REVANXX/Project_P89-5Processed_150916/mixcrOutput/lib9137_trimmed.fastq...\n",
        "22.9107301235"
       ]
      },
      {
       "output_type": "stream",
       "stream": "stdout",
       "text": [
        "\n",
        "Running on /Volumes/genomics/Illumina/150910_D00565_0096_AC6REVANXX/Project_P89-5Processed_150916/mixcrOutput/lib9180_trimmed.fastq...\n",
        "25.0741291046"
       ]
      },
      {
       "output_type": "stream",
       "stream": "stdout",
       "text": [
        "\n",
        "Running on /Volumes/genomics/Illumina/150910_D00565_0096_AC6REVANXX/Project_P89-5Processed_150916/mixcrOutput/lib8858_trimmed.fastq...\n",
        "6.90507793427"
       ]
      },
      {
       "output_type": "stream",
       "stream": "stdout",
       "text": [
        "\n",
        "Running on /Volumes/genomics/Illumina/150910_D00565_0096_AC6REVANXX/Project_P89-5Processed_150916/mixcrOutput/lib9194_trimmed.fastq...\n",
        "22.2481889725"
       ]
      },
      {
       "output_type": "stream",
       "stream": "stdout",
       "text": [
        "\n",
        "Running on /Volumes/genomics/Illumina/150910_D00565_0096_AC6REVANXX/Project_P89-5Processed_150916/mixcrOutput/lib8628_trimmed.fastq...\n",
        "40.303134203"
       ]
      },
      {
       "output_type": "stream",
       "stream": "stdout",
       "text": [
        "\n",
        "Running on /Volumes/genomics/Illumina/150910_D00565_0096_AC6REVANXX/Project_P89-5Processed_150916/mixcrOutput/lib8839_trimmed.fastq...\n",
        "18.6823279858"
       ]
      },
      {
       "output_type": "stream",
       "stream": "stdout",
       "text": [
        "\n",
        "Running on /Volumes/genomics/Illumina/150910_D00565_0096_AC6REVANXX/Project_P89-5Processed_150916/mixcrOutput/lib8598_trimmed.fastq...\n",
        "27.7123260498"
       ]
      },
      {
       "output_type": "stream",
       "stream": "stdout",
       "text": [
        "\n",
        "Running on /Volumes/genomics/Illumina/150910_D00565_0096_AC6REVANXX/Project_P89-5Processed_150916/mixcrOutput/lib8861_trimmed.fastq...\n",
        "25.1355109215"
       ]
      },
      {
       "output_type": "stream",
       "stream": "stdout",
       "text": [
        "\n",
        "Running on /Volumes/genomics/Illumina/150910_D00565_0096_AC6REVANXX/Project_P89-5Processed_150916/mixcrOutput/lib9147_trimmed.fastq...\n",
        "17.5864570141"
       ]
      },
      {
       "output_type": "stream",
       "stream": "stdout",
       "text": [
        "\n",
        "Running on /Volumes/genomics/Illumina/150910_D00565_0096_AC6REVANXX/Project_P89-5Processed_150916/mixcrOutput/lib8605_trimmed.fastq...\n",
        "29.4105548859"
       ]
      },
      {
       "output_type": "stream",
       "stream": "stdout",
       "text": [
        "\n",
        "Running on /Volumes/genomics/Illumina/150910_D00565_0096_AC6REVANXX/Project_P89-5Processed_150916/mixcrOutput/lib8875_trimmed.fastq...\n",
        "19.7374019623"
       ]
      },
      {
       "output_type": "stream",
       "stream": "stdout",
       "text": [
        "\n",
        "Running on /Volumes/genomics/Illumina/150910_D00565_0096_AC6REVANXX/Project_P89-5Processed_150916/mixcrOutput/lib9153_trimmed.fastq...\n",
        "25.5982198715"
       ]
      },
      {
       "output_type": "stream",
       "stream": "stdout",
       "text": [
        "\n",
        "Running on /Volumes/genomics/Illumina/150910_D00565_0096_AC6REVANXX/Project_P89-5Processed_150916/mixcrOutput/lib8611_trimmed.fastq...\n",
        "36.8074700832"
       ]
      },
      {
       "output_type": "stream",
       "stream": "stdout",
       "text": [
        "\n",
        "Running on /Volumes/genomics/Illumina/150910_D00565_0096_AC6REVANXX/Project_P89-5Processed_150916/mixcrOutput/lib9191_trimmed.fastq...\n",
        "18.0412049294"
       ]
      },
      {
       "output_type": "stream",
       "stream": "stdout",
       "text": [
        "\n",
        "Running on /Volumes/genomics/Illumina/150910_D00565_0096_AC6REVANXX/Project_P89-5Processed_150916/mixcrOutput/lib8849_trimmed.fastq...\n",
        "18.2746219635"
       ]
      },
      {
       "output_type": "stream",
       "stream": "stdout",
       "text": [
        "\n",
        "Running on /Volumes/genomics/Illumina/150910_D00565_0096_AC6REVANXX/Project_P89-5Processed_150916/mixcrOutput/lib9185_trimmed.fastq...\n",
        "22.493503809"
       ]
      },
      {
       "output_type": "stream",
       "stream": "stdout",
       "text": [
        "\n",
        "Running on /Volumes/genomics/Illumina/150910_D00565_0096_AC6REVANXX/Project_P89-5Processed_150916/mixcrOutput/lib8908_trimmed.fastq...\n",
        "19.6265969276"
       ]
      },
      {
       "output_type": "stream",
       "stream": "stdout",
       "text": [
        "\n",
        "Running on /Volumes/genomics/Illumina/150910_D00565_0096_AC6REVANXX/Project_P89-5Processed_150916/mixcrOutput/lib8607_trimmed.fastq...\n",
        "33.9745380878"
       ]
      },
      {
       "output_type": "stream",
       "stream": "stdout",
       "text": [
        "\n",
        "Running on /Volumes/genomics/Illumina/150910_D00565_0096_AC6REVANXX/Project_P89-5Processed_150916/mixcrOutput/lib8863_trimmed.fastq...\n",
        "18.2946050167"
       ]
      },
      {
       "output_type": "stream",
       "stream": "stdout",
       "text": [
        "\n",
        "Running on /Volumes/genomics/Illumina/150910_D00565_0096_AC6REVANXX/Project_P89-5Processed_150916/mixcrOutput/lib9145_trimmed.fastq...\n",
        "1.97173190117"
       ]
      },
      {
       "output_type": "stream",
       "stream": "stdout",
       "text": [
        "\n",
        "Running on /Volumes/genomics/Illumina/150910_D00565_0096_AC6REVANXX/Project_P89-5Processed_150916/mixcrOutput/lib8613_trimmed.fastq...\n",
        "28.4440422058"
       ]
      },
      {
       "output_type": "stream",
       "stream": "stdout",
       "text": [
        "\n",
        "Running on /Volumes/genomics/Illumina/150910_D00565_0096_AC6REVANXX/Project_P89-5Processed_150916/mixcrOutput/lib8889_trimmed.fastq...\n",
        "18.49289608"
       ]
      },
      {
       "output_type": "stream",
       "stream": "stdout",
       "text": [
        "\n",
        "Running on /Volumes/genomics/Illumina/150910_D00565_0096_AC6REVANXX/Project_P89-5Processed_150916/mixcrOutput/lib8877_trimmed.fastq...\n",
        "24.1350018978"
       ]
      },
      {
       "output_type": "stream",
       "stream": "stdout",
       "text": [
        "\n",
        "Running on /Volumes/genomics/Illumina/150910_D00565_0096_AC6REVANXX/Project_P89-5Processed_150916/mixcrOutput/lib9151_trimmed.fastq...\n",
        "25.4454748631"
       ]
      },
      {
       "output_type": "stream",
       "stream": "stdout",
       "text": [
        "\n",
        "Running on /Volumes/genomics/Illumina/150910_D00565_0096_AC6REVANXX/Project_P89-5Processed_150916/mixcrOutput/lib9193_trimmed.fastq...\n",
        "17.2191758156"
       ]
      },
      {
       "output_type": "stream",
       "stream": "stdout",
       "text": [
        "\n",
        "Running on /Volumes/genomics/Illumina/150910_D00565_0096_AC6REVANXX/Project_P89-5Processed_150916/mixcrOutput/lib9187_trimmed.fastq...\n",
        "19.1646060944"
       ]
      },
      {
       "output_type": "stream",
       "stream": "stdout",
       "text": [
        "\n",
        "Running on /Volumes/genomics/Illumina/150910_D00565_0096_AC6REVANXX/Project_P89-5Processed_150916/mixcrOutput/lib9179_trimmed.fastq...\n",
        "13.2104010582"
       ]
      },
      {
       "output_type": "stream",
       "stream": "stdout",
       "text": [
        "\n",
        "Running on /Volumes/genomics/Illumina/150910_D00565_0096_AC6REVANXX/Project_P89-5Processed_150916/mixcrOutput/lib8616_trimmed.fastq...\n",
        "33.5029261112"
       ]
      },
      {
       "output_type": "stream",
       "stream": "stdout",
       "text": [
        "\n",
        "Running on /Volumes/genomics/Illumina/150910_D00565_0096_AC6REVANXX/Project_P89-5Processed_150916/mixcrOutput/lib8872_trimmed.fastq...\n",
        "18.7658500671"
       ]
      },
      {
       "output_type": "stream",
       "stream": "stdout",
       "text": [
        "\n",
        "Running on /Volumes/genomics/Illumina/150910_D00565_0096_AC6REVANXX/Project_P89-5Processed_150916/mixcrOutput/lib9154_trimmed.fastq...\n",
        "20.8294460773"
       ]
      },
      {
       "output_type": "stream",
       "stream": "stdout",
       "text": [
        "\n",
        "Running on /Volumes/genomics/Illumina/150910_D00565_0096_AC6REVANXX/Project_P89-5Processed_150916/mixcrOutput/lib8575_trimmed.fastq...\n",
        "23.5523798466"
       ]
      },
      {
       "output_type": "stream",
       "stream": "stdout",
       "text": [
        "\n",
        "Running on /Volumes/genomics/Illumina/150910_D00565_0096_AC6REVANXX/Project_P89-5Processed_150916/mixcrOutput/lib8602_trimmed.fastq...\n",
        "26.7303659916"
       ]
      },
      {
       "output_type": "stream",
       "stream": "stdout",
       "text": [
        "\n",
        "Running on /Volumes/genomics/Illumina/150910_D00565_0096_AC6REVANXX/Project_P89-5Processed_150916/mixcrOutput/lib9135_trimmed.fastq...\n",
        "17.0510790348"
       ]
      },
      {
       "output_type": "stream",
       "stream": "stdout",
       "text": [
        "\n",
        "Running on /Volumes/genomics/Illumina/150910_D00565_0096_AC6REVANXX/Project_P89-5Processed_150916/mixcrOutput/lib8898_trimmed.fastq...\n",
        "19.7684261799"
       ]
      },
      {
       "output_type": "stream",
       "stream": "stdout",
       "text": [
        "\n",
        "Running on /Volumes/genomics/Illumina/150910_D00565_0096_AC6REVANXX/Project_P89-5Processed_150916/mixcrOutput/lib8866_trimmed.fastq...\n",
        "19.2739920616"
       ]
      },
      {
       "output_type": "stream",
       "stream": "stdout",
       "text": [
        "\n",
        "Running on /Volumes/genomics/Illumina/150910_D00565_0096_AC6REVANXX/Project_P89-5Processed_150916/mixcrOutput/lib9140_trimmed.fastq...\n",
        "22.2278211117"
       ]
      },
      {
       "output_type": "stream",
       "stream": "stdout",
       "text": [
        "\n",
        "Running on /Volumes/genomics/Illumina/150910_D00565_0096_AC6REVANXX/Project_P89-5Processed_150916/mixcrOutput/lib9182_trimmed.fastq...\n",
        "22.6257560253"
       ]
      },
      {
       "output_type": "stream",
       "stream": "stdout",
       "text": [
        "\n",
        "Running on /Volumes/genomics/Illumina/150910_D00565_0096_AC6REVANXX/Project_P89-5Processed_150916/mixcrOutput/lib9196_trimmed.fastq...\n",
        "18.7553651333"
       ]
      },
      {
       "output_type": "stream",
       "stream": "stdout",
       "text": [
        "\n",
        "Running on /Volumes/genomics/Illumina/150910_D00565_0096_AC6REVANXX/Project_P89-5Processed_150916/mixcrOutput/lib9168_trimmed.fastq...\n",
        "15.3597540855"
       ]
      },
      {
       "output_type": "stream",
       "stream": "stdout",
       "text": [
        "\n",
        "Running on /Volumes/genomics/Illumina/150910_D00565_0096_AC6REVANXX/Project_P89-5Processed_150916/mixcrOutput/lib8625_trimmed.fastq...\n",
        "35.6705329418"
       ]
      },
      {
       "output_type": "stream",
       "stream": "stdout",
       "text": [
        "\n",
        "Running on /Volumes/genomics/Illumina/150910_D00565_0096_AC6REVANXX/Project_P89-5Processed_150916/mixcrOutput/lib9204_trimmed.fastq...\n",
        "18.7178668976"
       ]
      },
      {
       "output_type": "stream",
       "stream": "stdout",
       "text": [
        "\n",
        "Running on /Volumes/genomics/Illumina/150910_D00565_0096_AC6REVANXX/Project_P89-5Processed_150916/mixcrOutput/lib9199_trimmed.fastq...\n",
        "19.6446089745"
       ]
      },
      {
       "output_type": "stream",
       "stream": "stdout",
       "text": [
        "\n",
        "Running on /Volumes/genomics/Illumina/150910_D00565_0096_AC6REVANXX/Project_P89-5Processed_150916/mixcrOutput/lib9167_trimmed.fastq...\n",
        "20.8349969387"
       ]
      },
      {
       "output_type": "stream",
       "stream": "stdout",
       "text": [
        "\n",
        "Running on /Volumes/genomics/Illumina/150910_D00565_0096_AC6REVANXX/Project_P89-5Processed_150916/mixcrOutput/lib8841_trimmed.fastq...\n",
        "22.8915829659"
       ]
      },
      {
       "output_type": "stream",
       "stream": "stdout",
       "text": [
        "\n",
        "Running on /Volumes/genomics/Illumina/150910_D00565_0096_AC6REVANXX/Project_P89-5Processed_150916/mixcrOutput/lib9173_trimmed.fastq...\n",
        "18.3886129856"
       ]
      },
      {
       "output_type": "stream",
       "stream": "stdout",
       "text": [
        "\n",
        "Running on /Volumes/genomics/Illumina/150910_D00565_0096_AC6REVANXX/Project_P89-5Processed_150916/mixcrOutput/lib8855_trimmed.fastq...\n",
        "15.4856340885"
       ]
      },
      {
       "output_type": "stream",
       "stream": "stdout",
       "text": [
        "\n",
        "Running on /Volumes/genomics/Illumina/150910_D00565_0096_AC6REVANXX/Project_P89-5Processed_150916/mixcrOutput/lib8902_trimmed.fastq...\n",
        "21.7393200397"
       ]
      },
      {
       "output_type": "stream",
       "stream": "stdout",
       "text": [
        "\n",
        "Running on /Volumes/genomics/Illumina/150910_D00565_0096_AC6REVANXX/Project_P89-5Processed_150916/mixcrOutput/lib8590_trimmed.fastq...\n",
        "4.86032700539"
       ]
      },
      {
       "output_type": "stream",
       "stream": "stdout",
       "text": [
        "\n",
        "Running on /Volumes/genomics/Illumina/150910_D00565_0096_AC6REVANXX/Project_P89-5Processed_150916/mixcrOutput/lib8897_trimmed.fastq...\n",
        "18.4092741013"
       ]
      },
      {
       "output_type": "stream",
       "stream": "stdout",
       "text": [
        "\n",
        "Running on /Volumes/genomics/Illumina/150910_D00565_0096_AC6REVANXX/Project_P89-5Processed_150916/mixcrOutput/lib8869_trimmed.fastq...\n",
        "15.0840339661"
       ]
      },
      {
       "output_type": "stream",
       "stream": "stdout",
       "text": [
        "\n",
        "Running on /Volumes/genomics/Illumina/150910_D00565_0096_AC6REVANXX/Project_P89-5Processed_150916/mixcrOutput/lib8619_trimmed.fastq...\n",
        "32.9043569565"
       ]
      },
      {
       "output_type": "stream",
       "stream": "stdout",
       "text": [
        "\n",
        "Running on /Volumes/genomics/Illumina/150910_D00565_0096_AC6REVANXX/Project_P89-5Processed_150916/mixcrOutput/lib8584_trimmed.fastq...\n",
        "19.6327831745"
       ]
      },
      {
       "output_type": "stream",
       "stream": "stdout",
       "text": [
        "\n",
        "Running on /Volumes/genomics/Illumina/150910_D00565_0096_AC6REVANXX/Project_P89-5Processed_150916/mixcrOutput/lib8883_trimmed.fastq...\n",
        "15.7013299465"
       ]
      },
      {
       "output_type": "stream",
       "stream": "stdout",
       "text": [
        "\n",
        "Running on /Volumes/genomics/Illumina/150910_D00565_0096_AC6REVANXX/Project_P89-5Processed_150916/mixcrOutput/lib9188_trimmed.fastq...\n",
        "20.4852159023"
       ]
      },
      {
       "output_type": "stream",
       "stream": "stdout",
       "text": [
        "\n",
        "Running on /Volumes/genomics/Illumina/150910_D00565_0096_AC6REVANXX/Project_P89-5Processed_150916/mixcrOutput/lib9176_trimmed.fastq...\n",
        "20.495994091"
       ]
      },
      {
       "output_type": "stream",
       "stream": "stdout",
       "text": [
        "\n",
        "Running on /Volumes/genomics/Illumina/150910_D00565_0096_AC6REVANXX/Project_P89-5Processed_150916/mixcrOutput/lib8850_trimmed.fastq...\n",
        "19.3838949203"
       ]
      },
      {
       "output_type": "stream",
       "stream": "stdout",
       "text": [
        "\n",
        "Running on /Volumes/genomics/Illumina/150910_D00565_0096_AC6REVANXX/Project_P89-5Processed_150916/mixcrOutput/lib8620_trimmed.fastq...\n",
        "34.8043689728"
       ]
      },
      {
       "output_type": "stream",
       "stream": "stdout",
       "text": [
        "\n",
        "Running on /Volumes/genomics/Illumina/150910_D00565_0096_AC6REVANXX/Project_P89-5Processed_150916/mixcrOutput/lib9201_trimmed.fastq...\n",
        "26.243021965"
       ]
      },
      {
       "output_type": "stream",
       "stream": "stdout",
       "text": [
        "\n",
        "Running on /Volumes/genomics/Illumina/150910_D00565_0096_AC6REVANXX/Project_P89-5Processed_150916/mixcrOutput/lib9162_trimmed.fastq...\n",
        "22.6420559883"
       ]
      },
      {
       "output_type": "stream",
       "stream": "stdout",
       "text": [
        "\n",
        "Running on /Volumes/genomics/Illumina/150910_D00565_0096_AC6REVANXX/Project_P89-5Processed_150916/mixcrOutput/lib8844_trimmed.fastq...\n",
        "20.8575730324"
       ]
      },
      {
       "output_type": "stream",
       "stream": "stdout",
       "text": [
        "\n",
        "Running on /Volumes/genomics/Illumina/150910_D00565_0096_AC6REVANXX/Project_P89-5Processed_150916/mixcrOutput/lib8581_trimmed.fastq...\n",
        "3.44516181946"
       ]
      },
      {
       "output_type": "stream",
       "stream": "stdout",
       "text": [
        "\n",
        "Running on /Volumes/genomics/Illumina/150910_D00565_0096_AC6REVANXX/Project_P89-5Processed_150916/mixcrOutput/lib8886_trimmed.fastq...\n",
        "4.5263698101"
       ]
      },
      {
       "output_type": "stream",
       "stream": "stdout",
       "text": [
        "\n",
        "Running on /Volumes/genomics/Illumina/150910_D00565_0096_AC6REVANXX/Project_P89-5Processed_150916/mixcrOutput/lib8878_trimmed.fastq...\n",
        "20.3646888733"
       ]
      },
      {
       "output_type": "stream",
       "stream": "stdout",
       "text": [
        "\n",
        "Running on /Volumes/genomics/Illumina/150910_D00565_0096_AC6REVANXX/Project_P89-5Processed_150916/mixcrOutput/lib8907_trimmed.fastq...\n",
        "20.2687590122"
       ]
      },
      {
       "output_type": "stream",
       "stream": "stdout",
       "text": [
        "\n",
        "Running on /Volumes/genomics/Illumina/150910_D00565_0096_AC6REVANXX/Project_P89-5Processed_150916/mixcrOutput/lib8608_trimmed.fastq...\n",
        "32.4814770222"
       ]
      },
      {
       "output_type": "stream",
       "stream": "stdout",
       "text": [
        "\n",
        "Running on /Volumes/genomics/Illumina/150910_D00565_0096_AC6REVANXX/Project_P89-5Processed_150916/mixcrOutput/lib8595_trimmed.fastq...\n",
        "26.1627750397"
       ]
      },
      {
       "output_type": "stream",
       "stream": "stdout",
       "text": [
        "\n",
        "Running on /Volumes/genomics/Illumina/150910_D00565_0096_AC6REVANXX/Project_P89-5Processed_150916/mixcrOutput/lib8892_trimmed.fastq...\n",
        "15.9606769085"
       ]
      },
      {
       "output_type": "stream",
       "stream": "stdout",
       "text": [
        "\n",
        "Running on /Volumes/genomics/Illumina/150910_D00565_0096_AC6REVANXX/Project_P89-5Processed_150916/mixcrOutput/lib9189_trimmed.fastq...\n",
        "23.2633399963"
       ]
      },
      {
       "output_type": "stream",
       "stream": "stdout",
       "text": [
        "\n",
        "Running on /Volumes/genomics/Illumina/150910_D00565_0096_AC6REVANXX/Project_P89-5Processed_150916/mixcrOutput/lib8851_trimmed.fastq...\n",
        "7.6069278717"
       ]
      },
      {
       "output_type": "stream",
       "stream": "stdout",
       "text": [
        "\n",
        "Running on /Volumes/genomics/Illumina/150910_D00565_0096_AC6REVANXX/Project_P89-5Processed_150916/mixcrOutput/lib9177_trimmed.fastq...\n",
        "20.8840050697"
       ]
      },
      {
       "output_type": "stream",
       "stream": "stdout",
       "text": [
        "\n",
        "Running on /Volumes/genomics/Illumina/150910_D00565_0096_AC6REVANXX/Project_P89-5Processed_150916/mixcrOutput/lib8621_trimmed.fastq...\n",
        "14.7859520912"
       ]
      },
      {
       "output_type": "stream",
       "stream": "stdout",
       "text": [
        "\n",
        "Running on /Volumes/genomics/Illumina/150910_D00565_0096_AC6REVANXX/Project_P89-5Processed_150916/mixcrOutput/lib9200_trimmed.fastq...\n",
        "25.9190599918"
       ]
      },
      {
       "output_type": "stream",
       "stream": "stdout",
       "text": [
        "\n",
        "Running on /Volumes/genomics/Illumina/150910_D00565_0096_AC6REVANXX/Project_P89-5Processed_150916/mixcrOutput/lib8845_trimmed.fastq...\n",
        "22.6477570534"
       ]
      },
      {
       "output_type": "stream",
       "stream": "stdout",
       "text": [
        "\n",
        "Running on /Volumes/genomics/Illumina/150910_D00565_0096_AC6REVANXX/Project_P89-5Processed_150916/mixcrOutput/lib9163_trimmed.fastq...\n",
        "23.1158239841"
       ]
      },
      {
       "output_type": "stream",
       "stream": "stdout",
       "text": [
        "\n",
        "Running on /Volumes/genomics/Illumina/150910_D00565_0096_AC6REVANXX/Project_P89-5Processed_150916/mixcrOutput/lib8912_trimmed.fastq...\n",
        "6.57288789749"
       ]
      },
      {
       "output_type": "stream",
       "stream": "stdout",
       "text": [
        "\n",
        "Running on /Volumes/genomics/Illumina/150910_D00565_0096_AC6REVANXX/Project_P89-5Processed_150916/mixcrOutput/lib8580_trimmed.fastq...\n",
        "29.6537868977"
       ]
      },
      {
       "output_type": "stream",
       "stream": "stdout",
       "text": [
        "\n",
        "Running on /Volumes/genomics/Illumina/150910_D00565_0096_AC6REVANXX/Project_P89-5Processed_150916/mixcrOutput/lib8887_trimmed.fastq...\n",
        "13.4971039295"
       ]
      },
      {
       "output_type": "stream",
       "stream": "stdout",
       "text": [
        "\n",
        "Running on /Volumes/genomics/Illumina/150910_D00565_0096_AC6REVANXX/Project_P89-5Processed_150916/mixcrOutput/lib8879_trimmed.fastq...\n",
        "18.701720953"
       ]
      },
      {
       "output_type": "stream",
       "stream": "stdout",
       "text": [
        "\n",
        "Running on /Volumes/genomics/Illumina/150910_D00565_0096_AC6REVANXX/Project_P89-5Processed_150916/mixcrOutput/lib8906_trimmed.fastq...\n",
        "20.5492660999"
       ]
      },
      {
       "output_type": "stream",
       "stream": "stdout",
       "text": [
        "\n",
        "Running on /Volumes/genomics/Illumina/150910_D00565_0096_AC6REVANXX/Project_P89-5Processed_150916/mixcrOutput/lib8609_trimmed.fastq...\n",
        "34.0502841473"
       ]
      },
      {
       "output_type": "stream",
       "stream": "stdout",
       "text": [
        "\n",
        "Running on /Volumes/genomics/Illumina/150910_D00565_0096_AC6REVANXX/Project_P89-5Processed_150916/mixcrOutput/lib8594_trimmed.fastq...\n",
        "13.4298479557"
       ]
      },
      {
       "output_type": "stream",
       "stream": "stdout",
       "text": [
        "\n",
        "Running on /Volumes/genomics/Illumina/150910_D00565_0096_AC6REVANXX/Project_P89-5Processed_150916/mixcrOutput/lib8893_trimmed.fastq...\n",
        "13.1587820053"
       ]
      },
      {
       "output_type": "stream",
       "stream": "stdout",
       "text": [
        "\n",
        "Running on /Volumes/genomics/Illumina/150910_D00565_0096_AC6REVANXX/Project_P89-5Processed_150916/mixcrOutput/lib8624_trimmed.fastq...\n",
        "34.3370709419"
       ]
      },
      {
       "output_type": "stream",
       "stream": "stdout",
       "text": [
        "\n",
        "Running on /Volumes/genomics/Illumina/150910_D00565_0096_AC6REVANXX/Project_P89-5Processed_150916/mixcrOutput/lib9205_trimmed.fastq...\n",
        "21.1306509972"
       ]
      },
      {
       "output_type": "stream",
       "stream": "stdout",
       "text": [
        "\n",
        "Running on /Volumes/genomics/Illumina/150910_D00565_0096_AC6REVANXX/Project_P89-5Processed_150916/mixcrOutput/lib9198_trimmed.fastq...\n",
        "15.1093959808"
       ]
      },
      {
       "output_type": "stream",
       "stream": "stdout",
       "text": [
        "\n",
        "Running on /Volumes/genomics/Illumina/150910_D00565_0096_AC6REVANXX/Project_P89-5Processed_150916/mixcrOutput/lib8840_trimmed.fastq...\n",
        "20.1875879765"
       ]
      },
      {
       "output_type": "stream",
       "stream": "stdout",
       "text": [
        "\n",
        "Running on /Volumes/genomics/Illumina/150910_D00565_0096_AC6REVANXX/Project_P89-5Processed_150916/mixcrOutput/lib9166_trimmed.fastq...\n",
        "21.4377679825"
       ]
      },
      {
       "output_type": "stream",
       "stream": "stdout",
       "text": [
        "\n",
        "Running on /Volumes/genomics/Illumina/150910_D00565_0096_AC6REVANXX/Project_P89-5Processed_150916/mixcrOutput/lib8630_trimmed.fastq...\n",
        "28.9195039272"
       ]
      },
      {
       "output_type": "stream",
       "stream": "stdout",
       "text": [
        "\n",
        "Running on /Volumes/genomics/Illumina/150910_D00565_0096_AC6REVANXX/Project_P89-5Processed_150916/mixcrOutput/lib8854_trimmed.fastq...\n",
        "13.8898568153"
       ]
      },
      {
       "output_type": "stream",
       "stream": "stdout",
       "text": [
        "\n",
        "Running on /Volumes/genomics/Illumina/150910_D00565_0096_AC6REVANXX/Project_P89-5Processed_150916/mixcrOutput/lib9172_trimmed.fastq...\n",
        "2.58597803116"
       ]
      },
      {
       "output_type": "stream",
       "stream": "stdout",
       "text": [
        "\n",
        "Running on /Volumes/genomics/Illumina/150910_D00565_0096_AC6REVANXX/Project_P89-5Processed_150916/mixcrOutput/lib8903_trimmed.fastq...\n",
        "16.2729518414"
       ]
      },
      {
       "output_type": "stream",
       "stream": "stdout",
       "text": [
        "\n",
        "Running on /Volumes/genomics/Illumina/150910_D00565_0096_AC6REVANXX/Project_P89-5Processed_150916/mixcrOutput/lib8591_trimmed.fastq...\n",
        "30.0292739868"
       ]
      },
      {
       "output_type": "stream",
       "stream": "stdout",
       "text": [
        "\n",
        "Running on /Volumes/genomics/Illumina/150910_D00565_0096_AC6REVANXX/Project_P89-5Processed_150916/mixcrOutput/lib8896_trimmed.fastq...\n",
        "12.3034100533"
       ]
      },
      {
       "output_type": "stream",
       "stream": "stdout",
       "text": [
        "\n",
        "Running on /Volumes/genomics/Illumina/150910_D00565_0096_AC6REVANXX/Project_P89-5Processed_150916/mixcrOutput/lib8868_trimmed.fastq...\n",
        "14.3609139919"
       ]
      },
      {
       "output_type": "stream",
       "stream": "stdout",
       "text": [
        "\n",
        "Running on /Volumes/genomics/Illumina/150910_D00565_0096_AC6REVANXX/Project_P89-5Processed_150916/mixcrOutput/lib8618_trimmed.fastq...\n",
        "20.2983088493"
       ]
      },
      {
       "output_type": "stream",
       "stream": "stdout",
       "text": [
        "\n",
        "Running on /Volumes/genomics/Illumina/150910_D00565_0096_AC6REVANXX/Project_P89-5Processed_150916/mixcrOutput/lib8585_trimmed.fastq...\n",
        "25.9070701599"
       ]
      },
      {
       "output_type": "stream",
       "stream": "stdout",
       "text": [
        "\n",
        "Running on /Volumes/genomics/Illumina/150910_D00565_0096_AC6REVANXX/Project_P89-5Processed_150916/mixcrOutput/lib8882_trimmed.fastq...\n",
        "16.0715520382"
       ]
      },
      {
       "output_type": "stream",
       "stream": "stdout",
       "text": [
        "\n",
        "Running on /Volumes/genomics/Illumina/150910_D00565_0096_AC6REVANXX/Project_P89-5Processed_150916/mixcrOutput/lib8617_trimmed.fastq...\n",
        "22.4203891754"
       ]
      },
      {
       "output_type": "stream",
       "stream": "stdout",
       "text": [
        "\n",
        "Running on /Volumes/genomics/Illumina/150910_D00565_0096_AC6REVANXX/Project_P89-5Processed_150916/mixcrOutput/lib9155_trimmed.fastq...\n",
        "15.492069006"
       ]
      },
      {
       "output_type": "stream",
       "stream": "stdout",
       "text": [
        "\n",
        "Running on /Volumes/genomics/Illumina/150910_D00565_0096_AC6REVANXX/Project_P89-5Processed_150916/mixcrOutput/lib8873_trimmed.fastq...\n",
        "18.5968959332"
       ]
      },
      {
       "output_type": "stream",
       "stream": "stdout",
       "text": [
        "\n",
        "Running on /Volumes/genomics/Illumina/150910_D00565_0096_AC6REVANXX/Project_P89-5Processed_150916/mixcrOutput/lib8574_trimmed.fastq...\n",
        "19.5564370155"
       ]
      },
      {
       "output_type": "stream",
       "stream": "stdout",
       "text": [
        "\n",
        "Running on /Volumes/genomics/Illumina/150910_D00565_0096_AC6REVANXX/Project_P89-5Processed_150916/mixcrOutput/lib8603_trimmed.fastq...\n",
        "28.4623301029"
       ]
      },
      {
       "output_type": "stream",
       "stream": "stdout",
       "text": [
        "\n",
        "Running on /Volumes/genomics/Illumina/150910_D00565_0096_AC6REVANXX/Project_P89-5Processed_150916/mixcrOutput/lib8899_trimmed.fastq...\n",
        "13.3082771301"
       ]
      },
      {
       "output_type": "stream",
       "stream": "stdout",
       "text": [
        "\n",
        "Running on /Volumes/genomics/Illumina/150910_D00565_0096_AC6REVANXX/Project_P89-5Processed_150916/mixcrOutput/lib9141_trimmed.fastq...\n",
        "11.8419680595"
       ]
      },
      {
       "output_type": "stream",
       "stream": "stdout",
       "text": [
        "\n",
        "Running on /Volumes/genomics/Illumina/150910_D00565_0096_AC6REVANXX/Project_P89-5Processed_150916/mixcrOutput/lib8867_trimmed.fastq...\n",
        "21.3122091293"
       ]
      },
      {
       "output_type": "stream",
       "stream": "stdout",
       "text": [
        "\n",
        "Running on /Volumes/genomics/Illumina/150910_D00565_0096_AC6REVANXX/Project_P89-5Processed_150916/mixcrOutput/lib9183_trimmed.fastq...\n",
        "20.0162000656"
       ]
      },
      {
       "output_type": "stream",
       "stream": "stdout",
       "text": [
        "\n",
        "Running on /Volumes/genomics/Illumina/150910_D00565_0096_AC6REVANXX/Project_P89-5Processed_150916/mixcrOutput/lib9197_trimmed.fastq...\n",
        "14.7694280148"
       ]
      },
      {
       "output_type": "stream",
       "stream": "stdout",
       "text": [
        "\n",
        "Running on /Volumes/genomics/Illumina/150910_D00565_0096_AC6REVANXX/Project_P89-5Processed_150916/mixcrOutput/lib9169_trimmed.fastq...\n",
        "20.4042971134"
       ]
      },
      {
       "output_type": "stream",
       "stream": "stdout",
       "text": [
        "\n",
        "Running on /Volumes/genomics/Illumina/150910_D00565_0096_AC6REVANXX/Project_P89-5Processed_150916/mixcrOutput/lib8909_trimmed.fastq...\n",
        "20.3804979324"
       ]
      },
      {
       "output_type": "stream",
       "stream": "stdout",
       "text": [
        "\n",
        "Running on /Volumes/genomics/Illumina/150910_D00565_0096_AC6REVANXX/Project_P89-5Processed_150916/mixcrOutput/lib8606_trimmed.fastq...\n",
        "39.3536720276"
       ]
      },
      {
       "output_type": "stream",
       "stream": "stdout",
       "text": [
        "\n",
        "Running on /Volumes/genomics/Illumina/150910_D00565_0096_AC6REVANXX/Project_P89-5Processed_150916/mixcrOutput/lib9144_trimmed.fastq...\n",
        "18.1030731201"
       ]
      },
      {
       "output_type": "stream",
       "stream": "stdout",
       "text": [
        "\n",
        "Running on /Volumes/genomics/Illumina/150910_D00565_0096_AC6REVANXX/Project_P89-5Processed_150916/mixcrOutput/lib8862_trimmed.fastq...\n",
        "22.1316819191"
       ]
      },
      {
       "output_type": "stream",
       "stream": "stdout",
       "text": [
        "\n",
        "Running on /Volumes/genomics/Illumina/150910_D00565_0096_AC6REVANXX/Project_P89-5Processed_150916/mixcrOutput/lib8612_trimmed.fastq...\n",
        "15.8918559551"
       ]
      },
      {
       "output_type": "stream",
       "stream": "stdout",
       "text": [
        "\n",
        "Running on /Volumes/genomics/Illumina/150910_D00565_0096_AC6REVANXX/Project_P89-5Processed_150916/mixcrOutput/lib8888_trimmed.fastq...\n",
        "18.8765740395"
       ]
      },
      {
       "output_type": "stream",
       "stream": "stdout",
       "text": [
        "\n",
        "Running on /Volumes/genomics/Illumina/150910_D00565_0096_AC6REVANXX/Project_P89-5Processed_150916/mixcrOutput/lib9150_trimmed.fastq...\n",
        "21.7698309422"
       ]
      },
      {
       "output_type": "stream",
       "stream": "stdout",
       "text": [
        "\n",
        "Running on /Volumes/genomics/Illumina/150910_D00565_0096_AC6REVANXX/Project_P89-5Processed_150916/mixcrOutput/lib8876_trimmed.fastq...\n",
        "13.4901440144"
       ]
      },
      {
       "output_type": "stream",
       "stream": "stdout",
       "text": [
        "\n",
        "Running on /Volumes/genomics/Illumina/150910_D00565_0096_AC6REVANXX/Project_P89-5Processed_150916/mixcrOutput/lib9192_trimmed.fastq...\n",
        "18.9846749306"
       ]
      },
      {
       "output_type": "stream",
       "stream": "stdout",
       "text": [
        "\n",
        "Running on /Volumes/genomics/Illumina/150910_D00565_0096_AC6REVANXX/Project_P89-5Processed_150916/mixcrOutput/lib9186_trimmed.fastq...\n",
        "1.3006529808"
       ]
      },
      {
       "output_type": "stream",
       "stream": "stdout",
       "text": [
        "\n",
        "Running on /Volumes/genomics/Illumina/150910_D00565_0096_AC6REVANXX/Project_P89-5Processed_150916/mixcrOutput/lib9178_trimmed.fastq...\n",
        "21.5755381584"
       ]
      },
      {
       "output_type": "stream",
       "stream": "stdout",
       "text": [
        "\n",
        "Running on /Volumes/genomics/Illumina/150910_D00565_0096_AC6REVANXX/Project_P89-5Processed_150916/mixcrOutput/lib8599_trimmed.fastq...\n",
        "15.3653149605"
       ]
      },
      {
       "output_type": "stream",
       "stream": "stdout",
       "text": [
        "\n",
        "Running on /Volumes/genomics/Illumina/150910_D00565_0096_AC6REVANXX/Project_P89-5Processed_150916/mixcrOutput/lib9146_trimmed.fastq...\n",
        "19.8030478954"
       ]
      },
      {
       "output_type": "stream",
       "stream": "stdout",
       "text": [
        "\n",
        "Running on /Volumes/genomics/Illumina/150910_D00565_0096_AC6REVANXX/Project_P89-5Processed_150916/mixcrOutput/lib8860_trimmed.fastq...\n",
        "24.3542430401"
       ]
      },
      {
       "output_type": "stream",
       "stream": "stdout",
       "text": [
        "\n",
        "Running on /Volumes/genomics/Illumina/150910_D00565_0096_AC6REVANXX/Project_P89-5Processed_150916/mixcrOutput/lib8604_trimmed.fastq...\n",
        "15.9154789448"
       ]
      },
      {
       "output_type": "stream",
       "stream": "stdout",
       "text": [
        "\n",
        "Running on /Volumes/genomics/Illumina/150910_D00565_0096_AC6REVANXX/Project_P89-5Processed_150916/mixcrOutput/lib9152_trimmed.fastq...\n",
        "18.233440876"
       ]
      },
      {
       "output_type": "stream",
       "stream": "stdout",
       "text": [
        "\n",
        "Running on /Volumes/genomics/Illumina/150910_D00565_0096_AC6REVANXX/Project_P89-5Processed_150916/mixcrOutput/lib8874_trimmed.fastq...\n",
        "18.4972651005"
       ]
      },
      {
       "output_type": "stream",
       "stream": "stdout",
       "text": [
        "\n",
        "Running on /Volumes/genomics/Illumina/150910_D00565_0096_AC6REVANXX/Project_P89-5Processed_150916/mixcrOutput/lib8610_trimmed.fastq...\n",
        "36.1449010372"
       ]
      },
      {
       "output_type": "stream",
       "stream": "stdout",
       "text": [
        "\n",
        "Running on /Volumes/genomics/Illumina/150910_D00565_0096_AC6REVANXX/Project_P89-5Processed_150916/mixcrOutput/lib9190_trimmed.fastq...\n",
        "12.4620678425"
       ]
      },
      {
       "output_type": "stream",
       "stream": "stdout",
       "text": [
        "\n",
        "Running on /Volumes/genomics/Illumina/150910_D00565_0096_AC6REVANXX/Project_P89-5Processed_150916/mixcrOutput/lib8848_trimmed.fastq...\n",
        "16.750633955"
       ]
      },
      {
       "output_type": "stream",
       "stream": "stdout",
       "text": [
        "\n",
        "Running on /Volumes/genomics/Illumina/150910_D00565_0096_AC6REVANXX/Project_P89-5Processed_150916/mixcrOutput/lib9184_trimmed.fastq...\n",
        "15.7176918983"
       ]
      },
      {
       "output_type": "stream",
       "stream": "stdout",
       "text": [
        "\n",
        "Running on /Volumes/genomics/Illumina/150910_D00565_0096_AC6REVANXX/Project_P89-5Processed_150916/mixcrOutput/lib8588_trimmed.fastq...\n",
        "14.3478879929"
       ]
      },
      {
       "output_type": "stream",
       "stream": "stdout",
       "text": [
        "\n",
        "Running on /Volumes/genomics/Illumina/150910_D00565_0096_AC6REVANXX/Project_P89-5Processed_150916/mixcrOutput/lib9157_trimmed.fastq...\n",
        "22.9524519444"
       ]
      },
      {
       "output_type": "stream",
       "stream": "stdout",
       "text": [
        "\n",
        "Running on /Volumes/genomics/Illumina/150910_D00565_0096_AC6REVANXX/Project_P89-5Processed_150916/mixcrOutput/lib8871_trimmed.fastq...\n",
        "6.89999485016"
       ]
      },
      {
       "output_type": "stream",
       "stream": "stdout",
       "text": [
        "\n",
        "Running on /Volumes/genomics/Illumina/150910_D00565_0096_AC6REVANXX/Project_P89-5Processed_150916/mixcrOutput/lib8576_trimmed.fastq...\n",
        "19.7984170914"
       ]
      },
      {
       "output_type": "stream",
       "stream": "stdout",
       "text": [
        "\n",
        "Running on /Volumes/genomics/Illumina/150910_D00565_0096_AC6REVANXX/Project_P89-5Processed_150916/mixcrOutput/lib8615_trimmed.fastq...\n",
        "25.759775877"
       ]
      },
      {
       "output_type": "stream",
       "stream": "stdout",
       "text": [
        "\n",
        "Running on /Volumes/genomics/Illumina/150910_D00565_0096_AC6REVANXX/Project_P89-5Processed_150916/mixcrOutput/lib9143_trimmed.fastq...\n",
        "24.810516119"
       ]
      },
      {
       "output_type": "stream",
       "stream": "stdout",
       "text": [
        "\n",
        "Running on /Volumes/genomics/Illumina/150910_D00565_0096_AC6REVANXX/Project_P89-5Processed_150916/mixcrOutput/lib8865_trimmed.fastq...\n",
        "23.1296291351"
       ]
      },
      {
       "output_type": "stream",
       "stream": "stdout",
       "text": [
        "\n",
        "Running on /Volumes/genomics/Illumina/150910_D00565_0096_AC6REVANXX/Project_P89-5Processed_150916/mixcrOutput/lib8601_trimmed.fastq...\n",
        "29.3616080284"
       ]
      },
      {
       "output_type": "stream",
       "stream": "stdout",
       "text": [
        "\n",
        "Running on /Volumes/genomics/Illumina/150910_D00565_0096_AC6REVANXX/Project_P89-5Processed_150916/mixcrOutput/lib9136_trimmed.fastq...\n",
        "15.5413308144"
       ]
      },
      {
       "output_type": "stream",
       "stream": "stdout",
       "text": [
        "\n",
        "Running on /Volumes/genomics/Illumina/150910_D00565_0096_AC6REVANXX/Project_P89-5Processed_150916/mixcrOutput/lib9181_trimmed.fastq...\n",
        "13.2660648823"
       ]
      },
      {
       "output_type": "stream",
       "stream": "stdout",
       "text": [
        "\n",
        "Running on /Volumes/genomics/Illumina/150910_D00565_0096_AC6REVANXX/Project_P89-5Processed_150916/mixcrOutput/lib8859_trimmed.fastq...\n",
        "21.4271001816"
       ]
      },
      {
       "output_type": "stream",
       "stream": "stdout",
       "text": [
        "\n",
        "Running on /Volumes/genomics/Illumina/150910_D00565_0096_AC6REVANXX/Project_P89-5Processed_150916/mixcrOutput/lib9195_trimmed.fastq...\n",
        "22.783700943"
       ]
      },
      {
       "output_type": "stream",
       "stream": "stdout",
       "text": [
        "\n",
        "Running on /Volumes/genomics/Illumina/150910_D00565_0096_AC6REVANXX/Project_P89-5Processed_150916/mixcrOutput/lib8629_trimmed.fastq...\n",
        "27.0850739479"
       ]
      },
      {
       "output_type": "stream",
       "stream": "stdout",
       "text": [
        "\n",
        "Running on /Volumes/genomics/Illumina/150910_D00565_0096_AC6REVANXX/Project_P89-5Processed_150916/mixcrOutput/lib8842_trimmed.fastq...\n",
        "17.1313159466"
       ]
      },
      {
       "output_type": "stream",
       "stream": "stdout",
       "text": [
        "\n",
        "Running on /Volumes/genomics/Illumina/150910_D00565_0096_AC6REVANXX/Project_P89-5Processed_150916/mixcrOutput/lib9164_trimmed.fastq...\n",
        "25.1797289848"
       ]
      },
      {
       "output_type": "stream",
       "stream": "stdout",
       "text": [
        "\n",
        "Running on /Volumes/genomics/Illumina/150910_D00565_0096_AC6REVANXX/Project_P89-5Processed_150916/mixcrOutput/lib8626_trimmed.fastq...\n",
        "24.707919836"
       ]
      },
      {
       "output_type": "stream",
       "stream": "stdout",
       "text": [
        "\n",
        "Running on /Volumes/genomics/Illumina/150910_D00565_0096_AC6REVANXX/Project_P89-5Processed_150916/mixcrOutput/lib8856_trimmed.fastq...\n",
        "22.7963171005"
       ]
      },
      {
       "output_type": "stream",
       "stream": "stdout",
       "text": [
        "\n",
        "Running on /Volumes/genomics/Illumina/150910_D00565_0096_AC6REVANXX/Project_P89-5Processed_150916/mixcrOutput/lib9170_trimmed.fastq...\n",
        "18.5057339668"
       ]
      },
      {
       "output_type": "stream",
       "stream": "stdout",
       "text": [
        "\n",
        "Running on /Volumes/genomics/Illumina/150910_D00565_0096_AC6REVANXX/Project_P89-5Processed_150916/mixcrOutput/lib8593_trimmed.fastq...\n",
        "24.2268328667"
       ]
      },
      {
       "output_type": "stream",
       "stream": "stdout",
       "text": [
        "\n",
        "Running on /Volumes/genomics/Illumina/150910_D00565_0096_AC6REVANXX/Project_P89-5Processed_150916/mixcrOutput/lib8894_trimmed.fastq...\n",
        "12.173511982"
       ]
      },
      {
       "output_type": "stream",
       "stream": "stdout",
       "text": [
        "\n",
        "Running on /Volumes/genomics/Illumina/150910_D00565_0096_AC6REVANXX/Project_P89-5Processed_150916/mixcrOutput/lib8901_trimmed.fastq...\n",
        "20.2895610332"
       ]
      },
      {
       "output_type": "stream",
       "stream": "stdout",
       "text": [
        "\n",
        "Running on /Volumes/genomics/Illumina/150910_D00565_0096_AC6REVANXX/Project_P89-5Processed_150916/mixcrOutput/lib9139_trimmed.fastq...\n",
        "17.4122569561"
       ]
      },
      {
       "output_type": "stream",
       "stream": "stdout",
       "text": [
        "\n",
        "Running on /Volumes/genomics/Illumina/150910_D00565_0096_AC6REVANXX/Project_P89-5Processed_150916/mixcrOutput/lib8587_trimmed.fastq...\n",
        "23.2460870743"
       ]
      },
      {
       "output_type": "stream",
       "stream": "stdout",
       "text": [
        "\n",
        "Running on /Volumes/genomics/Illumina/150910_D00565_0096_AC6REVANXX/Project_P89-5Processed_150916/mixcrOutput/lib8880_trimmed.fastq...\n",
        "17.4766662121"
       ]
      },
      {
       "output_type": "stream",
       "stream": "stdout",
       "text": [
        "\n",
        "Running on /Volumes/genomics/Illumina/150910_D00565_0096_AC6REVANXX/Project_P89-5Processed_150916/mixcrOutput/lib9158_trimmed.fastq...\n",
        "11.7074589729"
       ]
      },
      {
       "output_type": "stream",
       "stream": "stdout",
       "text": [
        "\n",
        "Running on /Volumes/genomics/Illumina/150910_D00565_0096_AC6REVANXX/Project_P89-5Processed_150916/mixcrOutput/lib8579_trimmed.fastq...\n",
        "6.52363300323"
       ]
      },
      {
       "output_type": "stream",
       "stream": "stdout",
       "text": [
        "\n",
        "Running on /Volumes/genomics/Illumina/150910_D00565_0096_AC6REVANXX/Project_P89-5Processed_150916/mixcrOutput/lib8853_trimmed.fastq...\n",
        "19.4833269119"
       ]
      },
      {
       "output_type": "stream",
       "stream": "stdout",
       "text": [
        "\n",
        "Running on /Volumes/genomics/Illumina/150910_D00565_0096_AC6REVANXX/Project_P89-5Processed_150916/mixcrOutput/lib9175_trimmed.fastq...\n",
        "19.8254840374"
       ]
      },
      {
       "output_type": "stream",
       "stream": "stdout",
       "text": [
        "\n",
        "Running on /Volumes/genomics/Illumina/150910_D00565_0096_AC6REVANXX/Project_P89-5Processed_150916/mixcrOutput/lib8847_trimmed.fastq...\n",
        "19.7808670998"
       ]
      },
      {
       "output_type": "stream",
       "stream": "stdout",
       "text": [
        "\n",
        "Running on /Volumes/genomics/Illumina/150910_D00565_0096_AC6REVANXX/Project_P89-5Processed_150916/mixcrOutput/lib9161_trimmed.fastq...\n",
        "19.5514760017"
       ]
      },
      {
       "output_type": "stream",
       "stream": "stdout",
       "text": [
        "\n",
        "Running on /Volumes/genomics/Illumina/150910_D00565_0096_AC6REVANXX/Project_P89-5Processed_150916/mixcrOutput/lib8623_trimmed.fastq...\n",
        "30.0215570927"
       ]
      },
      {
       "output_type": "stream",
       "stream": "stdout",
       "text": [
        "\n",
        "Running on /Volumes/genomics/Illumina/150910_D00565_0096_AC6REVANXX/Project_P89-5Processed_150916/mixcrOutput/lib9202_trimmed.fastq...\n",
        "15.8156719208"
       ]
      },
      {
       "output_type": "stream",
       "stream": "stdout",
       "text": [
        "\n",
        "Running on /Volumes/genomics/Illumina/150910_D00565_0096_AC6REVANXX/Project_P89-5Processed_150916/mixcrOutput/lib8582_trimmed.fastq...\n",
        "16.4172129631"
       ]
      },
      {
       "output_type": "stream",
       "stream": "stdout",
       "text": [
        "\n",
        "Running on /Volumes/genomics/Illumina/150910_D00565_0096_AC6REVANXX/Project_P89-5Processed_150916/mixcrOutput/lib8885_trimmed.fastq...\n",
        "13.7523231506"
       ]
      },
      {
       "output_type": "stream",
       "stream": "stdout",
       "text": [
        "\n",
        "Running on /Volumes/genomics/Illumina/150910_D00565_0096_AC6REVANXX/Project_P89-5Processed_150916/mixcrOutput/lib8910_trimmed.fastq...\n",
        "24.768750906"
       ]
      },
      {
       "output_type": "stream",
       "stream": "stdout",
       "text": [
        "\n",
        "Running on /Volumes/genomics/Illumina/150910_D00565_0096_AC6REVANXX/Project_P89-5Processed_150916/mixcrOutput/lib8596_trimmed.fastq...\n",
        "1.36619305611"
       ]
      },
      {
       "output_type": "stream",
       "stream": "stdout",
       "text": [
        "\n",
        "Running on /Volumes/genomics/Illumina/150910_D00565_0096_AC6REVANXX/Project_P89-5Processed_150916/mixcrOutput/lib8891_trimmed.fastq...\n",
        "19.8285710812"
       ]
      },
      {
       "output_type": "stream",
       "stream": "stdout",
       "text": [
        "\n",
        "Running on /Volumes/genomics/Illumina/150910_D00565_0096_AC6REVANXX/Project_P89-5Processed_150916/mixcrOutput/lib9149_trimmed.fastq...\n",
        "18.5748071671"
       ]
      },
      {
       "output_type": "stream",
       "stream": "stdout",
       "text": [
        "\n",
        "Running on /Volumes/genomics/Illumina/150910_D00565_0096_AC6REVANXX/Project_P89-5Processed_150916/mixcrOutput/lib8904_trimmed.fastq...\n",
        "16.0859808922"
       ]
      },
      {
       "output_type": "stream",
       "stream": "stdout",
       "text": [
        "\n",
        "\n",
        "Second pass...\n",
        "Running on /Volumes/genomics/Illumina/150910_D00565_0096_AC6REVANXX/Project_P89-5Processed_150916/TrimmedFastqs/lib8852_C6REVANXX_trimmed.fastq...\n",
        "18.7341461182"
       ]
      },
      {
       "output_type": "stream",
       "stream": "stdout",
       "text": [
        "\n",
        "Running on /Volumes/genomics/Illumina/150910_D00565_0096_AC6REVANXX/Project_P89-5Processed_150916/TrimmedFastqs/lib9182_C6REVANXX_trimmed.fastq...\n",
        "21.8951230049"
       ]
      },
      {
       "output_type": "stream",
       "stream": "stdout",
       "text": [
        "\n",
        "Running on /Volumes/genomics/Illumina/150910_D00565_0096_AC6REVANXX/Project_P89-5Processed_150916/TrimmedFastqs/lib8608_C6REVANXX_trimmed.fastq...\n",
        "32.3687200546"
       ]
      },
      {
       "output_type": "stream",
       "stream": "stdout",
       "text": [
        "\n",
        "Running on /Volumes/genomics/Illumina/150910_D00565_0096_AC6REVANXX/Project_P89-5Processed_150916/TrimmedFastqs/lib9149_C6REVANXX_trimmed.fastq...\n",
        "17.2408549786"
       ]
      },
      {
       "output_type": "stream",
       "stream": "stdout",
       "text": [
        "\n",
        "Running on /Volumes/genomics/Illumina/150910_D00565_0096_AC6REVANXX/Project_P89-5Processed_150916/TrimmedFastqs/lib8876_C6REVANXX_trimmed.fastq...\n",
        "12.4432399273"
       ]
      },
      {
       "output_type": "stream",
       "stream": "stdout",
       "text": [
        "\n",
        "Running on /Volumes/genomics/Illumina/150910_D00565_0096_AC6REVANXX/Project_P89-5Processed_150916/TrimmedFastqs/lib8866_C6REVANXX_trimmed.fastq...\n",
        "18.8731138706"
       ]
      },
      {
       "output_type": "stream",
       "stream": "stdout",
       "text": [
        "\n",
        "Running on /Volumes/genomics/Illumina/150910_D00565_0096_AC6REVANXX/Project_P89-5Processed_150916/TrimmedFastqs/lib8907_C6REVANXX_trimmed.fastq...\n",
        "19.5245058537"
       ]
      },
      {
       "output_type": "stream",
       "stream": "stdout",
       "text": [
        "\n",
        "Running on /Volumes/genomics/Illumina/150910_D00565_0096_AC6REVANXX/Project_P89-5Processed_150916/TrimmedFastqs/lib8842_C6REVANXX_trimmed.fastq...\n",
        "17.127412796"
       ]
      },
      {
       "output_type": "stream",
       "stream": "stdout",
       "text": [
        "\n",
        "Running on /Volumes/genomics/Illumina/150910_D00565_0096_AC6REVANXX/Project_P89-5Processed_150916/TrimmedFastqs/lib9159_C6REVANXX_trimmed.fastq...\n",
        "22.4295649529"
       ]
      },
      {
       "output_type": "stream",
       "stream": "stdout",
       "text": [
        "\n",
        "Running on /Volumes/genomics/Illumina/150910_D00565_0096_AC6REVANXX/Project_P89-5Processed_150916/TrimmedFastqs/lib9196_C6REVANXX_trimmed.fastq...\n",
        "18.2740979195"
       ]
      },
      {
       "output_type": "stream",
       "stream": "stdout",
       "text": [
        "\n",
        "Running on /Volumes/genomics/Illumina/150910_D00565_0096_AC6REVANXX/Project_P89-5Processed_150916/TrimmedFastqs/lib8862_C6REVANXX_trimmed.fastq...\n",
        "21.7638521194"
       ]
      },
      {
       "output_type": "stream",
       "stream": "stdout",
       "text": [
        "\n",
        "Running on /Volumes/genomics/Illumina/150910_D00565_0096_AC6REVANXX/Project_P89-5Processed_150916/TrimmedFastqs/lib9201_C6REVANXX_trimmed.fastq...\n",
        "26.117702961"
       ]
      },
      {
       "output_type": "stream",
       "stream": "stdout",
       "text": [
        "\n",
        "Running on /Volumes/genomics/Illumina/150910_D00565_0096_AC6REVANXX/Project_P89-5Processed_150916/TrimmedFastqs/lib9186_C6REVANXX_trimmed.fastq...\n",
        "1.20508098602"
       ]
      },
      {
       "output_type": "stream",
       "stream": "stdout",
       "text": [
        "\n",
        "Running on /Volumes/genomics/Illumina/150910_D00565_0096_AC6REVANXX/Project_P89-5Processed_150916/TrimmedFastqs/lib8604_C6REVANXX_trimmed.fastq...\n",
        "16.3669979572"
       ]
      },
      {
       "output_type": "stream",
       "stream": "stdout",
       "text": [
        "\n",
        "Running on /Volumes/genomics/Illumina/150910_D00565_0096_AC6REVANXX/Project_P89-5Processed_150916/TrimmedFastqs/lib8895_C6REVANXX_trimmed.fastq...\n",
        "17.7204151154"
       ]
      },
      {
       "output_type": "stream",
       "stream": "stdout",
       "text": [
        "\n",
        "Running on /Volumes/genomics/Illumina/150910_D00565_0096_AC6REVANXX/Project_P89-5Processed_150916/TrimmedFastqs/lib9145_C6REVANXX_trimmed.fastq...\n",
        "1.67542004585"
       ]
      },
      {
       "output_type": "stream",
       "stream": "stdout",
       "text": [
        "\n",
        "Running on /Volumes/genomics/Illumina/150910_D00565_0096_AC6REVANXX/Project_P89-5Processed_150916/TrimmedFastqs/lib8583_C6REVANXX_trimmed.fastq...\n",
        "11.1554751396"
       ]
      },
      {
       "output_type": "stream",
       "stream": "stdout",
       "text": [
        "\n",
        "Running on /Volumes/genomics/Illumina/150910_D00565_0096_AC6REVANXX/Project_P89-5Processed_150916/TrimmedFastqs/lib9161_C6REVANXX_trimmed.fastq...\n",
        "19.1766159534"
       ]
      },
      {
       "output_type": "stream",
       "stream": "stdout",
       "text": [
        "\n",
        "Running on /Volumes/genomics/Illumina/150910_D00565_0096_AC6REVANXX/Project_P89-5Processed_150916/TrimmedFastqs/lib8620_C6REVANXX_trimmed.fastq...\n",
        "35.3172180653"
       ]
      },
      {
       "output_type": "stream",
       "stream": "stdout",
       "text": [
        "\n",
        "Running on /Volumes/genomics/Illumina/150910_D00565_0096_AC6REVANXX/Project_P89-5Processed_150916/TrimmedFastqs/lib9139_C6REVANXX_trimmed.fastq...\n",
        "16.491756916"
       ]
      },
      {
       "output_type": "stream",
       "stream": "stdout",
       "text": [
        "\n",
        "Running on /Volumes/genomics/Illumina/150910_D00565_0096_AC6REVANXX/Project_P89-5Processed_150916/TrimmedFastqs/lib9171_C6REVANXX_trimmed.fastq...\n",
        "21.172495842"
       ]
      },
      {
       "output_type": "stream",
       "stream": "stdout",
       "text": [
        "\n",
        "Running on /Volumes/genomics/Illumina/150910_D00565_0096_AC6REVANXX/Project_P89-5Processed_150916/TrimmedFastqs/lib8593_C6REVANXX_trimmed.fastq...\n",
        "24.018376112"
       ]
      },
      {
       "output_type": "stream",
       "stream": "stdout",
       "text": [
        "\n",
        "Running on /Volumes/genomics/Illumina/150910_D00565_0096_AC6REVANXX/Project_P89-5Processed_150916/TrimmedFastqs/lib8614_C6REVANXX_trimmed.fastq...\n",
        "9.60318493843"
       ]
      },
      {
       "output_type": "stream",
       "stream": "stdout",
       "text": [
        "\n",
        "Running on /Volumes/genomics/Illumina/150910_D00565_0096_AC6REVANXX/Project_P89-5Processed_150916/TrimmedFastqs/lib8885_C6REVANXX_trimmed.fastq...\n",
        "12.9153089523"
       ]
      },
      {
       "output_type": "stream",
       "stream": "stdout",
       "text": [
        "\n",
        "Running on /Volumes/genomics/Illumina/150910_D00565_0096_AC6REVANXX/Project_P89-5Processed_150916/TrimmedFastqs/lib9151_C6REVANXX_trimmed.fastq...\n",
        "23.2714140415"
       ]
      },
      {
       "output_type": "stream",
       "stream": "stdout",
       "text": [
        "\n",
        "Running on /Volumes/genomics/Illumina/150910_D00565_0096_AC6REVANXX/Project_P89-5Processed_150916/TrimmedFastqs/lib8578_C6REVANXX_trimmed.fastq...\n",
        "17.7723009586"
       ]
      },
      {
       "output_type": "stream",
       "stream": "stdout",
       "text": [
        "\n",
        "Running on /Volumes/genomics/Illumina/150910_D00565_0096_AC6REVANXX/Project_P89-5Processed_150916/TrimmedFastqs/lib8624_C6REVANXX_trimmed.fastq...\n",
        "34.4397659302"
       ]
      },
      {
       "output_type": "stream",
       "stream": "stdout",
       "text": [
        "\n",
        "Running on /Volumes/genomics/Illumina/150910_D00565_0096_AC6REVANXX/Project_P89-5Processed_150916/TrimmedFastqs/lib8587_C6REVANXX_trimmed.fastq...\n",
        "23.0705339909"
       ]
      },
      {
       "output_type": "stream",
       "stream": "stdout",
       "text": [
        "\n",
        "Running on /Volumes/genomics/Illumina/150910_D00565_0096_AC6REVANXX/Project_P89-5Processed_150916/TrimmedFastqs/lib9165_C6REVANXX_trimmed.fastq...\n",
        "19.3897850513"
       ]
      },
      {
       "output_type": "stream",
       "stream": "stdout",
       "text": [
        "\n",
        "Running on /Volumes/genomics/Illumina/150910_D00565_0096_AC6REVANXX/Project_P89-5Processed_150916/TrimmedFastqs/lib9141_C6REVANXX_trimmed.fastq...\n",
        "11.4598100185"
       ]
      },
      {
       "output_type": "stream",
       "stream": "stdout",
       "text": [
        "\n",
        "Running on /Volumes/genomics/Illumina/150910_D00565_0096_AC6REVANXX/Project_P89-5Processed_150916/TrimmedFastqs/lib8600_C6REVANXX_trimmed.fastq...\n",
        "21.2814371586"
       ]
      },
      {
       "output_type": "stream",
       "stream": "stdout",
       "text": [
        "\n",
        "Running on /Volumes/genomics/Illumina/150910_D00565_0096_AC6REVANXX/Project_P89-5Processed_150916/TrimmedFastqs/lib9156_C6REVANXX_trimmed.fastq...\n",
        "24.1416430473"
       ]
      },
      {
       "output_type": "stream",
       "stream": "stdout",
       "text": [
        "\n",
        "Running on /Volumes/genomics/Illumina/150910_D00565_0096_AC6REVANXX/Project_P89-5Processed_150916/TrimmedFastqs/lib9172_C6REVANXX_trimmed.fastq...\n",
        "2.52857398987"
       ]
      },
      {
       "output_type": "stream",
       "stream": "stdout",
       "text": [
        "\n",
        "Running on /Volumes/genomics/Illumina/150910_D00565_0096_AC6REVANXX/Project_P89-5Processed_150916/TrimmedFastqs/lib8908_C6REVANXX_trimmed.fastq...\n",
        "18.8506958485"
       ]
      },
      {
       "output_type": "stream",
       "stream": "stdout",
       "text": [
        "\n",
        "Running on /Volumes/genomics/Illumina/150910_D00565_0096_AC6REVANXX/Project_P89-5Processed_150916/TrimmedFastqs/lib9162_C6REVANXX_trimmed.fastq...\n",
        "21.867208004"
       ]
      },
      {
       "output_type": "stream",
       "stream": "stdout",
       "text": [
        "\n",
        "Running on /Volumes/genomics/Illumina/150910_D00565_0096_AC6REVANXX/Project_P89-5Processed_150916/TrimmedFastqs/lib9142_C6REVANXX_trimmed.fastq...\n",
        "10.5861840248"
       ]
      },
      {
       "output_type": "stream",
       "stream": "stdout",
       "text": [
        "\n",
        "Running on /Volumes/genomics/Illumina/150910_D00565_0096_AC6REVANXX/Project_P89-5Processed_150916/TrimmedFastqs/lib8603_C6REVANXX_trimmed.fastq...\n",
        "28.5357060432"
       ]
      },
      {
       "output_type": "stream",
       "stream": "stdout",
       "text": [
        "\n",
        "Running on /Volumes/genomics/Illumina/150910_D00565_0096_AC6REVANXX/Project_P89-5Processed_150916/TrimmedFastqs/lib9189_C6REVANXX_trimmed.fastq...\n",
        "21.5565760136"
       ]
      },
      {
       "output_type": "stream",
       "stream": "stdout",
       "text": [
        "\n",
        "Running on /Volumes/genomics/Illumina/150910_D00565_0096_AC6REVANXX/Project_P89-5Processed_150916/TrimmedFastqs/lib8627_C6REVANXX_trimmed.fastq...\n",
        "15.2367670536"
       ]
      },
      {
       "output_type": "stream",
       "stream": "stdout",
       "text": [
        "\n",
        "Running on /Volumes/genomics/Illumina/150910_D00565_0096_AC6REVANXX/Project_P89-5Processed_150916/TrimmedFastqs/lib8584_C6REVANXX_trimmed.fastq...\n",
        "19.2726669312"
       ]
      },
      {
       "output_type": "stream",
       "stream": "stdout",
       "text": [
        "\n",
        "Running on /Volumes/genomics/Illumina/150910_D00565_0096_AC6REVANXX/Project_P89-5Processed_150916/TrimmedFastqs/lib9166_C6REVANXX_trimmed.fastq...\n",
        "22.1231601238"
       ]
      },
      {
       "output_type": "stream",
       "stream": "stdout",
       "text": [
        "\n",
        "Running on /Volumes/genomics/Illumina/150910_D00565_0096_AC6REVANXX/Project_P89-5Processed_150916/TrimmedFastqs/lib8594_C6REVANXX_trimmed.fastq...\n",
        "13.2418570518"
       ]
      },
      {
       "output_type": "stream",
       "stream": "stdout",
       "text": [
        "\n",
        "Running on /Volumes/genomics/Illumina/150910_D00565_0096_AC6REVANXX/Project_P89-5Processed_150916/TrimmedFastqs/lib8882_C6REVANXX_trimmed.fastq...\n",
        "14.7003679276"
       ]
      },
      {
       "output_type": "stream",
       "stream": "stdout",
       "text": [
        "\n",
        "Running on /Volumes/genomics/Illumina/150910_D00565_0096_AC6REVANXX/Project_P89-5Processed_150916/TrimmedFastqs/lib9152_C6REVANXX_trimmed.fastq...\n",
        "19.693789959"
       ]
      },
      {
       "output_type": "stream",
       "stream": "stdout",
       "text": [
        "\n",
        "Running on /Volumes/genomics/Illumina/150910_D00565_0096_AC6REVANXX/Project_P89-5Processed_150916/TrimmedFastqs/lib8613_C6REVANXX_trimmed.fastq...\n",
        "25.5894181728"
       ]
      },
      {
       "output_type": "stream",
       "stream": "stdout",
       "text": [
        "\n",
        "Running on /Volumes/genomics/Illumina/150910_D00565_0096_AC6REVANXX/Project_P89-5Processed_150916/TrimmedFastqs/lib8849_C6REVANXX_trimmed.fastq...\n",
        "17.8265109062"
       ]
      },
      {
       "output_type": "stream",
       "stream": "stdout",
       "text": [
        "\n",
        "Running on /Volumes/genomics/Illumina/150910_D00565_0096_AC6REVANXX/Project_P89-5Processed_150916/TrimmedFastqs/lib9199_C6REVANXX_trimmed.fastq...\n",
        "20.8475348949"
       ]
      },
      {
       "output_type": "stream",
       "stream": "stdout",
       "text": [
        "\n",
        "Running on /Volumes/genomics/Illumina/150910_D00565_0096_AC6REVANXX/Project_P89-5Processed_150916/TrimmedFastqs/lib8841_C6REVANXX_trimmed.fastq...\n",
        "22.0685629845"
       ]
      },
      {
       "output_type": "stream",
       "stream": "stdout",
       "text": [
        "\n",
        "Running on /Volumes/genomics/Illumina/150910_D00565_0096_AC6REVANXX/Project_P89-5Processed_150916/TrimmedFastqs/lib8904_C6REVANXX_trimmed.fastq...\n",
        "16.8250098228"
       ]
      },
      {
       "output_type": "stream",
       "stream": "stdout",
       "text": [
        "\n",
        "Running on /Volumes/genomics/Illumina/150910_D00565_0096_AC6REVANXX/Project_P89-5Processed_150916/TrimmedFastqs/lib8865_C6REVANXX_trimmed.fastq...\n",
        "24.9857940674"
       ]
      },
      {
       "output_type": "stream",
       "stream": "stdout",
       "text": [
        "\n",
        "Running on /Volumes/genomics/Illumina/150910_D00565_0096_AC6REVANXX/Project_P89-5Processed_150916/TrimmedFastqs/lib8875_C6REVANXX_trimmed.fastq...\n",
        "19.6369349957"
       ]
      },
      {
       "output_type": "stream",
       "stream": "stdout",
       "text": [
        "\n",
        "Running on /Volumes/genomics/Illumina/150910_D00565_0096_AC6REVANXX/Project_P89-5Processed_150916/TrimmedFastqs/lib9136_C6REVANXX_trimmed.fastq...\n",
        "15.3216490746"
       ]
      },
      {
       "output_type": "stream",
       "stream": "stdout",
       "text": [
        "\n",
        "Running on /Volumes/genomics/Illumina/150910_D00565_0096_AC6REVANXX/Project_P89-5Processed_150916/TrimmedFastqs/lib8851_C6REVANXX_trimmed.fastq...\n",
        "7.34607315063"
       ]
      },
      {
       "output_type": "stream",
       "stream": "stdout",
       "text": [
        "\n",
        "Running on /Volumes/genomics/Illumina/150910_D00565_0096_AC6REVANXX/Project_P89-5Processed_150916/TrimmedFastqs/lib9181_C6REVANXX_trimmed.fastq...\n",
        "13.7553679943"
       ]
      },
      {
       "output_type": "stream",
       "stream": "stdout",
       "text": [
        "\n",
        "Running on /Volumes/genomics/Illumina/150910_D00565_0096_AC6REVANXX/Project_P89-5Processed_150916/TrimmedFastqs/lib9185_C6REVANXX_trimmed.fastq...\n",
        "22.771572113"
       ]
      },
      {
       "output_type": "stream",
       "stream": "stdout",
       "text": [
        "\n",
        "Running on /Volumes/genomics/Illumina/150910_D00565_0096_AC6REVANXX/Project_P89-5Processed_150916/TrimmedFastqs/lib9202_C6REVANXX_trimmed.fastq...\n",
        "15.7633318901"
       ]
      },
      {
       "output_type": "stream",
       "stream": "stdout",
       "text": [
        "\n",
        "Running on /Volumes/genomics/Illumina/150910_D00565_0096_AC6REVANXX/Project_P89-5Processed_150916/TrimmedFastqs/lib8871_C6REVANXX_trimmed.fastq...\n",
        "6.52259016037"
       ]
      },
      {
       "output_type": "stream",
       "stream": "stdout",
       "text": [
        "\n",
        "Running on /Volumes/genomics/Illumina/150910_D00565_0096_AC6REVANXX/Project_P89-5Processed_150916/TrimmedFastqs/lib8861_C6REVANXX_trimmed.fastq...\n",
        "24.4572451115"
       ]
      },
      {
       "output_type": "stream",
       "stream": "stdout",
       "text": [
        "\n",
        "Running on /Volumes/genomics/Illumina/150910_D00565_0096_AC6REVANXX/Project_P89-5Processed_150916/TrimmedFastqs/lib8900_C6REVANXX_trimmed.fastq...\n",
        "18.61251688"
       ]
      },
      {
       "output_type": "stream",
       "stream": "stdout",
       "text": [
        "\n",
        "Running on /Volumes/genomics/Illumina/150910_D00565_0096_AC6REVANXX/Project_P89-5Processed_150916/TrimmedFastqs/lib8839_C6REVANXX_trimmed.fastq...\n",
        "19.2793579102"
       ]
      },
      {
       "output_type": "stream",
       "stream": "stdout",
       "text": [
        "\n",
        "Running on /Volumes/genomics/Illumina/150910_D00565_0096_AC6REVANXX/Project_P89-5Processed_150916/TrimmedFastqs/lib8845_C6REVANXX_trimmed.fastq...\n",
        "21.7466528416"
       ]
      },
      {
       "output_type": "stream",
       "stream": "stdout",
       "text": [
        "\n",
        "Running on /Volumes/genomics/Illumina/150910_D00565_0096_AC6REVANXX/Project_P89-5Processed_150916/TrimmedFastqs/lib9195_C6REVANXX_trimmed.fastq...\n",
        "23.0679240227"
       ]
      },
      {
       "output_type": "stream",
       "stream": "stdout",
       "text": [
        "\n",
        "Running on /Volumes/genomics/Illumina/150910_D00565_0096_AC6REVANXX/Project_P89-5Processed_150916/TrimmedFastqs/lib9170_C6REVANXX_trimmed.fastq...\n",
        "18.7488350868"
       ]
      },
      {
       "output_type": "stream",
       "stream": "stdout",
       "text": [
        "\n",
        "Running on /Volumes/genomics/Illumina/150910_D00565_0096_AC6REVANXX/Project_P89-5Processed_150916/TrimmedFastqs/lib8615_C6REVANXX_trimmed.fastq...\n",
        "25.8238489628"
       ]
      },
      {
       "output_type": "stream",
       "stream": "stdout",
       "text": [
        "\n",
        "Running on /Volumes/genomics/Illumina/150910_D00565_0096_AC6REVANXX/Project_P89-5Processed_150916/TrimmedFastqs/lib8884_C6REVANXX_trimmed.fastq...\n",
        "14.0938489437"
       ]
      },
      {
       "output_type": "stream",
       "stream": "stdout",
       "text": [
        "\n",
        "Running on /Volumes/genomics/Illumina/150910_D00565_0096_AC6REVANXX/Project_P89-5Processed_150916/TrimmedFastqs/lib9154_C6REVANXX_trimmed.fastq...\n",
        "19.7897951603"
       ]
      },
      {
       "output_type": "stream",
       "stream": "stdout",
       "text": [
        "\n",
        "Running on /Volumes/genomics/Illumina/150910_D00565_0096_AC6REVANXX/Project_P89-5Processed_150916/TrimmedFastqs/lib8605_C6REVANXX_trimmed.fastq...\n",
        "28.6073150635"
       ]
      },
      {
       "output_type": "stream",
       "stream": "stdout",
       "text": [
        "\n",
        "Running on /Volumes/genomics/Illumina/150910_D00565_0096_AC6REVANXX/Project_P89-5Processed_150916/TrimmedFastqs/lib9138_C6REVANXX_trimmed.fastq...\n",
        "10.659124136"
       ]
      },
      {
       "output_type": "stream",
       "stream": "stdout",
       "text": [
        "\n",
        "Running on /Volumes/genomics/Illumina/150910_D00565_0096_AC6REVANXX/Project_P89-5Processed_150916/TrimmedFastqs/lib9160_C6REVANXX_trimmed.fastq...\n",
        "18.9970190525"
       ]
      },
      {
       "output_type": "stream",
       "stream": "stdout",
       "text": [
        "\n",
        "Running on /Volumes/genomics/Illumina/150910_D00565_0096_AC6REVANXX/Project_P89-5Processed_150916/TrimmedFastqs/lib8621_C6REVANXX_trimmed.fastq...\n",
        "14.9223399162"
       ]
      },
      {
       "output_type": "stream",
       "stream": "stdout",
       "text": [
        "\n",
        "Running on /Volumes/genomics/Illumina/150910_D00565_0096_AC6REVANXX/Project_P89-5Processed_150916/TrimmedFastqs/lib9164_C6REVANXX_trimmed.fastq...\n",
        "25.458119154"
       ]
      },
      {
       "output_type": "stream",
       "stream": "stdout",
       "text": [
        "\n",
        "Running on /Volumes/genomics/Illumina/150910_D00565_0096_AC6REVANXX/Project_P89-5Processed_150916/TrimmedFastqs/lib8586_C6REVANXX_trimmed.fastq...\n",
        "16.0334899426"
       ]
      },
      {
       "output_type": "stream",
       "stream": "stdout",
       "text": [
        "\n",
        "Running on /Volumes/genomics/Illumina/150910_D00565_0096_AC6REVANXX/Project_P89-5Processed_150916/TrimmedFastqs/lib9140_C6REVANXX_trimmed.fastq...\n",
        "22.179418087"
       ]
      },
      {
       "output_type": "stream",
       "stream": "stdout",
       "text": [
        "\n",
        "Running on /Volumes/genomics/Illumina/150910_D00565_0096_AC6REVANXX/Project_P89-5Processed_150916/TrimmedFastqs/lib8601_C6REVANXX_trimmed.fastq...\n",
        "29.4596278667"
       ]
      },
      {
       "output_type": "stream",
       "stream": "stdout",
       "text": [
        "\n",
        "Running on /Volumes/genomics/Illumina/150910_D00565_0096_AC6REVANXX/Project_P89-5Processed_150916/TrimmedFastqs/lib8579_C6REVANXX_trimmed.fastq...\n",
        "7.03914403915"
       ]
      },
      {
       "output_type": "stream",
       "stream": "stdout",
       "text": [
        "\n",
        "Running on /Volumes/genomics/Illumina/150910_D00565_0096_AC6REVANXX/Project_P89-5Processed_150916/TrimmedFastqs/lib9150_C6REVANXX_trimmed.fastq...\n",
        "19.6320109367"
       ]
      },
      {
       "output_type": "stream",
       "stream": "stdout",
       "text": [
        "\n",
        "Running on /Volumes/genomics/Illumina/150910_D00565_0096_AC6REVANXX/Project_P89-5Processed_150916/TrimmedFastqs/lib8867_C6REVANXX_trimmed.fastq...\n",
        "19.9052231312"
       ]
      },
      {
       "output_type": "stream",
       "stream": "stdout",
       "text": [
        "\n",
        "Running on /Volumes/genomics/Illumina/150910_D00565_0096_AC6REVANXX/Project_P89-5Processed_150916/TrimmedFastqs/lib8906_C6REVANXX_trimmed.fastq...\n",
        "20.3218839169"
       ]
      },
      {
       "output_type": "stream",
       "stream": "stdout",
       "text": [
        "\n",
        "Running on /Volumes/genomics/Illumina/150910_D00565_0096_AC6REVANXX/Project_P89-5Processed_150916/TrimmedFastqs/lib8888_C6REVANXX_trimmed.fastq...\n",
        "19.4333510399"
       ]
      },
      {
       "output_type": "stream",
       "stream": "stdout",
       "text": [
        "\n",
        "Running on /Volumes/genomics/Illumina/150910_D00565_0096_AC6REVANXX/Project_P89-5Processed_150916/TrimmedFastqs/lib9158_C6REVANXX_trimmed.fastq...\n",
        "10.4729101658"
       ]
      },
      {
       "output_type": "stream",
       "stream": "stdout",
       "text": [
        "\n",
        "Running on /Volumes/genomics/Illumina/150910_D00565_0096_AC6REVANXX/Project_P89-5Processed_150916/TrimmedFastqs/lib8843_C6REVANXX_trimmed.fastq...\n",
        "17.8456921577"
       ]
      },
      {
       "output_type": "stream",
       "stream": "stdout",
       "text": [
        "\n",
        "Running on /Volumes/genomics/Illumina/150910_D00565_0096_AC6REVANXX/Project_P89-5Processed_150916/TrimmedFastqs/lib9193_C6REVANXX_trimmed.fastq...\n",
        "16.6745178699"
       ]
      },
      {
       "output_type": "stream",
       "stream": "stdout",
       "text": [
        "\n",
        "Running on /Volumes/genomics/Illumina/150910_D00565_0096_AC6REVANXX/Project_P89-5Processed_150916/TrimmedFastqs/lib8609_C6REVANXX_trimmed.fastq...\n",
        "33.1024160385"
       ]
      },
      {
       "output_type": "stream",
       "stream": "stdout",
       "text": [
        "\n",
        "Running on /Volumes/genomics/Illumina/150910_D00565_0096_AC6REVANXX/Project_P89-5Processed_150916/TrimmedFastqs/lib9148_C6REVANXX_trimmed.fastq...\n",
        "22.4272520542"
       ]
      },
      {
       "output_type": "stream",
       "stream": "stdout",
       "text": [
        "\n",
        "Running on /Volumes/genomics/Illumina/150910_D00565_0096_AC6REVANXX/Project_P89-5Processed_150916/TrimmedFastqs/lib8853_C6REVANXX_trimmed.fastq...\n",
        "19.86145401"
       ]
      },
      {
       "output_type": "stream",
       "stream": "stdout",
       "text": [
        "\n",
        "Running on /Volumes/genomics/Illumina/150910_D00565_0096_AC6REVANXX/Project_P89-5Processed_150916/TrimmedFastqs/lib9183_C6REVANXX_trimmed.fastq...\n",
        "19.6783120632"
       ]
      },
      {
       "output_type": "stream",
       "stream": "stdout",
       "text": [
        "\n",
        "Running on /Volumes/genomics/Illumina/150910_D00565_0096_AC6REVANXX/Project_P89-5Processed_150916/TrimmedFastqs/lib9204_C6REVANXX_trimmed.fastq...\n",
        "18.1931860447"
       ]
      },
      {
       "output_type": "stream",
       "stream": "stdout",
       "text": [
        "\n",
        "Running on /Volumes/genomics/Illumina/150910_D00565_0096_AC6REVANXX/Project_P89-5Processed_150916/TrimmedFastqs/lib9168_C6REVANXX_trimmed.fastq...\n",
        "14.6692841053"
       ]
      },
      {
       "output_type": "stream",
       "stream": "stdout",
       "text": [
        "\n",
        "Running on /Volumes/genomics/Illumina/150910_D00565_0096_AC6REVANXX/Project_P89-5Processed_150916/TrimmedFastqs/lib9200_C6REVANXX_trimmed.fastq...\n",
        "23.6374268532"
       ]
      },
      {
       "output_type": "stream",
       "stream": "stdout",
       "text": [
        "\n",
        "Running on /Volumes/genomics/Illumina/150910_D00565_0096_AC6REVANXX/Project_P89-5Processed_150916/TrimmedFastqs/lib8857_C6REVANXX_trimmed.fastq...\n",
        "24.4809548855"
       ]
      },
      {
       "output_type": "stream",
       "stream": "stdout",
       "text": [
        "\n",
        "Running on /Volumes/genomics/Illumina/150910_D00565_0096_AC6REVANXX/Project_P89-5Processed_150916/TrimmedFastqs/lib9187_C6REVANXX_trimmed.fastq...\n",
        "17.0423929691"
       ]
      },
      {
       "output_type": "stream",
       "stream": "stdout",
       "text": [
        "\n",
        "Running on /Volumes/genomics/Illumina/150910_D00565_0096_AC6REVANXX/Project_P89-5Processed_150916/TrimmedFastqs/lib8847_C6REVANXX_trimmed.fastq...\n",
        "19.2403352261"
       ]
      },
      {
       "output_type": "stream",
       "stream": "stdout",
       "text": [
        "\n",
        "Running on /Volumes/genomics/Illumina/150910_D00565_0096_AC6REVANXX/Project_P89-5Processed_150916/TrimmedFastqs/lib9197_C6REVANXX_trimmed.fastq...\n",
        "15.3636498451"
       ]
      },
      {
       "output_type": "stream",
       "stream": "stdout",
       "text": [
        "\n",
        "Running on /Volumes/genomics/Illumina/150910_D00565_0096_AC6REVANXX/Project_P89-5Processed_150916/TrimmedFastqs/lib8575_C6REVANXX_trimmed.fastq...\n",
        "22.5682420731"
       ]
      },
      {
       "output_type": "stream",
       "stream": "stdout",
       "text": [
        "\n",
        "Running on /Volumes/genomics/Illumina/150910_D00565_0096_AC6REVANXX/Project_P89-5Processed_150916/TrimmedFastqs/lib8902_C6REVANXX_trimmed.fastq...\n",
        "21.3793671131"
       ]
      },
      {
       "output_type": "stream",
       "stream": "stdout",
       "text": [
        "\n",
        "Running on /Volumes/genomics/Illumina/150910_D00565_0096_AC6REVANXX/Project_P89-5Processed_150916/TrimmedFastqs/lib8863_C6REVANXX_trimmed.fastq...\n",
        "17.8385620117"
       ]
      },
      {
       "output_type": "stream",
       "stream": "stdout",
       "text": [
        "\n",
        "Running on /Volumes/genomics/Illumina/150910_D00565_0096_AC6REVANXX/Project_P89-5Processed_150916/TrimmedFastqs/lib8874_C6REVANXX_trimmed.fastq...\n",
        "17.3439669609"
       ]
      },
      {
       "output_type": "stream",
       "stream": "stdout",
       "text": [
        "\n",
        "Running on /Volumes/genomics/Illumina/150910_D00565_0096_AC6REVANXX/Project_P89-5Processed_150916/TrimmedFastqs/lib9137_C6REVANXX_trimmed.fastq...\n",
        "21.3042888641"
       ]
      },
      {
       "output_type": "stream",
       "stream": "stdout",
       "text": [
        "\n",
        "Running on /Volumes/genomics/Illumina/150910_D00565_0096_AC6REVANXX/Project_P89-5Processed_150916/TrimmedFastqs/lib8850_C6REVANXX_trimmed.fastq...\n",
        "19.6054270267"
       ]
      },
      {
       "output_type": "stream",
       "stream": "stdout",
       "text": [
        "\n",
        "Running on /Volumes/genomics/Illumina/150910_D00565_0096_AC6REVANXX/Project_P89-5Processed_150916/TrimmedFastqs/lib9190_C6REVANXX_trimmed.fastq...\n",
        "13.2427499294"
       ]
      },
      {
       "output_type": "stream",
       "stream": "stdout",
       "text": [
        "\n",
        "Running on /Volumes/genomics/Illumina/150910_D00565_0096_AC6REVANXX/Project_P89-5Processed_150916/TrimmedFastqs/lib8599_C6REVANXX_trimmed.fastq...\n",
        "14.4185512066"
       ]
      },
      {
       "output_type": "stream",
       "stream": "stdout",
       "text": [
        "\n",
        "Running on /Volumes/genomics/Illumina/150910_D00565_0096_AC6REVANXX/Project_P89-5Processed_150916/TrimmedFastqs/lib8860_C6REVANXX_trimmed.fastq...\n",
        "24.4718511105"
       ]
      },
      {
       "output_type": "stream",
       "stream": "stdout",
       "text": [
        "\n",
        "Running on /Volumes/genomics/Illumina/150910_D00565_0096_AC6REVANXX/Project_P89-5Processed_150916/TrimmedFastqs/lib8844_C6REVANXX_trimmed.fastq...\n",
        "21.0946161747"
       ]
      },
      {
       "output_type": "stream",
       "stream": "stdout",
       "text": [
        "\n",
        "Running on /Volumes/genomics/Illumina/150910_D00565_0096_AC6REVANXX/Project_P89-5Processed_150916/TrimmedFastqs/lib9194_C6REVANXX_trimmed.fastq...\n",
        "22.2803049088"
       ]
      },
      {
       "output_type": "stream",
       "stream": "stdout",
       "text": [
        "\n",
        "Running on /Volumes/genomics/Illumina/150910_D00565_0096_AC6REVANXX/Project_P89-5Processed_150916/TrimmedFastqs/lib8576_C6REVANXX_trimmed.fastq...\n",
        "19.9613142014"
       ]
      },
      {
       "output_type": "stream",
       "stream": "stdout",
       "text": [
        "\n",
        "Running on /Volumes/genomics/Illumina/150910_D00565_0096_AC6REVANXX/Project_P89-5Processed_150916/TrimmedFastqs/lib9184_C6REVANXX_trimmed.fastq...\n",
        "15.2964940071"
       ]
      },
      {
       "output_type": "stream",
       "stream": "stdout",
       "text": [
        "\n",
        "Running on /Volumes/genomics/Illumina/150910_D00565_0096_AC6REVANXX/Project_P89-5Processed_150916/TrimmedFastqs/lib9203_C6REVANXX_trimmed.fastq...\n",
        "19.2573502064"
       ]
      },
      {
       "output_type": "stream",
       "stream": "stdout",
       "text": [
        "\n",
        "Running on /Volumes/genomics/Illumina/150910_D00565_0096_AC6REVANXX/Project_P89-5Processed_150916/TrimmedFastqs/lib8870_C6REVANXX_trimmed.fastq...\n",
        "22.8787658215"
       ]
      },
      {
       "output_type": "stream",
       "stream": "stdout",
       "text": [
        "\n",
        "Running on /Volumes/genomics/Illumina/150910_D00565_0096_AC6REVANXX/Project_P89-5Processed_150916/TrimmedFastqs/lib8911_C6REVANXX_trimmed.fastq...\n",
        "22.2595980167"
       ]
      },
      {
       "output_type": "stream",
       "stream": "stdout",
       "text": [
        "\n",
        "Running on /Volumes/genomics/Illumina/150910_D00565_0096_AC6REVANXX/Project_P89-5Processed_150916/TrimmedFastqs/lib8878_C6REVANXX_trimmed.fastq...\n",
        "20.3818011284"
       ]
      },
      {
       "output_type": "stream",
       "stream": "stdout",
       "text": [
        "\n",
        "Running on /Volumes/genomics/Illumina/150910_D00565_0096_AC6REVANXX/Project_P89-5Processed_150916/TrimmedFastqs/lib9163_C6REVANXX_trimmed.fastq...\n",
        "22.7080278397"
       ]
      },
      {
       "output_type": "stream",
       "stream": "stdout",
       "text": [
        "\n",
        "Running on /Volumes/genomics/Illumina/150910_D00565_0096_AC6REVANXX/Project_P89-5Processed_150916/TrimmedFastqs/lib9147_C6REVANXX_trimmed.fastq...\n",
        "17.3083899021"
       ]
      },
      {
       "output_type": "stream",
       "stream": "stdout",
       "text": [
        "\n",
        "Running on /Volumes/genomics/Illumina/150910_D00565_0096_AC6REVANXX/Project_P89-5Processed_150916/TrimmedFastqs/lib8616_C6REVANXX_trimmed.fastq...\n",
        "34.0814390182"
       ]
      },
      {
       "output_type": "stream",
       "stream": "stdout",
       "text": [
        "\n",
        "Running on /Volumes/genomics/Illumina/150910_D00565_0096_AC6REVANXX/Project_P89-5Processed_150916/TrimmedFastqs/lib9157_C6REVANXX_trimmed.fastq...\n",
        "22.9043982029"
       ]
      },
      {
       "output_type": "stream",
       "stream": "stdout",
       "text": [
        "\n",
        "Running on /Volumes/genomics/Illumina/150910_D00565_0096_AC6REVANXX/Project_P89-5Processed_150916/TrimmedFastqs/lib8868_C6REVANXX_trimmed.fastq...\n",
        "13.7429189682"
       ]
      },
      {
       "output_type": "stream",
       "stream": "stdout",
       "text": [
        "\n",
        "Running on /Volumes/genomics/Illumina/150910_D00565_0096_AC6REVANXX/Project_P89-5Processed_150916/TrimmedFastqs/lib8909_C6REVANXX_trimmed.fastq...\n",
        "20.1610488892"
       ]
      },
      {
       "output_type": "stream",
       "stream": "stdout",
       "text": [
        "\n",
        "Running on /Volumes/genomics/Illumina/150910_D00565_0096_AC6REVANXX/Project_P89-5Processed_150916/TrimmedFastqs/lib9173_C6REVANXX_trimmed.fastq...\n",
        "17.8034842014"
       ]
      },
      {
       "output_type": "stream",
       "stream": "stdout",
       "text": [
        "\n",
        "Running on /Volumes/genomics/Illumina/150910_D00565_0096_AC6REVANXX/Project_P89-5Processed_150916/TrimmedFastqs/lib8883_C6REVANXX_trimmed.fastq...\n",
        "15.3556220531"
       ]
      },
      {
       "output_type": "stream",
       "stream": "stdout",
       "text": [
        "\n",
        "Running on /Volumes/genomics/Illumina/150910_D00565_0096_AC6REVANXX/Project_P89-5Processed_150916/TrimmedFastqs/lib9153_C6REVANXX_trimmed.fastq...\n",
        "23.7882518768"
       ]
      },
      {
       "output_type": "stream",
       "stream": "stdout",
       "text": [
        "\n",
        "Running on /Volumes/genomics/Illumina/150910_D00565_0096_AC6REVANXX/Project_P89-5Processed_150916/TrimmedFastqs/lib8612_C6REVANXX_trimmed.fastq...\n",
        "15.0184979439"
       ]
      },
      {
       "output_type": "stream",
       "stream": "stdout",
       "text": [
        "\n",
        "Running on /Volumes/genomics/Illumina/150910_D00565_0096_AC6REVANXX/Project_P89-5Processed_150916/TrimmedFastqs/lib8893_C6REVANXX_trimmed.fastq...\n",
        "12.6772229671"
       ]
      },
      {
       "output_type": "stream",
       "stream": "stdout",
       "text": [
        "\n",
        "Running on /Volumes/genomics/Illumina/150910_D00565_0096_AC6REVANXX/Project_P89-5Processed_150916/TrimmedFastqs/lib9143_C6REVANXX_trimmed.fastq...\n",
        "24.6205329895"
       ]
      },
      {
       "output_type": "stream",
       "stream": "stdout",
       "text": [
        "\n",
        "Running on /Volumes/genomics/Illumina/150910_D00565_0096_AC6REVANXX/Project_P89-5Processed_150916/TrimmedFastqs/lib8626_C6REVANXX_trimmed.fastq...\n",
        "24.1297929287"
       ]
      },
      {
       "output_type": "stream",
       "stream": "stdout",
       "text": [
        "\n",
        "Running on /Volumes/genomics/Illumina/150910_D00565_0096_AC6REVANXX/Project_P89-5Processed_150916/TrimmedFastqs/lib9167_C6REVANXX_trimmed.fastq...\n",
        "20.432682991"
       ]
      },
      {
       "output_type": "stream",
       "stream": "stdout",
       "text": [
        "\n",
        "Running on /Volumes/genomics/Illumina/150910_D00565_0096_AC6REVANXX/Project_P89-5Processed_150916/TrimmedFastqs/lib8585_C6REVANXX_trimmed.fastq...\n",
        "25.1907601357"
       ]
      },
      {
       "output_type": "stream",
       "stream": "stdout",
       "text": [
        "\n",
        "Running on /Volumes/genomics/Illumina/150910_D00565_0096_AC6REVANXX/Project_P89-5Processed_150916/mixcrOutput/lib8852_trimmed.fastq...\n",
        "19.6957190037"
       ]
      },
      {
       "output_type": "stream",
       "stream": "stdout",
       "text": [
        "\n",
        "Running on /Volumes/genomics/Illumina/150910_D00565_0096_AC6REVANXX/Project_P89-5Processed_150916/mixcrOutput/lib9160_trimmed.fastq...\n",
        "19.9328291416"
       ]
      },
      {
       "output_type": "stream",
       "stream": "stdout",
       "text": [
        "\n",
        "Running on /Volumes/genomics/Illumina/150910_D00565_0096_AC6REVANXX/Project_P89-5Processed_150916/mixcrOutput/lib9203_trimmed.fastq...\n",
        "18.8798999786"
       ]
      },
      {
       "output_type": "stream",
       "stream": "stdout",
       "text": [
        "\n",
        "Running on /Volumes/genomics/Illumina/150910_D00565_0096_AC6REVANXX/Project_P89-5Processed_150916/mixcrOutput/lib8583_trimmed.fastq...\n",
        "10.9779100418"
       ]
      },
      {
       "output_type": "stream",
       "stream": "stdout",
       "text": [
        "\n",
        "Running on /Volumes/genomics/Illumina/150910_D00565_0096_AC6REVANXX/Project_P89-5Processed_150916/mixcrOutput/lib8884_trimmed.fastq...\n",
        "13.6290340424"
       ]
      },
      {
       "output_type": "stream",
       "stream": "stdout",
       "text": [
        "\n",
        "Running on /Volumes/genomics/Illumina/150910_D00565_0096_AC6REVANXX/Project_P89-5Processed_150916/mixcrOutput/lib8911_trimmed.fastq...\n",
        "22.0267100334"
       ]
      },
      {
       "output_type": "stream",
       "stream": "stdout",
       "text": [
        "\n",
        "Running on /Volumes/genomics/Illumina/150910_D00565_0096_AC6REVANXX/Project_P89-5Processed_150916/mixcrOutput/lib9148_trimmed.fastq...\n",
        "22.4411370754"
       ]
      },
      {
       "output_type": "stream",
       "stream": "stdout",
       "text": [
        "\n",
        "Running on /Volumes/genomics/Illumina/150910_D00565_0096_AC6REVANXX/Project_P89-5Processed_150916/mixcrOutput/lib9165_trimmed.fastq...\n",
        "20.2530398369"
       ]
      },
      {
       "output_type": "stream",
       "stream": "stdout",
       "text": [
        "\n",
        "Running on /Volumes/genomics/Illumina/150910_D00565_0096_AC6REVANXX/Project_P89-5Processed_150916/mixcrOutput/lib8843_trimmed.fastq...\n",
        "17.5848960876"
       ]
      },
      {
       "output_type": "stream",
       "stream": "stdout",
       "text": [
        "\n",
        "Running on /Volumes/genomics/Illumina/150910_D00565_0096_AC6REVANXX/Project_P89-5Processed_150916/mixcrOutput/lib8627_trimmed.fastq...\n",
        "14.8491768837"
       ]
      },
      {
       "output_type": "stream",
       "stream": "stdout",
       "text": [
        "\n",
        "Running on /Volumes/genomics/Illumina/150910_D00565_0096_AC6REVANXX/Project_P89-5Processed_150916/mixcrOutput/lib9171_trimmed.fastq...\n",
        "21.1797919273"
       ]
      },
      {
       "output_type": "stream",
       "stream": "stdout",
       "text": [
        "\n",
        "Running on /Volumes/genomics/Illumina/150910_D00565_0096_AC6REVANXX/Project_P89-5Processed_150916/mixcrOutput/lib8857_trimmed.fastq...\n",
        "23.9638259411"
       ]
      },
      {
       "output_type": "stream",
       "stream": "stdout",
       "text": [
        "\n",
        "Running on /Volumes/genomics/Illumina/150910_D00565_0096_AC6REVANXX/Project_P89-5Processed_150916/mixcrOutput/lib8895_trimmed.fastq...\n",
        "18.7299659252"
       ]
      },
      {
       "output_type": "stream",
       "stream": "stdout",
       "text": [
        "\n",
        "Running on /Volumes/genomics/Illumina/150910_D00565_0096_AC6REVANXX/Project_P89-5Processed_150916/mixcrOutput/lib8900_trimmed.fastq...\n",
        "17.6703679562"
       ]
      },
      {
       "output_type": "stream",
       "stream": "stdout",
       "text": [
        "\n",
        "Running on /Volumes/genomics/Illumina/150910_D00565_0096_AC6REVANXX/Project_P89-5Processed_150916/mixcrOutput/lib9138_trimmed.fastq...\n",
        "11.5491878986"
       ]
      },
      {
       "output_type": "stream",
       "stream": "stdout",
       "text": [
        "\n",
        "Running on /Volumes/genomics/Illumina/150910_D00565_0096_AC6REVANXX/Project_P89-5Processed_150916/mixcrOutput/lib8586_trimmed.fastq...\n",
        "14.6927688122"
       ]
      },
      {
       "output_type": "stream",
       "stream": "stdout",
       "text": [
        "\n",
        "Running on /Volumes/genomics/Illumina/150910_D00565_0096_AC6REVANXX/Project_P89-5Processed_150916/mixcrOutput/lib9159_trimmed.fastq...\n",
        "22.600894928"
       ]
      },
      {
       "output_type": "stream",
       "stream": "stdout",
       "text": [
        "\n",
        "Running on /Volumes/genomics/Illumina/150910_D00565_0096_AC6REVANXX/Project_P89-5Processed_150916/mixcrOutput/lib8578_trimmed.fastq...\n",
        "17.9205060005"
       ]
      },
      {
       "output_type": "stream",
       "stream": "stdout",
       "text": [
        "\n",
        "Running on /Volumes/genomics/Illumina/150910_D00565_0096_AC6REVANXX/Project_P89-5Processed_150916/mixcrOutput/lib8870_trimmed.fastq...\n",
        "22.7458651066"
       ]
      },
      {
       "output_type": "stream",
       "stream": "stdout",
       "text": [
        "\n",
        "Running on /Volumes/genomics/Illumina/150910_D00565_0096_AC6REVANXX/Project_P89-5Processed_150916/mixcrOutput/lib9156_trimmed.fastq...\n",
        "24.554847002"
       ]
      },
      {
       "output_type": "stream",
       "stream": "stdout",
       "text": [
        "\n",
        "Running on /Volumes/genomics/Illumina/150910_D00565_0096_AC6REVANXX/Project_P89-5Processed_150916/mixcrOutput/lib8614_trimmed.fastq...\n",
        "9.49283218384"
       ]
      },
      {
       "output_type": "stream",
       "stream": "stdout",
       "text": [
        "\n",
        "Running on /Volumes/genomics/Illumina/150910_D00565_0096_AC6REVANXX/Project_P89-5Processed_150916/mixcrOutput/lib9142_trimmed.fastq...\n",
        "10.4528560638"
       ]
      },
      {
       "output_type": "stream",
       "stream": "stdout",
       "text": [
        "\n",
        "Running on /Volumes/genomics/Illumina/150910_D00565_0096_AC6REVANXX/Project_P89-5Processed_150916/mixcrOutput/lib8600_trimmed.fastq...\n",
        "21.4558541775"
       ]
      },
      {
       "output_type": "stream",
       "stream": "stdout",
       "text": [
        "\n",
        "Running on /Volumes/genomics/Illumina/150910_D00565_0096_AC6REVANXX/Project_P89-5Processed_150916/mixcrOutput/lib9137_trimmed.fastq...\n",
        "22.3071250916"
       ]
      },
      {
       "output_type": "stream",
       "stream": "stdout",
       "text": [
        "\n",
        "Running on /Volumes/genomics/Illumina/150910_D00565_0096_AC6REVANXX/Project_P89-5Processed_150916/mixcrOutput/lib9194_trimmed.fastq...\n",
        "21.8973081112"
       ]
      },
      {
       "output_type": "stream",
       "stream": "stdout",
       "text": [
        "\n",
        "Running on /Volumes/genomics/Illumina/150910_D00565_0096_AC6REVANXX/Project_P89-5Processed_150916/mixcrOutput/lib8839_trimmed.fastq...\n",
        "19.5003509521"
       ]
      },
      {
       "output_type": "stream",
       "stream": "stdout",
       "text": [
        "\n",
        "Running on /Volumes/genomics/Illumina/150910_D00565_0096_AC6REVANXX/Project_P89-5Processed_150916/mixcrOutput/lib8861_trimmed.fastq...\n",
        "24.1738319397"
       ]
      },
      {
       "output_type": "stream",
       "stream": "stdout",
       "text": [
        "\n",
        "Running on /Volumes/genomics/Illumina/150910_D00565_0096_AC6REVANXX/Project_P89-5Processed_150916/mixcrOutput/lib9147_trimmed.fastq...\n",
        "16.8573820591"
       ]
      },
      {
       "output_type": "stream",
       "stream": "stdout",
       "text": [
        "\n",
        "Running on /Volumes/genomics/Illumina/150910_D00565_0096_AC6REVANXX/Project_P89-5Processed_150916/mixcrOutput/lib8605_trimmed.fastq...\n",
        "29.1842470169"
       ]
      },
      {
       "output_type": "stream",
       "stream": "stdout",
       "text": [
        "\n",
        "Running on /Volumes/genomics/Illumina/150910_D00565_0096_AC6REVANXX/Project_P89-5Processed_150916/mixcrOutput/lib8875_trimmed.fastq...\n",
        "19.4023761749"
       ]
      },
      {
       "output_type": "stream",
       "stream": "stdout",
       "text": [
        "\n",
        "Running on /Volumes/genomics/Illumina/150910_D00565_0096_AC6REVANXX/Project_P89-5Processed_150916/mixcrOutput/lib9153_trimmed.fastq...\n",
        "24.4649479389"
       ]
      },
      {
       "output_type": "stream",
       "stream": "stdout",
       "text": [
        "\n",
        "Running on /Volumes/genomics/Illumina/150910_D00565_0096_AC6REVANXX/Project_P89-5Processed_150916/mixcrOutput/lib8849_trimmed.fastq...\n",
        "17.1973531246"
       ]
      },
      {
       "output_type": "stream",
       "stream": "stdout",
       "text": [
        "\n",
        "Running on /Volumes/genomics/Illumina/150910_D00565_0096_AC6REVANXX/Project_P89-5Processed_150916/mixcrOutput/lib9185_trimmed.fastq...\n",
        "22.3263700008"
       ]
      },
      {
       "output_type": "stream",
       "stream": "stdout",
       "text": [
        "\n",
        "Running on /Volumes/genomics/Illumina/150910_D00565_0096_AC6REVANXX/Project_P89-5Processed_150916/mixcrOutput/lib8908_trimmed.fastq...\n",
        "19.4774148464"
       ]
      },
      {
       "output_type": "stream",
       "stream": "stdout",
       "text": [
        "\n",
        "Running on /Volumes/genomics/Illumina/150910_D00565_0096_AC6REVANXX/Project_P89-5Processed_150916/mixcrOutput/lib8863_trimmed.fastq...\n",
        "17.7049920559"
       ]
      },
      {
       "output_type": "stream",
       "stream": "stdout",
       "text": [
        "\n",
        "Running on /Volumes/genomics/Illumina/150910_D00565_0096_AC6REVANXX/Project_P89-5Processed_150916/mixcrOutput/lib9145_trimmed.fastq...\n",
        "2.46004080772"
       ]
      },
      {
       "output_type": "stream",
       "stream": "stdout",
       "text": [
        "\n",
        "Running on /Volumes/genomics/Illumina/150910_D00565_0096_AC6REVANXX/Project_P89-5Processed_150916/mixcrOutput/lib8613_trimmed.fastq...\n",
        "25.526542902"
       ]
      },
      {
       "output_type": "stream",
       "stream": "stdout",
       "text": [
        "\n",
        "Running on /Volumes/genomics/Illumina/150910_D00565_0096_AC6REVANXX/Project_P89-5Processed_150916/mixcrOutput/lib9151_trimmed.fastq...\n",
        "24.9894621372"
       ]
      },
      {
       "output_type": "stream",
       "stream": "stdout",
       "text": [
        "\n",
        "Running on /Volumes/genomics/Illumina/150910_D00565_0096_AC6REVANXX/Project_P89-5Processed_150916/mixcrOutput/lib9193_trimmed.fastq...\n",
        "15.5710618496"
       ]
      },
      {
       "output_type": "stream",
       "stream": "stdout",
       "text": [
        "\n",
        "Running on /Volumes/genomics/Illumina/150910_D00565_0096_AC6REVANXX/Project_P89-5Processed_150916/mixcrOutput/lib9187_trimmed.fastq...\n",
        "18.7117040157"
       ]
      },
      {
       "output_type": "stream",
       "stream": "stdout",
       "text": [
        "\n",
        "Running on /Volumes/genomics/Illumina/150910_D00565_0096_AC6REVANXX/Project_P89-5Processed_150916/mixcrOutput/lib8616_trimmed.fastq...\n",
        "35.065171957"
       ]
      },
      {
       "output_type": "stream",
       "stream": "stdout",
       "text": [
        "\n",
        "Running on /Volumes/genomics/Illumina/150910_D00565_0096_AC6REVANXX/Project_P89-5Processed_150916/mixcrOutput/lib9154_trimmed.fastq...\n",
        "19.5072519779"
       ]
      },
      {
       "output_type": "stream",
       "stream": "stdout",
       "text": [
        "\n",
        "Running on /Volumes/genomics/Illumina/150910_D00565_0096_AC6REVANXX/Project_P89-5Processed_150916/mixcrOutput/lib8575_trimmed.fastq...\n",
        "23.2625520229"
       ]
      },
      {
       "output_type": "stream",
       "stream": "stdout",
       "text": [
        "\n",
        "Running on /Volumes/genomics/Illumina/150910_D00565_0096_AC6REVANXX/Project_P89-5Processed_150916/mixcrOutput/lib8866_trimmed.fastq...\n",
        "19.1792509556"
       ]
      },
      {
       "output_type": "stream",
       "stream": "stdout",
       "text": [
        "\n",
        "Running on /Volumes/genomics/Illumina/150910_D00565_0096_AC6REVANXX/Project_P89-5Processed_150916/mixcrOutput/lib9140_trimmed.fastq...\n",
        "22.2353069782"
       ]
      },
      {
       "output_type": "stream",
       "stream": "stdout",
       "text": [
        "\n",
        "Running on /Volumes/genomics/Illumina/150910_D00565_0096_AC6REVANXX/Project_P89-5Processed_150916/mixcrOutput/lib9182_trimmed.fastq...\n",
        "21.9937560558"
       ]
      },
      {
       "output_type": "stream",
       "stream": "stdout",
       "text": [
        "\n",
        "Running on /Volumes/genomics/Illumina/150910_D00565_0096_AC6REVANXX/Project_P89-5Processed_150916/mixcrOutput/lib9196_trimmed.fastq...\n",
        "18.1176929474"
       ]
      },
      {
       "output_type": "stream",
       "stream": "stdout",
       "text": [
        "\n",
        "Running on /Volumes/genomics/Illumina/150910_D00565_0096_AC6REVANXX/Project_P89-5Processed_150916/mixcrOutput/lib9168_trimmed.fastq...\n",
        "15.2250609398"
       ]
      },
      {
       "output_type": "stream",
       "stream": "stdout",
       "text": [
        "\n",
        "Running on /Volumes/genomics/Illumina/150910_D00565_0096_AC6REVANXX/Project_P89-5Processed_150916/mixcrOutput/lib9204_trimmed.fastq...\n",
        "17.7162101269"
       ]
      },
      {
       "output_type": "stream",
       "stream": "stdout",
       "text": [
        "\n",
        "Running on /Volumes/genomics/Illumina/150910_D00565_0096_AC6REVANXX/Project_P89-5Processed_150916/mixcrOutput/lib9199_trimmed.fastq...\n",
        "19.9542820454"
       ]
      },
      {
       "output_type": "stream",
       "stream": "stdout",
       "text": [
        "\n",
        "Running on /Volumes/genomics/Illumina/150910_D00565_0096_AC6REVANXX/Project_P89-5Processed_150916/mixcrOutput/lib9167_trimmed.fastq...\n",
        "20.1099178791"
       ]
      },
      {
       "output_type": "stream",
       "stream": "stdout",
       "text": [
        "\n",
        "Running on /Volumes/genomics/Illumina/150910_D00565_0096_AC6REVANXX/Project_P89-5Processed_150916/mixcrOutput/lib8841_trimmed.fastq...\n",
        "21.5910158157"
       ]
      },
      {
       "output_type": "stream",
       "stream": "stdout",
       "text": [
        "\n",
        "Running on /Volumes/genomics/Illumina/150910_D00565_0096_AC6REVANXX/Project_P89-5Processed_150916/mixcrOutput/lib9173_trimmed.fastq...\n",
        "18.6913471222"
       ]
      },
      {
       "output_type": "stream",
       "stream": "stdout",
       "text": [
        "\n",
        "Running on /Volumes/genomics/Illumina/150910_D00565_0096_AC6REVANXX/Project_P89-5Processed_150916/mixcrOutput/lib8902_trimmed.fastq...\n",
        "21.2648608685"
       ]
      },
      {
       "output_type": "stream",
       "stream": "stdout",
       "text": [
        "\n",
        "Running on /Volumes/genomics/Illumina/150910_D00565_0096_AC6REVANXX/Project_P89-5Processed_150916/mixcrOutput/lib8584_trimmed.fastq...\n",
        "19.5483231544"
       ]
      },
      {
       "output_type": "stream",
       "stream": "stdout",
       "text": [
        "\n",
        "Running on /Volumes/genomics/Illumina/150910_D00565_0096_AC6REVANXX/Project_P89-5Processed_150916/mixcrOutput/lib8883_trimmed.fastq...\n",
        "16.1721889973"
       ]
      },
      {
       "output_type": "stream",
       "stream": "stdout",
       "text": [
        "\n",
        "Running on /Volumes/genomics/Illumina/150910_D00565_0096_AC6REVANXX/Project_P89-5Processed_150916/mixcrOutput/lib8850_trimmed.fastq...\n",
        "18.795552969"
       ]
      },
      {
       "output_type": "stream",
       "stream": "stdout",
       "text": [
        "\n",
        "Running on /Volumes/genomics/Illumina/150910_D00565_0096_AC6REVANXX/Project_P89-5Processed_150916/mixcrOutput/lib8620_trimmed.fastq...\n",
        "44.20834589"
       ]
      },
      {
       "output_type": "stream",
       "stream": "stdout",
       "text": [
        "\n",
        "Running on /Volumes/genomics/Illumina/150910_D00565_0096_AC6REVANXX/Project_P89-5Processed_150916/mixcrOutput/lib9201_trimmed.fastq...\n",
        "43.7054989338"
       ]
      },
      {
       "output_type": "stream",
       "stream": "stdout",
       "text": [
        "\n",
        "Running on /Volumes/genomics/Illumina/150910_D00565_0096_AC6REVANXX/Project_P89-5Processed_150916/mixcrOutput/lib9162_trimmed.fastq...\n",
        "47.2523629665"
       ]
      },
      {
       "output_type": "stream",
       "stream": "stdout",
       "text": [
        "\n",
        "Running on /Volumes/genomics/Illumina/150910_D00565_0096_AC6REVANXX/Project_P89-5Processed_150916/mixcrOutput/lib8844_trimmed.fastq...\n",
        "28.2995970249"
       ]
      },
      {
       "output_type": "stream",
       "stream": "stdout",
       "text": [
        "\n",
        "Running on /Volumes/genomics/Illumina/150910_D00565_0096_AC6REVANXX/Project_P89-5Processed_150916/mixcrOutput/lib8878_trimmed.fastq...\n",
        "30.643501997"
       ]
      },
      {
       "output_type": "stream",
       "stream": "stdout",
       "text": [
        "\n",
        "Running on /Volumes/genomics/Illumina/150910_D00565_0096_AC6REVANXX/Project_P89-5Processed_150916/mixcrOutput/lib8907_trimmed.fastq...\n",
        "37.0930650234"
       ]
      },
      {
       "output_type": "stream",
       "stream": "stdout",
       "text": [
        "\n",
        "Running on /Volumes/genomics/Illumina/150910_D00565_0096_AC6REVANXX/Project_P89-5Processed_150916/mixcrOutput/lib8608_trimmed.fastq...\n",
        "51.9361581802"
       ]
      },
      {
       "output_type": "stream",
       "stream": "stdout",
       "text": [
        "\n",
        "Running on /Volumes/genomics/Illumina/150910_D00565_0096_AC6REVANXX/Project_P89-5Processed_150916/mixcrOutput/lib9189_trimmed.fastq...\n",
        "39.5562970638"
       ]
      },
      {
       "output_type": "stream",
       "stream": "stdout",
       "text": [
        "\n",
        "Running on /Volumes/genomics/Illumina/150910_D00565_0096_AC6REVANXX/Project_P89-5Processed_150916/mixcrOutput/lib8851_trimmed.fastq...\n",
        "26.7938630581"
       ]
      },
      {
       "output_type": "stream",
       "stream": "stdout",
       "text": [
        "\n",
        "Running on /Volumes/genomics/Illumina/150910_D00565_0096_AC6REVANXX/Project_P89-5Processed_150916/mixcrOutput/lib8621_trimmed.fastq...\n",
        "24.8131809235"
       ]
      },
      {
       "output_type": "stream",
       "stream": "stdout",
       "text": [
        "\n",
        "Running on /Volumes/genomics/Illumina/150910_D00565_0096_AC6REVANXX/Project_P89-5Processed_150916/mixcrOutput/lib9200_trimmed.fastq...\n",
        "46.7729170322"
       ]
      },
      {
       "output_type": "stream",
       "stream": "stdout",
       "text": [
        "\n",
        "Running on /Volumes/genomics/Illumina/150910_D00565_0096_AC6REVANXX/Project_P89-5Processed_150916/mixcrOutput/lib8845_trimmed.fastq...\n",
        "45.0697109699"
       ]
      },
      {
       "output_type": "stream",
       "stream": "stdout",
       "text": [
        "\n",
        "Running on /Volumes/genomics/Illumina/150910_D00565_0096_AC6REVANXX/Project_P89-5Processed_150916/mixcrOutput/lib9163_trimmed.fastq...\n",
        "38.4333469868"
       ]
      },
      {
       "output_type": "stream",
       "stream": "stdout",
       "text": [
        "\n",
        "Running on /Volumes/genomics/Illumina/150910_D00565_0096_AC6REVANXX/Project_P89-5Processed_150916/mixcrOutput/lib8906_trimmed.fastq...\n",
        "39.6698229313"
       ]
      },
      {
       "output_type": "stream",
       "stream": "stdout",
       "text": [
        "\n",
        "Running on /Volumes/genomics/Illumina/150910_D00565_0096_AC6REVANXX/Project_P89-5Processed_150916/mixcrOutput/lib8609_trimmed.fastq...\n",
        "55.5230610371"
       ]
      },
      {
       "output_type": "stream",
       "stream": "stdout",
       "text": [
        "\n",
        "Running on /Volumes/genomics/Illumina/150910_D00565_0096_AC6REVANXX/Project_P89-5Processed_150916/mixcrOutput/lib8594_trimmed.fastq...\n",
        "13.4860978127"
       ]
      },
      {
       "output_type": "stream",
       "stream": "stdout",
       "text": [
        "\n",
        "Running on /Volumes/genomics/Illumina/150910_D00565_0096_AC6REVANXX/Project_P89-5Processed_150916/mixcrOutput/lib8893_trimmed.fastq...\n",
        "13.4591648579"
       ]
      },
      {
       "output_type": "stream",
       "stream": "stdout",
       "text": [
        "\n",
        "Running on /Volumes/genomics/Illumina/150910_D00565_0096_AC6REVANXX/Project_P89-5Processed_150916/mixcrOutput/lib8624_trimmed.fastq...\n",
        "35.316311121"
       ]
      },
      {
       "output_type": "stream",
       "stream": "stdout",
       "text": [
        "\n",
        "Running on /Volumes/genomics/Illumina/150910_D00565_0096_AC6REVANXX/Project_P89-5Processed_150916/mixcrOutput/lib9166_trimmed.fastq...\n",
        "21.2473890781"
       ]
      },
      {
       "output_type": "stream",
       "stream": "stdout",
       "text": [
        "\n",
        "Running on /Volumes/genomics/Illumina/150910_D00565_0096_AC6REVANXX/Project_P89-5Processed_150916/mixcrOutput/lib9172_trimmed.fastq...\n",
        "2.52289891243"
       ]
      },
      {
       "output_type": "stream",
       "stream": "stdout",
       "text": [
        "\n",
        "Running on /Volumes/genomics/Illumina/150910_D00565_0096_AC6REVANXX/Project_P89-5Processed_150916/mixcrOutput/lib8868_trimmed.fastq...\n",
        "13.5538899899"
       ]
      },
      {
       "output_type": "stream",
       "stream": "stdout",
       "text": [
        "\n",
        "Running on /Volumes/genomics/Illumina/150910_D00565_0096_AC6REVANXX/Project_P89-5Processed_150916/mixcrOutput/lib8585_trimmed.fastq...\n",
        "26.4964981079"
       ]
      },
      {
       "output_type": "stream",
       "stream": "stdout",
       "text": [
        "\n",
        "Running on /Volumes/genomics/Illumina/150910_D00565_0096_AC6REVANXX/Project_P89-5Processed_150916/mixcrOutput/lib8882_trimmed.fastq...\n",
        "16.2544248104"
       ]
      },
      {
       "output_type": "stream",
       "stream": "stdout",
       "text": [
        "\n",
        "Running on /Volumes/genomics/Illumina/150910_D00565_0096_AC6REVANXX/Project_P89-5Processed_150916/mixcrOutput/lib8603_trimmed.fastq...\n",
        "28.3790779114"
       ]
      },
      {
       "output_type": "stream",
       "stream": "stdout",
       "text": [
        "\n",
        "Running on /Volumes/genomics/Illumina/150910_D00565_0096_AC6REVANXX/Project_P89-5Processed_150916/mixcrOutput/lib9141_trimmed.fastq...\n",
        "11.6217720509"
       ]
      },
      {
       "output_type": "stream",
       "stream": "stdout",
       "text": [
        "\n",
        "Running on /Volumes/genomics/Illumina/150910_D00565_0096_AC6REVANXX/Project_P89-5Processed_150916/mixcrOutput/lib8867_trimmed.fastq...\n",
        "22.4109518528"
       ]
      },
      {
       "output_type": "stream",
       "stream": "stdout",
       "text": [
        "\n",
        "Running on /Volumes/genomics/Illumina/150910_D00565_0096_AC6REVANXX/Project_P89-5Processed_150916/mixcrOutput/lib9183_trimmed.fastq...\n",
        "21.7938058376"
       ]
      },
      {
       "output_type": "stream",
       "stream": "stdout",
       "text": [
        "\n",
        "Running on /Volumes/genomics/Illumina/150910_D00565_0096_AC6REVANXX/Project_P89-5Processed_150916/mixcrOutput/lib9197_trimmed.fastq...\n",
        "16.1507868767"
       ]
      },
      {
       "output_type": "stream",
       "stream": "stdout",
       "text": [
        "\n",
        "Running on /Volumes/genomics/Illumina/150910_D00565_0096_AC6REVANXX/Project_P89-5Processed_150916/mixcrOutput/lib8909_trimmed.fastq...\n",
        "22.2459688187"
       ]
      },
      {
       "output_type": "stream",
       "stream": "stdout",
       "text": [
        "\n",
        "Running on /Volumes/genomics/Illumina/150910_D00565_0096_AC6REVANXX/Project_P89-5Processed_150916/mixcrOutput/lib8862_trimmed.fastq...\n",
        "21.9541809559"
       ]
      },
      {
       "output_type": "stream",
       "stream": "stdout",
       "text": [
        "\n",
        "Running on /Volumes/genomics/Illumina/150910_D00565_0096_AC6REVANXX/Project_P89-5Processed_150916/mixcrOutput/lib8612_trimmed.fastq...\n",
        "16.5460481644"
       ]
      },
      {
       "output_type": "stream",
       "stream": "stdout",
       "text": [
        "\n",
        "Running on /Volumes/genomics/Illumina/150910_D00565_0096_AC6REVANXX/Project_P89-5Processed_150916/mixcrOutput/lib8888_trimmed.fastq...\n",
        "20.6703979969"
       ]
      },
      {
       "output_type": "stream",
       "stream": "stdout",
       "text": [
        "\n",
        "Running on /Volumes/genomics/Illumina/150910_D00565_0096_AC6REVANXX/Project_P89-5Processed_150916/mixcrOutput/lib9150_trimmed.fastq...\n",
        "21.6146600246"
       ]
      },
      {
       "output_type": "stream",
       "stream": "stdout",
       "text": [
        "\n",
        "Running on /Volumes/genomics/Illumina/150910_D00565_0096_AC6REVANXX/Project_P89-5Processed_150916/mixcrOutput/lib8876_trimmed.fastq...\n",
        "14.0500760078"
       ]
      },
      {
       "output_type": "stream",
       "stream": "stdout",
       "text": [
        "\n",
        "Running on /Volumes/genomics/Illumina/150910_D00565_0096_AC6REVANXX/Project_P89-5Processed_150916/mixcrOutput/lib9186_trimmed.fastq...\n",
        "2.02901411057"
       ]
      },
      {
       "output_type": "stream",
       "stream": "stdout",
       "text": [
        "\n",
        "Running on /Volumes/genomics/Illumina/150910_D00565_0096_AC6REVANXX/Project_P89-5Processed_150916/mixcrOutput/lib8599_trimmed.fastq...\n",
        "15.1964781284"
       ]
      },
      {
       "output_type": "stream",
       "stream": "stdout",
       "text": [
        "\n",
        "Running on /Volumes/genomics/Illumina/150910_D00565_0096_AC6REVANXX/Project_P89-5Processed_150916/mixcrOutput/lib8860_trimmed.fastq...\n",
        "24.1379308701"
       ]
      },
      {
       "output_type": "stream",
       "stream": "stdout",
       "text": [
        "\n",
        "Running on /Volumes/genomics/Illumina/150910_D00565_0096_AC6REVANXX/Project_P89-5Processed_150916/mixcrOutput/lib8604_trimmed.fastq...\n",
        "15.8858220577"
       ]
      },
      {
       "output_type": "stream",
       "stream": "stdout",
       "text": [
        "\n",
        "Running on /Volumes/genomics/Illumina/150910_D00565_0096_AC6REVANXX/Project_P89-5Processed_150916/mixcrOutput/lib9152_trimmed.fastq...\n",
        "19.5779120922"
       ]
      },
      {
       "output_type": "stream",
       "stream": "stdout",
       "text": [
        "\n",
        "Running on /Volumes/genomics/Illumina/150910_D00565_0096_AC6REVANXX/Project_P89-5Processed_150916/mixcrOutput/lib8874_trimmed.fastq...\n",
        "20.01633811"
       ]
      },
      {
       "output_type": "stream",
       "stream": "stdout",
       "text": [
        "\n",
        "Running on /Volumes/genomics/Illumina/150910_D00565_0096_AC6REVANXX/Project_P89-5Processed_150916/mixcrOutput/lib9190_trimmed.fastq...\n",
        "12.2070178986"
       ]
      },
      {
       "output_type": "stream",
       "stream": "stdout",
       "text": [
        "\n",
        "Running on /Volumes/genomics/Illumina/150910_D00565_0096_AC6REVANXX/Project_P89-5Processed_150916/mixcrOutput/lib9184_trimmed.fastq...\n",
        "14.8594100475"
       ]
      },
      {
       "output_type": "stream",
       "stream": "stdout",
       "text": [
        "\n",
        "Running on /Volumes/genomics/Illumina/150910_D00565_0096_AC6REVANXX/Project_P89-5Processed_150916/mixcrOutput/lib9157_trimmed.fastq...\n",
        "23.3799891472"
       ]
      },
      {
       "output_type": "stream",
       "stream": "stdout",
       "text": [
        "\n",
        "Running on /Volumes/genomics/Illumina/150910_D00565_0096_AC6REVANXX/Project_P89-5Processed_150916/mixcrOutput/lib8871_trimmed.fastq...\n",
        "7.14470601082"
       ]
      },
      {
       "output_type": "stream",
       "stream": "stdout",
       "text": [
        "\n",
        "Running on /Volumes/genomics/Illumina/150910_D00565_0096_AC6REVANXX/Project_P89-5Processed_150916/mixcrOutput/lib8576_trimmed.fastq...\n",
        "18.0865020752"
       ]
      },
      {
       "output_type": "stream",
       "stream": "stdout",
       "text": [
        "\n",
        "Running on /Volumes/genomics/Illumina/150910_D00565_0096_AC6REVANXX/Project_P89-5Processed_150916/mixcrOutput/lib8615_trimmed.fastq...\n",
        "26.2995419502"
       ]
      },
      {
       "output_type": "stream",
       "stream": "stdout",
       "text": [
        "\n",
        "Running on /Volumes/genomics/Illumina/150910_D00565_0096_AC6REVANXX/Project_P89-5Processed_150916/mixcrOutput/lib9143_trimmed.fastq...\n",
        "24.5594599247"
       ]
      },
      {
       "output_type": "stream",
       "stream": "stdout",
       "text": [
        "\n",
        "Running on /Volumes/genomics/Illumina/150910_D00565_0096_AC6REVANXX/Project_P89-5Processed_150916/mixcrOutput/lib8865_trimmed.fastq...\n",
        "22.4279420376"
       ]
      },
      {
       "output_type": "stream",
       "stream": "stdout",
       "text": [
        "\n",
        "Running on /Volumes/genomics/Illumina/150910_D00565_0096_AC6REVANXX/Project_P89-5Processed_150916/mixcrOutput/lib8601_trimmed.fastq...\n",
        "31.3319129944"
       ]
      },
      {
       "output_type": "stream",
       "stream": "stdout",
       "text": [
        "\n",
        "Running on /Volumes/genomics/Illumina/150910_D00565_0096_AC6REVANXX/Project_P89-5Processed_150916/mixcrOutput/lib9136_trimmed.fastq...\n",
        "16.1404690742"
       ]
      },
      {
       "output_type": "stream",
       "stream": "stdout",
       "text": [
        "\n",
        "Running on /Volumes/genomics/Illumina/150910_D00565_0096_AC6REVANXX/Project_P89-5Processed_150916/mixcrOutput/lib9181_trimmed.fastq...\n",
        "12.3525969982"
       ]
      },
      {
       "output_type": "stream",
       "stream": "stdout",
       "text": [
        "\n",
        "Running on /Volumes/genomics/Illumina/150910_D00565_0096_AC6REVANXX/Project_P89-5Processed_150916/mixcrOutput/lib9195_trimmed.fastq...\n",
        "22.6101410389"
       ]
      },
      {
       "output_type": "stream",
       "stream": "stdout",
       "text": [
        "\n",
        "Running on /Volumes/genomics/Illumina/150910_D00565_0096_AC6REVANXX/Project_P89-5Processed_150916/mixcrOutput/lib8842_trimmed.fastq...\n",
        "18.2789509296"
       ]
      },
      {
       "output_type": "stream",
       "stream": "stdout",
       "text": [
        "\n",
        "Running on /Volumes/genomics/Illumina/150910_D00565_0096_AC6REVANXX/Project_P89-5Processed_150916/mixcrOutput/lib9164_trimmed.fastq...\n",
        "26.031840086"
       ]
      },
      {
       "output_type": "stream",
       "stream": "stdout",
       "text": [
        "\n",
        "Running on /Volumes/genomics/Illumina/150910_D00565_0096_AC6REVANXX/Project_P89-5Processed_150916/mixcrOutput/lib8626_trimmed.fastq...\n",
        "25.2751071453"
       ]
      },
      {
       "output_type": "stream",
       "stream": "stdout",
       "text": [
        "\n",
        "Running on /Volumes/genomics/Illumina/150910_D00565_0096_AC6REVANXX/Project_P89-5Processed_150916/mixcrOutput/lib9170_trimmed.fastq...\n",
        "19.0099887848"
       ]
      },
      {
       "output_type": "stream",
       "stream": "stdout",
       "text": [
        "\n",
        "Running on /Volumes/genomics/Illumina/150910_D00565_0096_AC6REVANXX/Project_P89-5Processed_150916/mixcrOutput/lib8593_trimmed.fastq...\n",
        "24.7603399754"
       ]
      },
      {
       "output_type": "stream",
       "stream": "stdout",
       "text": [
        "\n",
        "Running on /Volumes/genomics/Illumina/150910_D00565_0096_AC6REVANXX/Project_P89-5Processed_150916/mixcrOutput/lib9139_trimmed.fastq...\n",
        "16.3598029613"
       ]
      },
      {
       "output_type": "stream",
       "stream": "stdout",
       "text": [
        "\n",
        "Running on /Volumes/genomics/Illumina/150910_D00565_0096_AC6REVANXX/Project_P89-5Processed_150916/mixcrOutput/lib8587_trimmed.fastq...\n",
        "23.0219781399"
       ]
      },
      {
       "output_type": "stream",
       "stream": "stdout",
       "text": [
        "\n",
        "Running on /Volumes/genomics/Illumina/150910_D00565_0096_AC6REVANXX/Project_P89-5Processed_150916/mixcrOutput/lib9158_trimmed.fastq...\n",
        "10.8883700371"
       ]
      },
      {
       "output_type": "stream",
       "stream": "stdout",
       "text": [
        "\n",
        "Running on /Volumes/genomics/Illumina/150910_D00565_0096_AC6REVANXX/Project_P89-5Processed_150916/mixcrOutput/lib8579_trimmed.fastq...\n",
        "6.09113001823"
       ]
      },
      {
       "output_type": "stream",
       "stream": "stdout",
       "text": [
        "\n",
        "Running on /Volumes/genomics/Illumina/150910_D00565_0096_AC6REVANXX/Project_P89-5Processed_150916/mixcrOutput/lib8853_trimmed.fastq...\n",
        "20.0686311722"
       ]
      },
      {
       "output_type": "stream",
       "stream": "stdout",
       "text": [
        "\n",
        "Running on /Volumes/genomics/Illumina/150910_D00565_0096_AC6REVANXX/Project_P89-5Processed_150916/mixcrOutput/lib8847_trimmed.fastq...\n",
        "18.7190201283"
       ]
      },
      {
       "output_type": "stream",
       "stream": "stdout",
       "text": [
        "\n",
        "Running on /Volumes/genomics/Illumina/150910_D00565_0096_AC6REVANXX/Project_P89-5Processed_150916/mixcrOutput/lib9161_trimmed.fastq...\n",
        "18.8801620007"
       ]
      },
      {
       "output_type": "stream",
       "stream": "stdout",
       "text": [
        "\n",
        "Running on /Volumes/genomics/Illumina/150910_D00565_0096_AC6REVANXX/Project_P89-5Processed_150916/mixcrOutput/lib9202_trimmed.fastq...\n",
        "14.5897328854"
       ]
      },
      {
       "output_type": "stream",
       "stream": "stdout",
       "text": [
        "\n",
        "Running on /Volumes/genomics/Illumina/150910_D00565_0096_AC6REVANXX/Project_P89-5Processed_150916/mixcrOutput/lib8885_trimmed.fastq...\n",
        "12.7098810673"
       ]
      },
      {
       "output_type": "stream",
       "stream": "stdout",
       "text": [
        "\n",
        "Running on /Volumes/genomics/Illumina/150910_D00565_0096_AC6REVANXX/Project_P89-5Processed_150916/mixcrOutput/lib9149_trimmed.fastq...\n",
        "17.4588980675"
       ]
      },
      {
       "output_type": "stream",
       "stream": "stdout",
       "text": [
        "\n",
        "Running on /Volumes/genomics/Illumina/150910_D00565_0096_AC6REVANXX/Project_P89-5Processed_150916/mixcrOutput/lib8904_trimmed.fastq...\n",
        "15.429366827"
       ]
      },
      {
       "output_type": "stream",
       "stream": "stdout",
       "text": [
        "\n"
       ]
      }
     ],
     "prompt_number": 99
    },
    {
     "cell_type": "code",
     "collapsed": false,
     "input": [
      "pd.DataFrame(car_gene_dict).transpose()"
     ],
     "language": "python",
     "metadata": {},
     "outputs": [
      {
       "html": [
        "<div style=\"max-width:1500px;overflow:auto;\">\n",
        "<table border=\"1\" class=\"dataframe\">\n",
        "  <thead>\n",
        "    <tr style=\"text-align: right;\">\n",
        "      <th></th>\n",
        "      <th>flowcell</th>\n",
        "      <th>num_reads</th>\n",
        "      <th>project</th>\n",
        "      <th>tpm</th>\n",
        "    </tr>\n",
        "  </thead>\n",
        "  <tbody>\n",
        "    <tr>\n",
        "      <th>lib8574</th>\n",
        "      <td>C6REVANXX</td>\n",
        "      <td>0</td>\n",
        "      <td>P89-5</td>\n",
        "      <td>NA</td>\n",
        "    </tr>\n",
        "    <tr>\n",
        "      <th>lib8575</th>\n",
        "      <td>C6REVANXX</td>\n",
        "      <td>22</td>\n",
        "      <td>P89-5</td>\n",
        "      <td>NA</td>\n",
        "    </tr>\n",
        "    <tr>\n",
        "      <th>lib8576</th>\n",
        "      <td>C6REVANXX</td>\n",
        "      <td>1745</td>\n",
        "      <td>P89-5</td>\n",
        "      <td>NA</td>\n",
        "    </tr>\n",
        "    <tr>\n",
        "      <th>lib8577</th>\n",
        "      <td>C6REVANXX</td>\n",
        "      <td>0</td>\n",
        "      <td>P89-5</td>\n",
        "      <td>NA</td>\n",
        "    </tr>\n",
        "    <tr>\n",
        "      <th>lib8578</th>\n",
        "      <td>C6REVANXX</td>\n",
        "      <td>61</td>\n",
        "      <td>P89-5</td>\n",
        "      <td>NA</td>\n",
        "    </tr>\n",
        "    <tr>\n",
        "      <th>lib8579</th>\n",
        "      <td>C6REVANXX</td>\n",
        "      <td>9</td>\n",
        "      <td>P89-5</td>\n",
        "      <td>NA</td>\n",
        "    </tr>\n",
        "    <tr>\n",
        "      <th>lib8580</th>\n",
        "      <td>C6REVANXX</td>\n",
        "      <td>0</td>\n",
        "      <td>P89-5</td>\n",
        "      <td>NA</td>\n",
        "    </tr>\n",
        "    <tr>\n",
        "      <th>lib8581</th>\n",
        "      <td>C6REVANXX</td>\n",
        "      <td>0</td>\n",
        "      <td>P89-5</td>\n",
        "      <td>NA</td>\n",
        "    </tr>\n",
        "    <tr>\n",
        "      <th>lib8582</th>\n",
        "      <td>C6REVANXX</td>\n",
        "      <td>0</td>\n",
        "      <td>P89-5</td>\n",
        "      <td>NA</td>\n",
        "    </tr>\n",
        "    <tr>\n",
        "      <th>lib8583</th>\n",
        "      <td>C6REVANXX</td>\n",
        "      <td>277</td>\n",
        "      <td>P89-5</td>\n",
        "      <td>NA</td>\n",
        "    </tr>\n",
        "    <tr>\n",
        "      <th>lib8584</th>\n",
        "      <td>C6REVANXX</td>\n",
        "      <td>1</td>\n",
        "      <td>P89-5</td>\n",
        "      <td>NA</td>\n",
        "    </tr>\n",
        "    <tr>\n",
        "      <th>lib8585</th>\n",
        "      <td>C6REVANXX</td>\n",
        "      <td>1</td>\n",
        "      <td>P89-5</td>\n",
        "      <td>NA</td>\n",
        "    </tr>\n",
        "    <tr>\n",
        "      <th>lib8586</th>\n",
        "      <td>C6REVANXX</td>\n",
        "      <td>7</td>\n",
        "      <td>P89-5</td>\n",
        "      <td>NA</td>\n",
        "    </tr>\n",
        "    <tr>\n",
        "      <th>lib8587</th>\n",
        "      <td>C6REVANXX</td>\n",
        "      <td>1</td>\n",
        "      <td>P89-5</td>\n",
        "      <td>NA</td>\n",
        "    </tr>\n",
        "    <tr>\n",
        "      <th>lib8588</th>\n",
        "      <td>C6REVANXX</td>\n",
        "      <td>0</td>\n",
        "      <td>P89-5</td>\n",
        "      <td>NA</td>\n",
        "    </tr>\n",
        "    <tr>\n",
        "      <th>lib8589</th>\n",
        "      <td>C6REVANXX</td>\n",
        "      <td>0</td>\n",
        "      <td>P89-5</td>\n",
        "      <td>NA</td>\n",
        "    </tr>\n",
        "    <tr>\n",
        "      <th>lib8590</th>\n",
        "      <td>C6REVANXX</td>\n",
        "      <td>0</td>\n",
        "      <td>P89-5</td>\n",
        "      <td>NA</td>\n",
        "    </tr>\n",
        "    <tr>\n",
        "      <th>lib8591</th>\n",
        "      <td>C6REVANXX</td>\n",
        "      <td>0</td>\n",
        "      <td>P89-5</td>\n",
        "      <td>NA</td>\n",
        "    </tr>\n",
        "    <tr>\n",
        "      <th>lib8592</th>\n",
        "      <td>C6REVANXX</td>\n",
        "      <td>0</td>\n",
        "      <td>P89-5</td>\n",
        "      <td>NA</td>\n",
        "    </tr>\n",
        "    <tr>\n",
        "      <th>lib8593</th>\n",
        "      <td>C6REVANXX</td>\n",
        "      <td>7</td>\n",
        "      <td>P89-5</td>\n",
        "      <td>NA</td>\n",
        "    </tr>\n",
        "    <tr>\n",
        "      <th>lib8594</th>\n",
        "      <td>C6REVANXX</td>\n",
        "      <td>112</td>\n",
        "      <td>P89-5</td>\n",
        "      <td>NA</td>\n",
        "    </tr>\n",
        "    <tr>\n",
        "      <th>lib8595</th>\n",
        "      <td>C6REVANXX</td>\n",
        "      <td>0</td>\n",
        "      <td>P89-5</td>\n",
        "      <td>NA</td>\n",
        "    </tr>\n",
        "    <tr>\n",
        "      <th>lib8596</th>\n",
        "      <td>C6REVANXX</td>\n",
        "      <td>0</td>\n",
        "      <td>P89-5</td>\n",
        "      <td>NA</td>\n",
        "    </tr>\n",
        "    <tr>\n",
        "      <th>lib8597</th>\n",
        "      <td>C6REVANXX</td>\n",
        "      <td>0</td>\n",
        "      <td>P89-5</td>\n",
        "      <td>NA</td>\n",
        "    </tr>\n",
        "    <tr>\n",
        "      <th>lib8598</th>\n",
        "      <td>C6REVANXX</td>\n",
        "      <td>0</td>\n",
        "      <td>P89-5</td>\n",
        "      <td>NA</td>\n",
        "    </tr>\n",
        "    <tr>\n",
        "      <th>lib8599</th>\n",
        "      <td>C6REVANXX</td>\n",
        "      <td>25</td>\n",
        "      <td>P89-5</td>\n",
        "      <td>NA</td>\n",
        "    </tr>\n",
        "    <tr>\n",
        "      <th>lib8600</th>\n",
        "      <td>C6REVANXX</td>\n",
        "      <td>1</td>\n",
        "      <td>P89-5</td>\n",
        "      <td>NA</td>\n",
        "    </tr>\n",
        "    <tr>\n",
        "      <th>lib8601</th>\n",
        "      <td>C6REVANXX</td>\n",
        "      <td>2</td>\n",
        "      <td>P89-5</td>\n",
        "      <td>NA</td>\n",
        "    </tr>\n",
        "    <tr>\n",
        "      <th>lib8602</th>\n",
        "      <td>C6REVANXX</td>\n",
        "      <td>0</td>\n",
        "      <td>P89-5</td>\n",
        "      <td>NA</td>\n",
        "    </tr>\n",
        "    <tr>\n",
        "      <th>lib8603</th>\n",
        "      <td>C6REVANXX</td>\n",
        "      <td>2</td>\n",
        "      <td>P89-5</td>\n",
        "      <td>NA</td>\n",
        "    </tr>\n",
        "    <tr>\n",
        "      <th>...</th>\n",
        "      <td>...</td>\n",
        "      <td>...</td>\n",
        "      <td>...</td>\n",
        "      <td>...</td>\n",
        "    </tr>\n",
        "    <tr>\n",
        "      <th>lib9176</th>\n",
        "      <td>C6REVANXX</td>\n",
        "      <td>0</td>\n",
        "      <td>P89-5</td>\n",
        "      <td>NA</td>\n",
        "    </tr>\n",
        "    <tr>\n",
        "      <th>lib9177</th>\n",
        "      <td>C6REVANXX</td>\n",
        "      <td>0</td>\n",
        "      <td>P89-5</td>\n",
        "      <td>NA</td>\n",
        "    </tr>\n",
        "    <tr>\n",
        "      <th>lib9178</th>\n",
        "      <td>C6REVANXX</td>\n",
        "      <td>0</td>\n",
        "      <td>P89-5</td>\n",
        "      <td>NA</td>\n",
        "    </tr>\n",
        "    <tr>\n",
        "      <th>lib9179</th>\n",
        "      <td>C6REVANXX</td>\n",
        "      <td>0</td>\n",
        "      <td>P89-5</td>\n",
        "      <td>NA</td>\n",
        "    </tr>\n",
        "    <tr>\n",
        "      <th>lib9180</th>\n",
        "      <td>C6REVANXX</td>\n",
        "      <td>0</td>\n",
        "      <td>P89-5</td>\n",
        "      <td>NA</td>\n",
        "    </tr>\n",
        "    <tr>\n",
        "      <th>lib9181</th>\n",
        "      <td>C6REVANXX</td>\n",
        "      <td>211</td>\n",
        "      <td>P89-5</td>\n",
        "      <td>NA</td>\n",
        "    </tr>\n",
        "    <tr>\n",
        "      <th>lib9182</th>\n",
        "      <td>C6REVANXX</td>\n",
        "      <td>1</td>\n",
        "      <td>P89-5</td>\n",
        "      <td>NA</td>\n",
        "    </tr>\n",
        "    <tr>\n",
        "      <th>lib9183</th>\n",
        "      <td>C6REVANXX</td>\n",
        "      <td>6</td>\n",
        "      <td>P89-5</td>\n",
        "      <td>NA</td>\n",
        "    </tr>\n",
        "    <tr>\n",
        "      <th>lib9184</th>\n",
        "      <td>C6REVANXX</td>\n",
        "      <td>1</td>\n",
        "      <td>P89-5</td>\n",
        "      <td>NA</td>\n",
        "    </tr>\n",
        "    <tr>\n",
        "      <th>lib9185</th>\n",
        "      <td>C6REVANXX</td>\n",
        "      <td>462</td>\n",
        "      <td>P89-5</td>\n",
        "      <td>NA</td>\n",
        "    </tr>\n",
        "    <tr>\n",
        "      <th>lib9186</th>\n",
        "      <td>C6REVANXX</td>\n",
        "      <td>1</td>\n",
        "      <td>P89-5</td>\n",
        "      <td>NA</td>\n",
        "    </tr>\n",
        "    <tr>\n",
        "      <th>lib9187</th>\n",
        "      <td>C6REVANXX</td>\n",
        "      <td>20</td>\n",
        "      <td>P89-5</td>\n",
        "      <td>NA</td>\n",
        "    </tr>\n",
        "    <tr>\n",
        "      <th>lib9188</th>\n",
        "      <td>C6REVANXX</td>\n",
        "      <td>0</td>\n",
        "      <td>P89-5</td>\n",
        "      <td>NA</td>\n",
        "    </tr>\n",
        "    <tr>\n",
        "      <th>lib9189</th>\n",
        "      <td>C6REVANXX</td>\n",
        "      <td>2591</td>\n",
        "      <td>P89-5</td>\n",
        "      <td>NA</td>\n",
        "    </tr>\n",
        "    <tr>\n",
        "      <th>lib9190</th>\n",
        "      <td>C6REVANXX</td>\n",
        "      <td>1</td>\n",
        "      <td>P89-5</td>\n",
        "      <td>NA</td>\n",
        "    </tr>\n",
        "    <tr>\n",
        "      <th>lib9191</th>\n",
        "      <td>C6REVANXX</td>\n",
        "      <td>0</td>\n",
        "      <td>P89-5</td>\n",
        "      <td>NA</td>\n",
        "    </tr>\n",
        "    <tr>\n",
        "      <th>lib9192</th>\n",
        "      <td>C6REVANXX</td>\n",
        "      <td>0</td>\n",
        "      <td>P89-5</td>\n",
        "      <td>NA</td>\n",
        "    </tr>\n",
        "    <tr>\n",
        "      <th>lib9193</th>\n",
        "      <td>C6REVANXX</td>\n",
        "      <td>32</td>\n",
        "      <td>P89-5</td>\n",
        "      <td>NA</td>\n",
        "    </tr>\n",
        "    <tr>\n",
        "      <th>lib9194</th>\n",
        "      <td>C6REVANXX</td>\n",
        "      <td>2</td>\n",
        "      <td>P89-5</td>\n",
        "      <td>NA</td>\n",
        "    </tr>\n",
        "    <tr>\n",
        "      <th>lib9195</th>\n",
        "      <td>C6REVANXX</td>\n",
        "      <td>20</td>\n",
        "      <td>P89-5</td>\n",
        "      <td>NA</td>\n",
        "    </tr>\n",
        "    <tr>\n",
        "      <th>lib9196</th>\n",
        "      <td>C6REVANXX</td>\n",
        "      <td>26</td>\n",
        "      <td>P89-5</td>\n",
        "      <td>NA</td>\n",
        "    </tr>\n",
        "    <tr>\n",
        "      <th>lib9197</th>\n",
        "      <td>C6REVANXX</td>\n",
        "      <td>5</td>\n",
        "      <td>P89-5</td>\n",
        "      <td>NA</td>\n",
        "    </tr>\n",
        "    <tr>\n",
        "      <th>lib9198</th>\n",
        "      <td>C6REVANXX</td>\n",
        "      <td>0</td>\n",
        "      <td>P89-5</td>\n",
        "      <td>NA</td>\n",
        "    </tr>\n",
        "    <tr>\n",
        "      <th>lib9199</th>\n",
        "      <td>C6REVANXX</td>\n",
        "      <td>8</td>\n",
        "      <td>P89-5</td>\n",
        "      <td>NA</td>\n",
        "    </tr>\n",
        "    <tr>\n",
        "      <th>lib9200</th>\n",
        "      <td>C6REVANXX</td>\n",
        "      <td>34</td>\n",
        "      <td>P89-5</td>\n",
        "      <td>NA</td>\n",
        "    </tr>\n",
        "    <tr>\n",
        "      <th>lib9201</th>\n",
        "      <td>C6REVANXX</td>\n",
        "      <td>27</td>\n",
        "      <td>P89-5</td>\n",
        "      <td>NA</td>\n",
        "    </tr>\n",
        "    <tr>\n",
        "      <th>lib9202</th>\n",
        "      <td>C6REVANXX</td>\n",
        "      <td>5</td>\n",
        "      <td>P89-5</td>\n",
        "      <td>NA</td>\n",
        "    </tr>\n",
        "    <tr>\n",
        "      <th>lib9203</th>\n",
        "      <td>C6REVANXX</td>\n",
        "      <td>1</td>\n",
        "      <td>P89-5</td>\n",
        "      <td>NA</td>\n",
        "    </tr>\n",
        "    <tr>\n",
        "      <th>lib9204</th>\n",
        "      <td>C6REVANXX</td>\n",
        "      <td>2</td>\n",
        "      <td>P89-5</td>\n",
        "      <td>NA</td>\n",
        "    </tr>\n",
        "    <tr>\n",
        "      <th>lib9205</th>\n",
        "      <td>C6REVANXX</td>\n",
        "      <td>0</td>\n",
        "      <td>P89-5</td>\n",
        "      <td>NA</td>\n",
        "    </tr>\n",
        "  </tbody>\n",
        "</table>\n",
        "<p>202 rows \u00d7 4 columns</p>\n",
        "</div>"
       ],
       "metadata": {},
       "output_type": "pyout",
       "prompt_number": 100,
       "text": [
        "          flowcell num_reads project tpm\n",
        "lib8574  C6REVANXX         0   P89-5  NA\n",
        "lib8575  C6REVANXX        22   P89-5  NA\n",
        "lib8576  C6REVANXX      1745   P89-5  NA\n",
        "lib8577  C6REVANXX         0   P89-5  NA\n",
        "lib8578  C6REVANXX        61   P89-5  NA\n",
        "lib8579  C6REVANXX         9   P89-5  NA\n",
        "lib8580  C6REVANXX         0   P89-5  NA\n",
        "lib8581  C6REVANXX         0   P89-5  NA\n",
        "lib8582  C6REVANXX         0   P89-5  NA\n",
        "lib8583  C6REVANXX       277   P89-5  NA\n",
        "lib8584  C6REVANXX         1   P89-5  NA\n",
        "lib8585  C6REVANXX         1   P89-5  NA\n",
        "lib8586  C6REVANXX         7   P89-5  NA\n",
        "lib8587  C6REVANXX         1   P89-5  NA\n",
        "lib8588  C6REVANXX         0   P89-5  NA\n",
        "lib8589  C6REVANXX         0   P89-5  NA\n",
        "lib8590  C6REVANXX         0   P89-5  NA\n",
        "lib8591  C6REVANXX         0   P89-5  NA\n",
        "lib8592  C6REVANXX         0   P89-5  NA\n",
        "lib8593  C6REVANXX         7   P89-5  NA\n",
        "lib8594  C6REVANXX       112   P89-5  NA\n",
        "lib8595  C6REVANXX         0   P89-5  NA\n",
        "lib8596  C6REVANXX         0   P89-5  NA\n",
        "lib8597  C6REVANXX         0   P89-5  NA\n",
        "lib8598  C6REVANXX         0   P89-5  NA\n",
        "lib8599  C6REVANXX        25   P89-5  NA\n",
        "lib8600  C6REVANXX         1   P89-5  NA\n",
        "lib8601  C6REVANXX         2   P89-5  NA\n",
        "lib8602  C6REVANXX         0   P89-5  NA\n",
        "lib8603  C6REVANXX         2   P89-5  NA\n",
        "...            ...       ...     ...  ..\n",
        "lib9176  C6REVANXX         0   P89-5  NA\n",
        "lib9177  C6REVANXX         0   P89-5  NA\n",
        "lib9178  C6REVANXX         0   P89-5  NA\n",
        "lib9179  C6REVANXX         0   P89-5  NA\n",
        "lib9180  C6REVANXX         0   P89-5  NA\n",
        "lib9181  C6REVANXX       211   P89-5  NA\n",
        "lib9182  C6REVANXX         1   P89-5  NA\n",
        "lib9183  C6REVANXX         6   P89-5  NA\n",
        "lib9184  C6REVANXX         1   P89-5  NA\n",
        "lib9185  C6REVANXX       462   P89-5  NA\n",
        "lib9186  C6REVANXX         1   P89-5  NA\n",
        "lib9187  C6REVANXX        20   P89-5  NA\n",
        "lib9188  C6REVANXX         0   P89-5  NA\n",
        "lib9189  C6REVANXX      2591   P89-5  NA\n",
        "lib9190  C6REVANXX         1   P89-5  NA\n",
        "lib9191  C6REVANXX         0   P89-5  NA\n",
        "lib9192  C6REVANXX         0   P89-5  NA\n",
        "lib9193  C6REVANXX        32   P89-5  NA\n",
        "lib9194  C6REVANXX         2   P89-5  NA\n",
        "lib9195  C6REVANXX        20   P89-5  NA\n",
        "lib9196  C6REVANXX        26   P89-5  NA\n",
        "lib9197  C6REVANXX         5   P89-5  NA\n",
        "lib9198  C6REVANXX         0   P89-5  NA\n",
        "lib9199  C6REVANXX         8   P89-5  NA\n",
        "lib9200  C6REVANXX        34   P89-5  NA\n",
        "lib9201  C6REVANXX        27   P89-5  NA\n",
        "lib9202  C6REVANXX         5   P89-5  NA\n",
        "lib9203  C6REVANXX         1   P89-5  NA\n",
        "lib9204  C6REVANXX         2   P89-5  NA\n",
        "lib9205  C6REVANXX         0   P89-5  NA\n",
        "\n",
        "[202 rows x 4 columns]"
       ]
      }
     ],
     "prompt_number": 100
    },
    {
     "cell_type": "code",
     "collapsed": false,
     "input": [
      "pd.DataFrame(car_gene_dict_high_conf).transpose()"
     ],
     "language": "python",
     "metadata": {},
     "outputs": [
      {
       "html": [
        "<div style=\"max-width:1500px;overflow:auto;\">\n",
        "<table border=\"1\" class=\"dataframe\">\n",
        "  <thead>\n",
        "    <tr style=\"text-align: right;\">\n",
        "      <th></th>\n",
        "      <th>flowcell</th>\n",
        "      <th>num_reads</th>\n",
        "      <th>project</th>\n",
        "      <th>tpm</th>\n",
        "    </tr>\n",
        "  </thead>\n",
        "  <tbody>\n",
        "    <tr>\n",
        "      <th>lib8574</th>\n",
        "      <td>C6REVANXX</td>\n",
        "      <td>0</td>\n",
        "      <td>P89-5</td>\n",
        "      <td>NA</td>\n",
        "    </tr>\n",
        "    <tr>\n",
        "      <th>lib8575</th>\n",
        "      <td>C6REVANXX</td>\n",
        "      <td>0</td>\n",
        "      <td>P89-5</td>\n",
        "      <td>0</td>\n",
        "    </tr>\n",
        "    <tr>\n",
        "      <th>lib8576</th>\n",
        "      <td>C6REVANXX</td>\n",
        "      <td>112.945</td>\n",
        "      <td>P89-5</td>\n",
        "      <td>8541.16</td>\n",
        "    </tr>\n",
        "    <tr>\n",
        "      <th>lib8577</th>\n",
        "      <td>C6REVANXX</td>\n",
        "      <td>0</td>\n",
        "      <td>P89-5</td>\n",
        "      <td>NA</td>\n",
        "    </tr>\n",
        "    <tr>\n",
        "      <th>lib8578</th>\n",
        "      <td>C6REVANXX</td>\n",
        "      <td>0</td>\n",
        "      <td>P89-5</td>\n",
        "      <td>0</td>\n",
        "    </tr>\n",
        "    <tr>\n",
        "      <th>lib8579</th>\n",
        "      <td>C6REVANXX</td>\n",
        "      <td>0</td>\n",
        "      <td>P89-5</td>\n",
        "      <td>0</td>\n",
        "    </tr>\n",
        "    <tr>\n",
        "      <th>lib8580</th>\n",
        "      <td>C6REVANXX</td>\n",
        "      <td>0</td>\n",
        "      <td>P89-5</td>\n",
        "      <td>NA</td>\n",
        "    </tr>\n",
        "    <tr>\n",
        "      <th>lib8581</th>\n",
        "      <td>C6REVANXX</td>\n",
        "      <td>0</td>\n",
        "      <td>P89-5</td>\n",
        "      <td>NA</td>\n",
        "    </tr>\n",
        "    <tr>\n",
        "      <th>lib8582</th>\n",
        "      <td>C6REVANXX</td>\n",
        "      <td>0</td>\n",
        "      <td>P89-5</td>\n",
        "      <td>NA</td>\n",
        "    </tr>\n",
        "    <tr>\n",
        "      <th>lib8583</th>\n",
        "      <td>C6REVANXX</td>\n",
        "      <td>0</td>\n",
        "      <td>P89-5</td>\n",
        "      <td>0</td>\n",
        "    </tr>\n",
        "    <tr>\n",
        "      <th>lib8584</th>\n",
        "      <td>C6REVANXX</td>\n",
        "      <td>0</td>\n",
        "      <td>P89-5</td>\n",
        "      <td>0</td>\n",
        "    </tr>\n",
        "    <tr>\n",
        "      <th>lib8585</th>\n",
        "      <td>C6REVANXX</td>\n",
        "      <td>0</td>\n",
        "      <td>P89-5</td>\n",
        "      <td>0</td>\n",
        "    </tr>\n",
        "    <tr>\n",
        "      <th>lib8586</th>\n",
        "      <td>C6REVANXX</td>\n",
        "      <td>0</td>\n",
        "      <td>P89-5</td>\n",
        "      <td>0</td>\n",
        "    </tr>\n",
        "    <tr>\n",
        "      <th>lib8587</th>\n",
        "      <td>C6REVANXX</td>\n",
        "      <td>0</td>\n",
        "      <td>P89-5</td>\n",
        "      <td>0</td>\n",
        "    </tr>\n",
        "    <tr>\n",
        "      <th>lib8588</th>\n",
        "      <td>C6REVANXX</td>\n",
        "      <td>0</td>\n",
        "      <td>P89-5</td>\n",
        "      <td>NA</td>\n",
        "    </tr>\n",
        "    <tr>\n",
        "      <th>lib8589</th>\n",
        "      <td>C6REVANXX</td>\n",
        "      <td>0</td>\n",
        "      <td>P89-5</td>\n",
        "      <td>NA</td>\n",
        "    </tr>\n",
        "    <tr>\n",
        "      <th>lib8590</th>\n",
        "      <td>C6REVANXX</td>\n",
        "      <td>0</td>\n",
        "      <td>P89-5</td>\n",
        "      <td>NA</td>\n",
        "    </tr>\n",
        "    <tr>\n",
        "      <th>lib8591</th>\n",
        "      <td>C6REVANXX</td>\n",
        "      <td>0</td>\n",
        "      <td>P89-5</td>\n",
        "      <td>NA</td>\n",
        "    </tr>\n",
        "    <tr>\n",
        "      <th>lib8592</th>\n",
        "      <td>C6REVANXX</td>\n",
        "      <td>0</td>\n",
        "      <td>P89-5</td>\n",
        "      <td>NA</td>\n",
        "    </tr>\n",
        "    <tr>\n",
        "      <th>lib8593</th>\n",
        "      <td>C6REVANXX</td>\n",
        "      <td>0</td>\n",
        "      <td>P89-5</td>\n",
        "      <td>0</td>\n",
        "    </tr>\n",
        "    <tr>\n",
        "      <th>lib8594</th>\n",
        "      <td>C6REVANXX</td>\n",
        "      <td>16.1413</td>\n",
        "      <td>P89-5</td>\n",
        "      <td>29916.2</td>\n",
        "    </tr>\n",
        "    <tr>\n",
        "      <th>lib8595</th>\n",
        "      <td>C6REVANXX</td>\n",
        "      <td>0</td>\n",
        "      <td>P89-5</td>\n",
        "      <td>NA</td>\n",
        "    </tr>\n",
        "    <tr>\n",
        "      <th>lib8596</th>\n",
        "      <td>C6REVANXX</td>\n",
        "      <td>0</td>\n",
        "      <td>P89-5</td>\n",
        "      <td>NA</td>\n",
        "    </tr>\n",
        "    <tr>\n",
        "      <th>lib8597</th>\n",
        "      <td>C6REVANXX</td>\n",
        "      <td>0</td>\n",
        "      <td>P89-5</td>\n",
        "      <td>NA</td>\n",
        "    </tr>\n",
        "    <tr>\n",
        "      <th>lib8598</th>\n",
        "      <td>C6REVANXX</td>\n",
        "      <td>0</td>\n",
        "      <td>P89-5</td>\n",
        "      <td>NA</td>\n",
        "    </tr>\n",
        "    <tr>\n",
        "      <th>lib8599</th>\n",
        "      <td>C6REVANXX</td>\n",
        "      <td>0</td>\n",
        "      <td>P89-5</td>\n",
        "      <td>0</td>\n",
        "    </tr>\n",
        "    <tr>\n",
        "      <th>lib8600</th>\n",
        "      <td>C6REVANXX</td>\n",
        "      <td>0</td>\n",
        "      <td>P89-5</td>\n",
        "      <td>0</td>\n",
        "    </tr>\n",
        "    <tr>\n",
        "      <th>lib8601</th>\n",
        "      <td>C6REVANXX</td>\n",
        "      <td>0</td>\n",
        "      <td>P89-5</td>\n",
        "      <td>0</td>\n",
        "    </tr>\n",
        "    <tr>\n",
        "      <th>lib8602</th>\n",
        "      <td>C6REVANXX</td>\n",
        "      <td>0</td>\n",
        "      <td>P89-5</td>\n",
        "      <td>NA</td>\n",
        "    </tr>\n",
        "    <tr>\n",
        "      <th>lib8603</th>\n",
        "      <td>C6REVANXX</td>\n",
        "      <td>0</td>\n",
        "      <td>P89-5</td>\n",
        "      <td>0</td>\n",
        "    </tr>\n",
        "    <tr>\n",
        "      <th>...</th>\n",
        "      <td>...</td>\n",
        "      <td>...</td>\n",
        "      <td>...</td>\n",
        "      <td>...</td>\n",
        "    </tr>\n",
        "    <tr>\n",
        "      <th>lib9176</th>\n",
        "      <td>C6REVANXX</td>\n",
        "      <td>0</td>\n",
        "      <td>P89-5</td>\n",
        "      <td>NA</td>\n",
        "    </tr>\n",
        "    <tr>\n",
        "      <th>lib9177</th>\n",
        "      <td>C6REVANXX</td>\n",
        "      <td>0</td>\n",
        "      <td>P89-5</td>\n",
        "      <td>NA</td>\n",
        "    </tr>\n",
        "    <tr>\n",
        "      <th>lib9178</th>\n",
        "      <td>C6REVANXX</td>\n",
        "      <td>0</td>\n",
        "      <td>P89-5</td>\n",
        "      <td>NA</td>\n",
        "    </tr>\n",
        "    <tr>\n",
        "      <th>lib9179</th>\n",
        "      <td>C6REVANXX</td>\n",
        "      <td>0</td>\n",
        "      <td>P89-5</td>\n",
        "      <td>NA</td>\n",
        "    </tr>\n",
        "    <tr>\n",
        "      <th>lib9180</th>\n",
        "      <td>C6REVANXX</td>\n",
        "      <td>0</td>\n",
        "      <td>P89-5</td>\n",
        "      <td>NA</td>\n",
        "    </tr>\n",
        "    <tr>\n",
        "      <th>lib9181</th>\n",
        "      <td>C6REVANXX</td>\n",
        "      <td>0</td>\n",
        "      <td>P89-5</td>\n",
        "      <td>0</td>\n",
        "    </tr>\n",
        "    <tr>\n",
        "      <th>lib9182</th>\n",
        "      <td>C6REVANXX</td>\n",
        "      <td>0</td>\n",
        "      <td>P89-5</td>\n",
        "      <td>0</td>\n",
        "    </tr>\n",
        "    <tr>\n",
        "      <th>lib9183</th>\n",
        "      <td>C6REVANXX</td>\n",
        "      <td>0</td>\n",
        "      <td>P89-5</td>\n",
        "      <td>0</td>\n",
        "    </tr>\n",
        "    <tr>\n",
        "      <th>lib9184</th>\n",
        "      <td>C6REVANXX</td>\n",
        "      <td>0</td>\n",
        "      <td>P89-5</td>\n",
        "      <td>0</td>\n",
        "    </tr>\n",
        "    <tr>\n",
        "      <th>lib9185</th>\n",
        "      <td>C6REVANXX</td>\n",
        "      <td>0</td>\n",
        "      <td>P89-5</td>\n",
        "      <td>0</td>\n",
        "    </tr>\n",
        "    <tr>\n",
        "      <th>lib9186</th>\n",
        "      <td>C6REVANXX</td>\n",
        "      <td>0</td>\n",
        "      <td>P89-5</td>\n",
        "      <td>0</td>\n",
        "    </tr>\n",
        "    <tr>\n",
        "      <th>lib9187</th>\n",
        "      <td>C6REVANXX</td>\n",
        "      <td>0</td>\n",
        "      <td>P89-5</td>\n",
        "      <td>0</td>\n",
        "    </tr>\n",
        "    <tr>\n",
        "      <th>lib9188</th>\n",
        "      <td>C6REVANXX</td>\n",
        "      <td>0</td>\n",
        "      <td>P89-5</td>\n",
        "      <td>NA</td>\n",
        "    </tr>\n",
        "    <tr>\n",
        "      <th>lib9189</th>\n",
        "      <td>C6REVANXX</td>\n",
        "      <td>130.6</td>\n",
        "      <td>P89-5</td>\n",
        "      <td>21379.4</td>\n",
        "    </tr>\n",
        "    <tr>\n",
        "      <th>lib9190</th>\n",
        "      <td>C6REVANXX</td>\n",
        "      <td>0</td>\n",
        "      <td>P89-5</td>\n",
        "      <td>0</td>\n",
        "    </tr>\n",
        "    <tr>\n",
        "      <th>lib9191</th>\n",
        "      <td>C6REVANXX</td>\n",
        "      <td>0</td>\n",
        "      <td>P89-5</td>\n",
        "      <td>NA</td>\n",
        "    </tr>\n",
        "    <tr>\n",
        "      <th>lib9192</th>\n",
        "      <td>C6REVANXX</td>\n",
        "      <td>0</td>\n",
        "      <td>P89-5</td>\n",
        "      <td>NA</td>\n",
        "    </tr>\n",
        "    <tr>\n",
        "      <th>lib9193</th>\n",
        "      <td>C6REVANXX</td>\n",
        "      <td>0</td>\n",
        "      <td>P89-5</td>\n",
        "      <td>0</td>\n",
        "    </tr>\n",
        "    <tr>\n",
        "      <th>lib9194</th>\n",
        "      <td>C6REVANXX</td>\n",
        "      <td>0</td>\n",
        "      <td>P89-5</td>\n",
        "      <td>0</td>\n",
        "    </tr>\n",
        "    <tr>\n",
        "      <th>lib9195</th>\n",
        "      <td>C6REVANXX</td>\n",
        "      <td>0</td>\n",
        "      <td>P89-5</td>\n",
        "      <td>0</td>\n",
        "    </tr>\n",
        "    <tr>\n",
        "      <th>lib9196</th>\n",
        "      <td>C6REVANXX</td>\n",
        "      <td>0</td>\n",
        "      <td>P89-5</td>\n",
        "      <td>0</td>\n",
        "    </tr>\n",
        "    <tr>\n",
        "      <th>lib9197</th>\n",
        "      <td>C6REVANXX</td>\n",
        "      <td>0</td>\n",
        "      <td>P89-5</td>\n",
        "      <td>0</td>\n",
        "    </tr>\n",
        "    <tr>\n",
        "      <th>lib9198</th>\n",
        "      <td>C6REVANXX</td>\n",
        "      <td>0</td>\n",
        "      <td>P89-5</td>\n",
        "      <td>NA</td>\n",
        "    </tr>\n",
        "    <tr>\n",
        "      <th>lib9199</th>\n",
        "      <td>C6REVANXX</td>\n",
        "      <td>0</td>\n",
        "      <td>P89-5</td>\n",
        "      <td>0</td>\n",
        "    </tr>\n",
        "    <tr>\n",
        "      <th>lib9200</th>\n",
        "      <td>C6REVANXX</td>\n",
        "      <td>0</td>\n",
        "      <td>P89-5</td>\n",
        "      <td>0</td>\n",
        "    </tr>\n",
        "    <tr>\n",
        "      <th>lib9201</th>\n",
        "      <td>C6REVANXX</td>\n",
        "      <td>0</td>\n",
        "      <td>P89-5</td>\n",
        "      <td>0</td>\n",
        "    </tr>\n",
        "    <tr>\n",
        "      <th>lib9202</th>\n",
        "      <td>C6REVANXX</td>\n",
        "      <td>0</td>\n",
        "      <td>P89-5</td>\n",
        "      <td>0</td>\n",
        "    </tr>\n",
        "    <tr>\n",
        "      <th>lib9203</th>\n",
        "      <td>C6REVANXX</td>\n",
        "      <td>0</td>\n",
        "      <td>P89-5</td>\n",
        "      <td>0</td>\n",
        "    </tr>\n",
        "    <tr>\n",
        "      <th>lib9204</th>\n",
        "      <td>C6REVANXX</td>\n",
        "      <td>0</td>\n",
        "      <td>P89-5</td>\n",
        "      <td>0</td>\n",
        "    </tr>\n",
        "    <tr>\n",
        "      <th>lib9205</th>\n",
        "      <td>C6REVANXX</td>\n",
        "      <td>0</td>\n",
        "      <td>P89-5</td>\n",
        "      <td>NA</td>\n",
        "    </tr>\n",
        "  </tbody>\n",
        "</table>\n",
        "<p>202 rows \u00d7 4 columns</p>\n",
        "</div>"
       ],
       "metadata": {},
       "output_type": "pyout",
       "prompt_number": 101,
       "text": [
        "          flowcell num_reads project      tpm\n",
        "lib8574  C6REVANXX         0   P89-5       NA\n",
        "lib8575  C6REVANXX         0   P89-5        0\n",
        "lib8576  C6REVANXX   112.945   P89-5  8541.16\n",
        "lib8577  C6REVANXX         0   P89-5       NA\n",
        "lib8578  C6REVANXX         0   P89-5        0\n",
        "lib8579  C6REVANXX         0   P89-5        0\n",
        "lib8580  C6REVANXX         0   P89-5       NA\n",
        "lib8581  C6REVANXX         0   P89-5       NA\n",
        "lib8582  C6REVANXX         0   P89-5       NA\n",
        "lib8583  C6REVANXX         0   P89-5        0\n",
        "lib8584  C6REVANXX         0   P89-5        0\n",
        "lib8585  C6REVANXX         0   P89-5        0\n",
        "lib8586  C6REVANXX         0   P89-5        0\n",
        "lib8587  C6REVANXX         0   P89-5        0\n",
        "lib8588  C6REVANXX         0   P89-5       NA\n",
        "lib8589  C6REVANXX         0   P89-5       NA\n",
        "lib8590  C6REVANXX         0   P89-5       NA\n",
        "lib8591  C6REVANXX         0   P89-5       NA\n",
        "lib8592  C6REVANXX         0   P89-5       NA\n",
        "lib8593  C6REVANXX         0   P89-5        0\n",
        "lib8594  C6REVANXX   16.1413   P89-5  29916.2\n",
        "lib8595  C6REVANXX         0   P89-5       NA\n",
        "lib8596  C6REVANXX         0   P89-5       NA\n",
        "lib8597  C6REVANXX         0   P89-5       NA\n",
        "lib8598  C6REVANXX         0   P89-5       NA\n",
        "lib8599  C6REVANXX         0   P89-5        0\n",
        "lib8600  C6REVANXX         0   P89-5        0\n",
        "lib8601  C6REVANXX         0   P89-5        0\n",
        "lib8602  C6REVANXX         0   P89-5       NA\n",
        "lib8603  C6REVANXX         0   P89-5        0\n",
        "...            ...       ...     ...      ...\n",
        "lib9176  C6REVANXX         0   P89-5       NA\n",
        "lib9177  C6REVANXX         0   P89-5       NA\n",
        "lib9178  C6REVANXX         0   P89-5       NA\n",
        "lib9179  C6REVANXX         0   P89-5       NA\n",
        "lib9180  C6REVANXX         0   P89-5       NA\n",
        "lib9181  C6REVANXX         0   P89-5        0\n",
        "lib9182  C6REVANXX         0   P89-5        0\n",
        "lib9183  C6REVANXX         0   P89-5        0\n",
        "lib9184  C6REVANXX         0   P89-5        0\n",
        "lib9185  C6REVANXX         0   P89-5        0\n",
        "lib9186  C6REVANXX         0   P89-5        0\n",
        "lib9187  C6REVANXX         0   P89-5        0\n",
        "lib9188  C6REVANXX         0   P89-5       NA\n",
        "lib9189  C6REVANXX     130.6   P89-5  21379.4\n",
        "lib9190  C6REVANXX         0   P89-5        0\n",
        "lib9191  C6REVANXX         0   P89-5       NA\n",
        "lib9192  C6REVANXX         0   P89-5       NA\n",
        "lib9193  C6REVANXX         0   P89-5        0\n",
        "lib9194  C6REVANXX         0   P89-5        0\n",
        "lib9195  C6REVANXX         0   P89-5        0\n",
        "lib9196  C6REVANXX         0   P89-5        0\n",
        "lib9197  C6REVANXX         0   P89-5        0\n",
        "lib9198  C6REVANXX         0   P89-5       NA\n",
        "lib9199  C6REVANXX         0   P89-5        0\n",
        "lib9200  C6REVANXX         0   P89-5        0\n",
        "lib9201  C6REVANXX         0   P89-5        0\n",
        "lib9202  C6REVANXX         0   P89-5        0\n",
        "lib9203  C6REVANXX         0   P89-5        0\n",
        "lib9204  C6REVANXX         0   P89-5        0\n",
        "lib9205  C6REVANXX         0   P89-5       NA\n",
        "\n",
        "[202 rows x 4 columns]"
       ]
      }
     ],
     "prompt_number": 101
    },
    {
     "cell_type": "code",
     "collapsed": false,
     "input": [
      "x = 1"
     ],
     "language": "python",
     "metadata": {},
     "outputs": [],
     "prompt_number": 102
    },
    {
     "cell_type": "code",
     "collapsed": false,
     "input": [
      "print \"%s foo\" % x"
     ],
     "language": "python",
     "metadata": {},
     "outputs": [
      {
       "output_type": "stream",
       "stream": "stdout",
       "text": [
        "1 foo\n"
       ]
      }
     ],
     "prompt_number": 106
    },
    {
     "cell_type": "code",
     "collapsed": false,
     "input": [],
     "language": "python",
     "metadata": {},
     "outputs": []
    }
   ],
   "metadata": {}
  }
 ]
}
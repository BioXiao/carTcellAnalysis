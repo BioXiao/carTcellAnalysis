{
 "cells": [
  {
   "cell_type": "code",
   "execution_count": 1,
   "metadata": {
    "collapsed": true
   },
   "outputs": [],
   "source": [
    "import sys, re\n",
    "from Bio import SeqIO\n",
    "from Bio.Seq import Seq\n",
    "from Bio.SeqRecord import SeqRecord\n",
    "from Bio.Alphabet import single_letter_alphabet"
   ]
  },
  {
   "cell_type": "code",
   "execution_count": 2,
   "metadata": {
    "collapsed": true
   },
   "outputs": [],
   "source": [
    "def read_fasta(fastaFile):\n",
    "    handle = open(fastaFile, \"rU\")\n",
    "    fastaRecords = list(SeqIO.parse(handle, \"fasta\"))\n",
    "    handle.close()\n",
    "\n",
    "    return fastaRecords"
   ]
  },
  {
   "cell_type": "code",
   "execution_count": 3,
   "metadata": {
    "collapsed": true
   },
   "outputs": [],
   "source": [
    "fastaFile = \"../data/sequence/hg38_CAR_transcripts.fa\"\n",
    "fastaRecords = read_fasta(fastaFile)"
   ]
  },
  {
   "cell_type": "code",
   "execution_count": 4,
   "metadata": {
    "collapsed": false
   },
   "outputs": [
    {
     "data": {
      "text/plain": [
       "SeqRecord(seq=Seq('ATGCTGCTGCTGGTGACCAGCCTGCTGCTGTGCGAGCTGCCCCACCCCGCCTTT...TGA', SingleLetterAlphabet()), id='CAR-1', name='CAR-1', description='CAR-1 gene=CAR', dbxrefs=[])"
      ]
     },
     "execution_count": 4,
     "metadata": {},
     "output_type": "execute_result"
    }
   ],
   "source": [
    "fastaRecords[0]"
   ]
  },
  {
   "cell_type": "code",
   "execution_count": 5,
   "metadata": {
    "collapsed": true
   },
   "outputs": [],
   "source": [
    "geneList = [\"CAR\", \"CSF2\", \"CD28\", \"TNFRSF9\", \"CD247\", \"EGFR\"]"
   ]
  },
  {
   "cell_type": "code",
   "execution_count": 8,
   "metadata": {
    "collapsed": false
   },
   "outputs": [],
   "source": [
    "fastaSubset = [r for r in fastaRecords \n",
    "               if re.search('(?<=gene=)\\w*', r.description).group() in geneList\n",
    "               and re.search('^NM', r.name)]"
   ]
  },
  {
   "cell_type": "code",
   "execution_count": 9,
   "metadata": {
    "collapsed": false
   },
   "outputs": [
    {
     "data": {
      "text/plain": [
       "[SeqRecord(seq=Seq('CAAGGAGGGATCCCACAGATGTCACAGGGCTGTCACAGAGCTGTGGTGGGAATT...AGA', SingleLetterAlphabet()), id='NM_001561', name='NM_001561', description='NM_001561 gene=TNFRSF9 CDS=262-1026', dbxrefs=[]),\n",
       " SeqRecord(seq=Seq('TGCTTTCTCAAAGGCCCCACAGTCCTCCACTTCCTGGGGAGGTAGCTGCAGAAT...GCA', SingleLetterAlphabet()), id='NM_000734', name='NM_000734', description='NM_000734 gene=CD247 CDS=146-634', dbxrefs=[]),\n",
       " SeqRecord(seq=Seq('TGCTTTCTCAAAGGCCCCACAGTCCTCCACTTCCTGGGGAGGTAGCTGCAGAAT...GCA', SingleLetterAlphabet()), id='NM_198053', name='NM_198053', description='NM_198053 gene=CD247 CDS=146-637', dbxrefs=[]),\n",
       " SeqRecord(seq=Seq('TAAAGTCATCAAAACAACGTTATATCCTGTGTGAAATGCTGCAGTCAGGATGCC...gaa', SingleLetterAlphabet()), id='NM_001243077', name='NM_001243077', description='NM_001243077 gene=CD28 CDS=223-592', dbxrefs=[]),\n",
       " SeqRecord(seq=Seq('TAAAGTCATCAAAACAACGTTATATCCTGTGTGAAATGCTGCAGTCAGGATGCC...gaa', SingleLetterAlphabet()), id='NM_001243078', name='NM_001243078', description='NM_001243078 gene=CD28 CDS=223-526', dbxrefs=[]),\n",
       " SeqRecord(seq=Seq('TAAAGTCATCAAAACAACGTTATATCCTGTGTGAAATGCTGCAGTCAGGATGCC...gaa', SingleLetterAlphabet()), id='NM_006139', name='NM_006139', description='NM_006139 gene=CD28 CDS=223-883', dbxrefs=[]),\n",
       " SeqRecord(seq=Seq('ACACAGAGAGAAAGGCTAAAGTTCTCTGGAGGATGTGGCTGCAGAGCCTGCTGC...TTG', SingleLetterAlphabet()), id='NM_000758', name='NM_000758', description='NM_000758 gene=CSF2 CDS=33-465', dbxrefs=[]),\n",
       " SeqRecord(seq=Seq('CCCCGGCGCAGCGCGGCCGCAGCAGCCTCCGCCCCCCGCACGGTGTGAGCGCCC...TAA', SingleLetterAlphabet()), id='NM_201283', name='NM_201283', description='NM_201283 gene=EGFR CDS=247-1462', dbxrefs=[]),\n",
       " SeqRecord(seq=Seq('CCCCGGCGCAGCGCGGCCGCAGCAGCCTCCGCCCCCCGCACGGTGTGAGCGCCC...TGA', SingleLetterAlphabet()), id='NM_201282', name='NM_201282', description='NM_201282 gene=EGFR CDS=247-2131', dbxrefs=[]),\n",
       " SeqRecord(seq=Seq('CCCCGGCGCAGCGCGGCCGCAGCAGCCTCCGCCCCCCGCACGGTGTGAGCGCCC...AGA', SingleLetterAlphabet()), id='NM_201284', name='NM_201284', description='NM_201284 gene=EGFR CDS=247-2362', dbxrefs=[]),\n",
       " SeqRecord(seq=Seq('CCCCGGCGCAGCGCGGCCGCAGCAGCCTCCGCCCCCCGCACGGTGTGAGCGCCC...CTA', SingleLetterAlphabet()), id='NM_005228', name='NM_005228', description='NM_005228 gene=EGFR CDS=247-3877', dbxrefs=[])]"
      ]
     },
     "execution_count": 9,
     "metadata": {},
     "output_type": "execute_result"
    }
   ],
   "source": [
    "fastaSubset"
   ]
  },
  {
   "cell_type": "code",
   "execution_count": 10,
   "metadata": {
    "collapsed": false
   },
   "outputs": [],
   "source": [
    "for record in fastaSubset:\n",
    "    name = record.name\n",
    "    gene = re.search('(?<=gene=)\\w*', record.description).group()\n",
    "    record.id = name"
   ]
  },
  {
   "cell_type": "code",
   "execution_count": 20,
   "metadata": {
    "collapsed": false
   },
   "outputs": [],
   "source": [
    "def write_fasta(fastaRecords, fastaOutFile):\n",
    "    with open(fastaOutFile, 'wb') as f:\n",
    "        writer = SeqIO.FastaIO.FastaWriter(f, wrap=70)\n",
    "        writer.write_file(fastaRecords)\n",
    "#         [ SeqIO.write(record, f, \"fasta\") for record in fastaRecords ]"
   ]
  },
  {
   "cell_type": "code",
   "execution_count": 21,
   "metadata": {
    "collapsed": true
   },
   "outputs": [],
   "source": [
    "write_fasta(fastaSubset, '../data/sequence/car_parts_overlap.fa')"
   ]
  },
  {
   "cell_type": "code",
   "execution_count": 11,
   "metadata": {
    "collapsed": false
   },
   "outputs": [
    {
     "data": {
      "text/plain": [
       "SeqRecord(seq=Seq('TGCTTTCTCAAAGGCCCCACAGTCCTCCACTTCCTGGGGAGGTAGCTGCAGAAT...GCA', SingleLetterAlphabet()), id='NM_000734', name='NM_000734', description='NM_000734 gene=CD247 CDS=146-634', dbxrefs=[])"
      ]
     },
     "execution_count": 11,
     "metadata": {},
     "output_type": "execute_result"
    }
   ],
   "source": [
    "SeqIO.FastaIO.FastaWriter()"
   ]
  },
  {
   "cell_type": "code",
   "execution_count": 22,
   "metadata": {
    "collapsed": false
   },
   "outputs": [
    {
     "data": {
      "text/plain": [
       "SeqRecord(seq=Seq('ATGCTGCTGCTGGTGACCAGCCTGCTGCTGTGCGAGCTGCCCCACCCCGCCTTT...TGA', SingleLetterAlphabet()), id='CAR-1', name='CAR-1', description='CAR-1 gene=CAR', dbxrefs=[])"
      ]
     },
     "execution_count": 22,
     "metadata": {},
     "output_type": "execute_result"
    }
   ],
   "source": [
    "fastaRecords[0]"
   ]
  },
  {
   "cell_type": "code",
   "execution_count": null,
   "metadata": {
    "collapsed": true
   },
   "outputs": [],
   "source": []
  }
 ],
 "metadata": {
  "kernelspec": {
   "display_name": "Python 2",
   "language": "python",
   "name": "python2"
  },
  "language_info": {
   "codemirror_mode": {
    "name": "ipython",
    "version": 2
   },
   "file_extension": ".py",
   "mimetype": "text/x-python",
   "name": "python",
   "nbconvert_exporter": "python",
   "pygments_lexer": "ipython2",
   "version": "2.7.11"
  }
 },
 "nbformat": 4,
 "nbformat_minor": 0
}
